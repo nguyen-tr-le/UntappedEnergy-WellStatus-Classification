{
 "cells": [
  {
   "cell_type": "code",
   "execution_count": 101,
   "metadata": {
    "ExecuteTime": {
     "end_time": "2020-07-22T02:39:56.074333Z",
     "start_time": "2020-07-22T02:39:54.279230Z"
    },
    "colab": {},
    "colab_type": "code",
    "executionInfo": {
     "elapsed": 456,
     "status": "ok",
     "timestamp": 1595986288596,
     "user": {
      "displayName": "Nguyen Le",
      "photoUrl": "",
      "userId": "04864493325434450657"
     },
     "user_tz": 360
    },
    "id": "fRDHo-VKFARn"
   },
   "outputs": [],
   "source": [
    "import numpy as np\n",
    "import pandas as pd\n",
    "import matplotlib.pyplot as plt\n",
    "import matplotlib\n",
    "import seaborn as sns"
   ]
  },
  {
   "cell_type": "code",
   "execution_count": 102,
   "metadata": {
    "colab": {},
    "colab_type": "code",
    "executionInfo": {
     "elapsed": 331,
     "status": "ok",
     "timestamp": 1595986311465,
     "user": {
      "displayName": "Nguyen Le",
      "photoUrl": "",
      "userId": "04864493325434450657"
     },
     "user_tz": 360
    },
    "id": "0nuE8gzUMXQl"
   },
   "outputs": [],
   "source": [
    "plt.style.use('ggplot')\n",
    "matplotlib.rcParams['figure.dpi']=100"
   ]
  },
  {
   "cell_type": "code",
   "execution_count": 2,
   "metadata": {
    "colab": {
     "base_uri": "https://localhost:8080/",
     "height": 131
    },
    "colab_type": "code",
    "executionInfo": {
     "elapsed": 18854,
     "status": "ok",
     "timestamp": 1595966148619,
     "user": {
      "displayName": "Nguyen Le",
      "photoUrl": "",
      "userId": "04864493325434450657"
     },
     "user_tz": 360
    },
    "id": "yEWJNJMFBwwz",
    "outputId": "10969f2c-d882-4239-be7c-f49268c31d9f",
    "scrolled": true
   },
   "outputs": [
    {
     "name": "stdout",
     "output_type": "stream",
     "text": [
      "Go to this URL in a browser: https://accounts.google.com/o/oauth2/auth?client_id=947318989803-6bn6qk8qdgf4n4g3pfee6491hc0brc4i.apps.googleusercontent.com&redirect_uri=urn%3aietf%3awg%3aoauth%3a2.0%3aoob&response_type=code&scope=email%20https%3a%2f%2fwww.googleapis.com%2fauth%2fdocs.test%20https%3a%2f%2fwww.googleapis.com%2fauth%2fdrive%20https%3a%2f%2fwww.googleapis.com%2fauth%2fdrive.photos.readonly%20https%3a%2f%2fwww.googleapis.com%2fauth%2fpeopleapi.readonly\n",
      "\n",
      "Enter your authorization code:\n",
      "··········\n",
      "Mounted at /gdrive\n"
     ]
    }
   ],
   "source": [
    "from google.colab import drive\n",
    "drive.mount('/gdrive')"
   ]
  },
  {
   "cell_type": "markdown",
   "metadata": {
    "colab_type": "text",
    "id": "YCYB-PJsFAUR"
   },
   "source": [
    "## Import Data"
   ]
  },
  {
   "cell_type": "code",
   "execution_count": 3,
   "metadata": {
    "ExecuteTime": {
     "end_time": "2020-07-22T02:40:15.999472Z",
     "start_time": "2020-07-22T02:39:56.076333Z"
    },
    "colab": {},
    "colab_type": "code",
    "executionInfo": {
     "elapsed": 36870,
     "status": "ok",
     "timestamp": 1595966166639,
     "user": {
      "displayName": "Nguyen Le",
      "photoUrl": "",
      "userId": "04864493325434450657"
     },
     "user_tz": 360
    },
    "id": "cN4W3wQMFAVi"
   },
   "outputs": [],
   "source": [
    "path = '/gdrive/My Drive/Colab Notebooks/Untapped Energy - Well Status/'\n",
    "# path = '../'\n",
    "x_train_raw = pd.read_csv(path + 'Header - train.txt', sep=',')\n",
    "x_vali_raw = pd.read_csv(path + 'Header - validation.txt', sep=',')\n",
    "\n",
    "y_train_raw = pd.read_csv(path + 'Well_class_train.txt', sep=',')\n",
    "y_vali_raw = pd.read_csv(path + 'Well_class_validate.txt', sep=',')"
   ]
  },
  {
   "cell_type": "code",
   "execution_count": 4,
   "metadata": {
    "ExecuteTime": {
     "end_time": "2020-07-22T02:40:16.013473Z",
     "start_time": "2020-07-22T02:40:16.003473Z"
    },
    "colab": {
     "base_uri": "https://localhost:8080/",
     "height": 92
    },
    "colab_type": "code",
    "executionInfo": {
     "elapsed": 36860,
     "status": "ok",
     "timestamp": 1595966166642,
     "user": {
      "displayName": "Nguyen Le",
      "photoUrl": "",
      "userId": "04864493325434450657"
     },
     "user_tz": 360
    },
    "id": "lcxzDBuAFAW-",
    "outputId": "6c85fabe-3c32-4208-fb9b-c3733d62b9e6"
   },
   "outputs": [
    {
     "name": "stdout",
     "output_type": "stream",
     "text": [
      "(588673, 90)\n",
      "(588673, 3)\n",
      "(132131, 90)\n",
      "(132131, 3)\n"
     ]
    }
   ],
   "source": [
    "print(x_train_raw.shape)\n",
    "print(y_train_raw.shape)\n",
    "print(x_vali_raw.shape)\n",
    "print(y_vali_raw.shape)"
   ]
  },
  {
   "cell_type": "code",
   "execution_count": 5,
   "metadata": {
    "ExecuteTime": {
     "end_time": "2020-07-22T02:40:16.122479Z",
     "start_time": "2020-07-22T02:40:16.019474Z"
    },
    "colab": {
     "base_uri": "https://localhost:8080/",
     "height": 129
    },
    "colab_type": "code",
    "executionInfo": {
     "elapsed": 36847,
     "status": "ok",
     "timestamp": 1595966166644,
     "user": {
      "displayName": "Nguyen Le",
      "photoUrl": "",
      "userId": "04864493325434450657"
     },
     "user_tz": 360
    },
    "id": "FwP9FN-_FAYF",
    "outputId": "8599edd8-fa64-4df4-cd39-17292c649100"
   },
   "outputs": [
    {
     "name": "stdout",
     "output_type": "stream",
     "text": [
      "0.18059941597457332\n",
      "0.17322959789905473\n",
      "0.39789832385721785\n",
      "0.37849558392807137\n",
      "0.42150226016820885\n",
      "0.4482748181728739\n"
     ]
    }
   ],
   "source": [
    "for status in y_train_raw['well_status_code'].unique(): \n",
    "    print(len(y_train_raw[y_train_raw['well_status_code']==status])/len(y_train_raw))\n",
    "    print(len(y_vali_raw[y_vali_raw['well_status_code']==status])/len(y_vali_raw))"
   ]
  },
  {
   "cell_type": "code",
   "execution_count": 6,
   "metadata": {
    "ExecuteTime": {
     "end_time": "2020-07-22T02:40:27.872151Z",
     "start_time": "2020-07-22T02:40:16.125480Z"
    },
    "colab": {},
    "colab_type": "code",
    "executionInfo": {
     "elapsed": 43753,
     "status": "ok",
     "timestamp": 1595966173553,
     "user": {
      "displayName": "Nguyen Le",
      "photoUrl": "",
      "userId": "04864493325434450657"
     },
     "user_tz": 360
    },
    "id": "MM9Zggc1FAZJ"
   },
   "outputs": [],
   "source": [
    "main = pd.merge(x_train_raw, y_train_raw, on='EPAssetsId', how='inner')\n",
    "mainvali = pd.merge(x_vali_raw, y_vali_raw, on='EPAssetsId', how='inner')"
   ]
  },
  {
   "cell_type": "code",
   "execution_count": 7,
   "metadata": {
    "ExecuteTime": {
     "end_time": "2020-07-22T02:40:37.270689Z",
     "start_time": "2020-07-22T02:40:27.874152Z"
    },
    "colab": {
     "base_uri": "https://localhost:8080/",
     "height": 54
    },
    "colab_type": "code",
    "executionInfo": {
     "elapsed": 49044,
     "status": "ok",
     "timestamp": 1595966178854,
     "user": {
      "displayName": "Nguyen Le",
      "photoUrl": "",
      "userId": "04864493325434450657"
     },
     "user_tz": 360
    },
    "id": "Hm4k_WaIFAZo",
    "outputId": "34dd8d04-451b-496f-a67c-c9d2ea365e01"
   },
   "outputs": [
    {
     "name": "stdout",
     "output_type": "stream",
     "text": [
      "True\n",
      "True\n"
     ]
    }
   ],
   "source": [
    "print(np.all(main.duplicated()==False))\n",
    "print(np.all(mainvali.duplicated()==False))"
   ]
  },
  {
   "cell_type": "code",
   "execution_count": 8,
   "metadata": {
    "ExecuteTime": {
     "end_time": "2020-07-22T02:40:37.283690Z",
     "start_time": "2020-07-22T02:40:37.272689Z"
    },
    "colab": {
     "base_uri": "https://localhost:8080/",
     "height": 448
    },
    "colab_type": "code",
    "executionInfo": {
     "elapsed": 49035,
     "status": "ok",
     "timestamp": 1595966178855,
     "user": {
      "displayName": "Nguyen Le",
      "photoUrl": "",
      "userId": "04864493325434450657"
     },
     "user_tz": 360
    },
    "id": "m84hRkCSFAaV",
    "outputId": "682e91f2-4f59-45b6-b6af-e394de0bd854"
   },
   "outputs": [
    {
     "data": {
      "text/plain": [
       "Index(['EPAssetsId', 'Province', 'LicenceNumber', 'UWI', 'CurrentOperator',\n",
       "       'CurrentOperatorParent', 'CurrentOperatorID', 'Licensee',\n",
       "       'LicenseeParentCompany', 'LicenseeID', 'LicenceDate', 'WellType',\n",
       "       'WellTypeStandardised', 'ConfidentialReleaseDate', 'SurfAbandonDate',\n",
       "       'WellName', 'WellNameAmended', 'Formation', 'Field', 'Pool',\n",
       "       'SurveySystem', 'Surf_Location', 'Surf_Township', 'Surf_Meridian',\n",
       "       'Surf_Range', 'Surf_Section', 'Surf_LSD', 'Surf_Longitude',\n",
       "       'Surf_Latitude', 'Surf_TownshipRange', 'Surf_QuarterUnit', 'Surf_Unit',\n",
       "       'Surf_Block', 'Surf_NTSMapSheet', 'Surf_Series', 'Surf_Area',\n",
       "       'Surf_Sheet', 'Surf_QuarterSection', 'BH_Location', 'BH_TownshipRange',\n",
       "       'BH_QuarterUnit', 'BH_Unit', 'BH_Block', 'BH_NTSMapSheet', 'BH_Series',\n",
       "       'BH_Area', 'BH_Sheet', 'BH_QuarterSection', 'BH_Longitude',\n",
       "       'BH_Latitude', 'BH_Township', 'BH_Meridian', 'BH_Range', 'BH_Section',\n",
       "       'BH_LSD', 'GroundElevation', 'KBElevation', 'TotalDepth', 'LaheeClass',\n",
       "       'Confidential', 'SurfaceOwner', 'OSArea', 'OSDeposit',\n",
       "       'DrillingContractor', 'SpudDate', 'FinalDrillDate', 'RigReleaseDate',\n",
       "       'DaysDrilling', 'DrillMetresPerDay', 'TVD', 'WellProfile',\n",
       "       'WellSymbPt1', 'Country', 'RegulatoryAgency', 'NumberofWells',\n",
       "       'PSACAreaCode', 'PSACAreaName', 'ProjectedDepth', 'StatusDate',\n",
       "       'StatusSource', 'UnitID', 'UnitName', 'UnitFlag', 'Municipality',\n",
       "       'CompletionDate', 'Agent', '_Max`Prod`(BOE)', '_Fracture`Stages',\n",
       "       '_Open`Hole', '_Completion`Events', 'well_status', 'well_status_code'],\n",
       "      dtype='object')"
      ]
     },
     "execution_count": 8,
     "metadata": {
      "tags": []
     },
     "output_type": "execute_result"
    }
   ],
   "source": [
    "main.columns"
   ]
  },
  {
   "cell_type": "markdown",
   "metadata": {
    "colab_type": "text",
    "id": "iUeCkBunFAa1"
   },
   "source": [
    "## Data QC and Feature Engineering"
   ]
  },
  {
   "cell_type": "code",
   "execution_count": 9,
   "metadata": {
    "ExecuteTime": {
     "end_time": "2020-07-22T02:40:37.349694Z",
     "start_time": "2020-07-22T02:40:37.289690Z"
    },
    "colab": {
     "base_uri": "https://localhost:8080/",
     "height": 54
    },
    "colab_type": "code",
    "executionInfo": {
     "elapsed": 49028,
     "status": "ok",
     "timestamp": 1595966178857,
     "user": {
      "displayName": "Nguyen Le",
      "photoUrl": "",
      "userId": "04864493325434450657"
     },
     "user_tz": 360
    },
    "id": "mXRc-QqyFAa6",
    "outputId": "e7ca2121-025c-460d-ecea-233beca10af5"
   },
   "outputs": [
    {
     "name": "stdout",
     "output_type": "stream",
     "text": [
      "0\n",
      "0\n"
     ]
    }
   ],
   "source": [
    "print(np.sum(main['Province'].isna()))\n",
    "print(np.sum(mainvali['Province'].isna()))"
   ]
  },
  {
   "cell_type": "code",
   "execution_count": 10,
   "metadata": {
    "ExecuteTime": {
     "end_time": "2020-07-22T02:40:37.365694Z",
     "start_time": "2020-07-22T02:40:37.354694Z"
    },
    "colab": {
     "base_uri": "https://localhost:8080/",
     "height": 54
    },
    "colab_type": "code",
    "executionInfo": {
     "elapsed": 49019,
     "status": "ok",
     "timestamp": 1595966178858,
     "user": {
      "displayName": "Nguyen Le",
      "photoUrl": "",
      "userId": "04864493325434450657"
     },
     "user_tz": 360
    },
    "id": "-HmiRZNQFAbP",
    "outputId": "80f2426f-8629-4d67-eeb2-1e6353af1429"
   },
   "outputs": [
    {
     "name": "stdout",
     "output_type": "stream",
     "text": [
      "0\n",
      "0\n"
     ]
    }
   ],
   "source": [
    "print(np.sum(main['CurrentOperatorParent'].isna()))\n",
    "print(np.sum(mainvali['CurrentOperatorParent'].isna()))"
   ]
  },
  {
   "cell_type": "code",
   "execution_count": 11,
   "metadata": {
    "ExecuteTime": {
     "end_time": "2020-07-22T02:40:37.428698Z",
     "start_time": "2020-07-22T02:40:37.368695Z"
    },
    "colab": {
     "base_uri": "https://localhost:8080/",
     "height": 54
    },
    "colab_type": "code",
    "executionInfo": {
     "elapsed": 49011,
     "status": "ok",
     "timestamp": 1595966178860,
     "user": {
      "displayName": "Nguyen Le",
      "photoUrl": "",
      "userId": "04864493325434450657"
     },
     "user_tz": 360
    },
    "id": "8QQ8p2a0FAbp",
    "outputId": "25c7bebb-2693-4254-8b06-ecfd14187cf6"
   },
   "outputs": [
    {
     "name": "stdout",
     "output_type": "stream",
     "text": [
      "0\n",
      "0\n"
     ]
    }
   ],
   "source": [
    "print(np.sum(main['WellTypeStandardised'].isna()))\n",
    "print(np.sum(mainvali['WellTypeStandardised'].isna()))"
   ]
  },
  {
   "cell_type": "code",
   "execution_count": 12,
   "metadata": {
    "ExecuteTime": {
     "end_time": "2020-07-22T02:40:37.436699Z",
     "start_time": "2020-07-22T02:40:37.431698Z"
    },
    "colab": {},
    "colab_type": "code",
    "executionInfo": {
     "elapsed": 49009,
     "status": "ok",
     "timestamp": 1595966178861,
     "user": {
      "displayName": "Nguyen Le",
      "photoUrl": "",
      "userId": "04864493325434450657"
     },
     "user_tz": 360
    },
    "id": "EiW7c8tiFAb-"
   },
   "outputs": [],
   "source": [
    "# #Simplify WellTypeStandardised\n",
    "# main.WellTypeStandardised.replace(['Bitumen','Bitumen - Cyclical','Coalbed Methane','Commingled',\n",
    "#                                 'Commingled - Gas','Commingled - Oil','Commingled - Water',\n",
    "#                                 'Commingled Bitumen','Commingled Coalbed Methane',\n",
    "#                                 'Commingled Gas','Commingled Oil','Oil','Oil & Gas','Oil - Cyclical',\n",
    "#                                 'SAGD'],'Production',inplace=True)\n",
    "# main.WellTypeStandardised.replace(['Commingled Disposal - Water','Commingled Injection - Steam',\n",
    "#                                 'Commingled Injection - Water','Disposal - Acid Gas','Disposal - Brine',\n",
    "#                                 'Disposal - Gas','Disposal - Salt Water','Disposal - Unspecified',\n",
    "#                                 'Disposal - Waste','Disposal - Water','Injection - Air (Combustion)',\n",
    "#                                 'Injection - CO2','Injection - Gas','Injection - Nitrogen',\n",
    "#                                 'Injection - Oxygen','Injection - Polymer','Injection - Salt Water',\n",
    "#                                 'Injection - Solvent','Injection - Steam','Injection - Unspecified',\n",
    "#                                 'Injection - Water','Injection - Water Alternating Gas',\n",
    "#                                 'Injetcion - Polymer','Storage - Gas','Storage - LPG'],'Injection',inplace=True)\n",
    "# main.WellTypeStandardised.replace(['Commingled Observation','Confidential','Crude Oil Observation',\n",
    "#                                 'Development Service Well','Domestic Water','Drain',\n",
    "#                                 'Evaluation','Experimental','Farm Gas','Farm Water','Gas',\n",
    "#                                 'Industrial Waste','Observation','Oil Sands Evaluation','Other','Potash',\n",
    "#                                 'Salt Water','Source Water','Stratigraphic Test','Test','Test Hole',\n",
    "#                                 'Training','Unspecified','Water','Water Source'],'Other',inplace=True)\n",
    "\n",
    "# mainvali.WellTypeStandardised.replace(['Bitumen','Bitumen - Cyclical','Coalbed Methane','Commingled',\n",
    "#                                 'Commingled - Gas','Commingled - Oil','Commingled - Water',\n",
    "#                                 'Commingled Bitumen','Commingled Coalbed Methane',\n",
    "#                                 'Commingled Gas','Commingled Oil','Oil','Oil & Gas','Oil - Cyclical',\n",
    "#                                 'SAGD'],'Production',inplace=True)\n",
    "# mainvali.WellTypeStandardised.replace(['Commingled Disposal - Water','Commingled Injection - Steam',\n",
    "#                                 'Commingled Injection - Water','Disposal - Acid Gas','Disposal - Brine',\n",
    "#                                 'Disposal - Gas','Disposal - Salt Water','Disposal - Unspecified',\n",
    "#                                 'Disposal - Waste','Disposal - Water','Injection - Air (Combustion)',\n",
    "#                                 'Injection - CO2','Injection - Gas','Injection - Nitrogen',\n",
    "#                                 'Injection - Oxygen','Injection - Polymer','Injection - Salt Water',\n",
    "#                                 'Injection - Solvent','Injection - Steam','Injection - Unspecified',\n",
    "#                                 'Injection - Water','Injection - Water Alternating Gas',\n",
    "#                                 'Injetcion - Polymer','Storage - Gas','Storage - LPG'],'Injection',inplace=True)\n",
    "# mainvali.WellTypeStandardised.replace(['Commingled Observation','Confidential','Crude Oil Observation',\n",
    "#                                 'Development Service Well','Domestic Water','Drain',\n",
    "#                                 'Evaluation','Experimental','Farm Gas','Farm Water','Gas',\n",
    "#                                 'Industrial Waste','Observation','Oil Sands Evaluation','Other','Potash',\n",
    "#                                 'Salt Water','Source Water','Stratigraphic Test','Test','Test Hole',\n",
    "#                                 'Training','Unspecified','Water','Water Source'],'Other',inplace=True)"
   ]
  },
  {
   "cell_type": "code",
   "execution_count": 13,
   "metadata": {
    "ExecuteTime": {
     "end_time": "2020-07-22T02:40:37.518703Z",
     "start_time": "2020-07-22T02:40:37.439699Z"
    },
    "colab": {
     "base_uri": "https://localhost:8080/",
     "height": 54
    },
    "colab_type": "code",
    "executionInfo": {
     "elapsed": 49000,
     "status": "ok",
     "timestamp": 1595966178863,
     "user": {
      "displayName": "Nguyen Le",
      "photoUrl": "",
      "userId": "04864493325434450657"
     },
     "user_tz": 360
    },
    "id": "_3Bbkl_tFAcT",
    "outputId": "447079f3-cf76-4a10-b807-b119cc70c925"
   },
   "outputs": [
    {
     "name": "stdout",
     "output_type": "stream",
     "text": [
      "0\n",
      "0\n"
     ]
    }
   ],
   "source": [
    "print(np.sum(main['LaheeClass'].isna()))\n",
    "print(np.sum(mainvali['LaheeClass'].isna()))"
   ]
  },
  {
   "cell_type": "code",
   "execution_count": 14,
   "metadata": {
    "ExecuteTime": {
     "end_time": "2020-07-22T02:40:37.526704Z",
     "start_time": "2020-07-22T02:40:37.521703Z"
    },
    "colab": {},
    "colab_type": "code",
    "executionInfo": {
     "elapsed": 48997,
     "status": "ok",
     "timestamp": 1595966178863,
     "user": {
      "displayName": "Nguyen Le",
      "photoUrl": "",
      "userId": "04864493325434450657"
     },
     "user_tz": 360
    },
    "id": "38CIwctKFAcv"
   },
   "outputs": [],
   "source": [
    "# #Simplify Lahee Class\n",
    "# main.LaheeClass.replace(['Confidential','Development Service Well','Non Issued Licence'],'Development',inplace=True)\n",
    "# main.LaheeClass.replace(['Deeper Pool Test','Experimental','Oil Sands Evaluation','Potash Test Hole','Re-entry','Shallower Pool Test','Outpost','Test Hole','Unspecified'],'Other',inplace=True)\n",
    "# main.LaheeClass.replace(['New Pool Wildcat','New Field Wildcat','Deeper Pool Wildcat'],'Wildcat',inplace=True)\n",
    "\n",
    "# mainvali.LaheeClass.replace(['Confidential','Development Service Well','Non Issued Licence'],'Development',inplace=True)\n",
    "# mainvali.LaheeClass.replace(['Deeper Pool Test','Experimental','Oil Sands Evaluation','Potash Test Hole','Re-entry','Shallower Pool Test','Outpost','Test Hole','Unspecified'],'Other',inplace=True)\n",
    "# mainvali.LaheeClass.replace(['New Pool Wildcat','New Field Wildcat','Deeper Pool Wildcat'],'Wildcat',inplace=True)"
   ]
  },
  {
   "cell_type": "code",
   "execution_count": 15,
   "metadata": {
    "ExecuteTime": {
     "end_time": "2020-07-22T02:40:37.598708Z",
     "start_time": "2020-07-22T02:40:37.530704Z"
    },
    "colab": {},
    "colab_type": "code",
    "executionInfo": {
     "elapsed": 49171,
     "status": "ok",
     "timestamp": 1595966179039,
     "user": {
      "displayName": "Nguyen Le",
      "photoUrl": "",
      "userId": "04864493325434450657"
     },
     "user_tz": 360
    },
    "id": "RjUu_2VtFAdN"
   },
   "outputs": [],
   "source": [
    "# #Confidential released or not\n",
    "# main['ConfidentialRelease'] = np.where(main.ConfidentialReleaseDate.isnull(),0,1)\n",
    "# mainvali['ConfidentialRelease'] = np.where(mainvali.ConfidentialReleaseDate.isnull(),0,1)\n",
    "\n",
    "#Abandoned or not\n",
    "main['SurfAbandon'] = np.where(main.SurfAbandonDate.isnull(),0,1)\n",
    "mainvali['SurfAbandon'] = np.where(mainvali.SurfAbandonDate.isnull(),0,1)\n",
    "\n",
    "# #Spudded or not\n",
    "# main['Spud'] = np.where(main.SpudDate.isnull(),0,1)\n",
    "# mainvali['Spud'] = np.where(mainvali.SpudDate.isnull(),0,1)\n",
    "\n",
    "# #Rig released or not\n",
    "# main['RigRelease'] = np.where(main.RigReleaseDate.isnull(),0,1)\n",
    "# mainvali['RigRelease'] = np.where(mainvali.RigReleaseDate.isnull(),0,1)"
   ]
  },
  {
   "cell_type": "code",
   "execution_count": 16,
   "metadata": {
    "ExecuteTime": {
     "end_time": "2020-07-22T02:40:40.790890Z",
     "start_time": "2020-07-22T02:40:37.602708Z"
    },
    "colab": {},
    "colab_type": "code",
    "executionInfo": {
     "elapsed": 51132,
     "status": "ok",
     "timestamp": 1595966181004,
     "user": {
      "displayName": "Nguyen Le",
      "photoUrl": "",
      "userId": "04864493325434450657"
     },
     "user_tz": 360
    },
    "id": "Azsv3JARFAdo"
   },
   "outputs": [],
   "source": [
    "#Remove active wells having SurfAbandon\n",
    "I = main[main['SurfAbandon']==1]\n",
    "main.drop(I[I.well_status_code==1].index, inplace=True)\n",
    "main.drop(I[I.well_status_code==2].index, inplace=True)"
   ]
  },
  {
   "cell_type": "code",
   "execution_count": 17,
   "metadata": {
    "ExecuteTime": {
     "end_time": "2020-07-22T02:40:41.066906Z",
     "start_time": "2020-07-22T02:40:40.794891Z"
    },
    "colab": {
     "base_uri": "https://localhost:8080/",
     "height": 129
    },
    "colab_type": "code",
    "executionInfo": {
     "elapsed": 51126,
     "status": "ok",
     "timestamp": 1595966181008,
     "user": {
      "displayName": "Nguyen Le",
      "photoUrl": "",
      "userId": "04864493325434450657"
     },
     "user_tz": 360
    },
    "id": "VAxuUWZzFAeR",
    "outputId": "88fb97c5-6a57-4309-ab83-5084e3940245"
   },
   "outputs": [
    {
     "data": {
      "text/plain": [
       "SurfAbandon  well_status_code\n",
       "0            1                   233711\n",
       "             2                   105461\n",
       "             0                   100353\n",
       "1            0                   147774\n",
       "Name: well_status_code, dtype: int64"
      ]
     },
     "execution_count": 17,
     "metadata": {
      "tags": []
     },
     "output_type": "execute_result"
    }
   ],
   "source": [
    "#Check if any active wells have SurfAbandon\n",
    "main.groupby('SurfAbandon',as_index=True)['well_status_code'].value_counts()"
   ]
  },
  {
   "cell_type": "code",
   "execution_count": 18,
   "metadata": {
    "ExecuteTime": {
     "end_time": "2020-07-22T02:40:41.073907Z",
     "start_time": "2020-07-22T02:40:41.069906Z"
    },
    "colab": {},
    "colab_type": "code",
    "executionInfo": {
     "elapsed": 51124,
     "status": "ok",
     "timestamp": 1595966181009,
     "user": {
      "displayName": "Nguyen Le",
      "photoUrl": "",
      "userId": "04864493325434450657"
     },
     "user_tz": 360
    },
    "id": "rOqNAQNDFAe8"
   },
   "outputs": [],
   "source": [
    "# #calculate confidentialrelease_day and rigrelease_day\n",
    "# main['ConfidentialReleaseDate'] = main['ConfidentialReleaseDate'].replace(['12/31/9999 12:00:00 AM'],'',inplace=True)\n",
    "# main['ConfidentialReleaseDate'] = pd.to_datetime(main['ConfidentialReleaseDate'])\n",
    "# main['ConfidentialReleaseDate_day_calc'] = pd.to_timedelta(main['ConfidentialReleaseDate'])\n",
    "# main['ConfidentialReleaseDate_day_calc'] = main['ConfidentialReleaseDate_day_calc'].dt.days\n",
    "# main['ConfidentialReleaseDate_day_calc'] = main['ConfidentialReleaseDate_day_calc'].fillna(0)\n",
    "\n",
    "# main['RigReleaseDate'] = pd.to_datetime(main['RigReleaseDate'])\n",
    "# main['RigReleaseDate_day_calc'] = pd.to_timedelta(main['ConfidentialReleaseDate'])\n",
    "# main['RigReleaseDate_day_calc'] = main['RigReleaseDate_day_calc'].dt.days\n",
    "# main['RigReleaseDate_day_calc'] = main['RigReleaseDate_day_calc'].fillna(0)\n",
    "\n",
    "# mainvali['ConfidentialReleaseDate'] = mainvali['ConfidentialReleaseDate'].replace(['12/31/9999 12:00:00 AM'],'',inplace=True)\n",
    "# mainvali['ConfidentialReleaseDate'] = pd.to_datetime(mainvali['ConfidentialReleaseDate'])\n",
    "# mainvali['ConfidentialReleaseDate_day_calc'] = pd.to_timedelta(mainvali['ConfidentialReleaseDate'])\n",
    "# mainvali['ConfidentialReleaseDate_day_calc'] = mainvali['ConfidentialReleaseDate_day_calc'].dt.days\n",
    "# mainvali['ConfidentialReleaseDate_day_calc'] = mainvali['ConfidentialReleaseDate_day_calc'].fillna(0)\n",
    "\n",
    "# mainvali['RigReleaseDate'] = pd.to_datetime(mainvali['RigReleaseDate'])\n",
    "# mainvali['RigReleaseDate_day_calc'] = pd.to_timedelta(mainvali['ConfidentialReleaseDate'])\n",
    "# mainvali['RigReleaseDate_day_calc'] = mainvali['RigReleaseDate_day_calc'].dt.days\n",
    "# mainvali['RigReleaseDate_day_calc'] = mainvali['RigReleaseDate_day_calc'].fillna(0)"
   ]
  },
  {
   "cell_type": "code",
   "execution_count": 19,
   "metadata": {
    "ExecuteTime": {
     "end_time": "2020-07-22T02:40:41.154911Z",
     "start_time": "2020-07-22T02:40:41.076907Z"
    },
    "colab": {
     "base_uri": "https://localhost:8080/",
     "height": 54
    },
    "colab_type": "code",
    "executionInfo": {
     "elapsed": 51116,
     "status": "ok",
     "timestamp": 1595966181011,
     "user": {
      "displayName": "Nguyen Le",
      "photoUrl": "",
      "userId": "04864493325434450657"
     },
     "user_tz": 360
    },
    "id": "zDssupuJFAfS",
    "outputId": "a59e87e5-06de-4e1e-ab10-c3608c48b4f8"
   },
   "outputs": [
    {
     "name": "stdout",
     "output_type": "stream",
     "text": [
      "0\n",
      "0\n"
     ]
    }
   ],
   "source": [
    "print(np.sum(main['LaheeClass'].isna()))\n",
    "print(np.sum(mainvali['LaheeClass'].isna()))"
   ]
  },
  {
   "cell_type": "code",
   "execution_count": 20,
   "metadata": {
    "ExecuteTime": {
     "end_time": "2020-07-22T02:40:41.162912Z",
     "start_time": "2020-07-22T02:40:41.157911Z"
    },
    "colab": {},
    "colab_type": "code",
    "executionInfo": {
     "elapsed": 51116,
     "status": "ok",
     "timestamp": 1595966181013,
     "user": {
      "displayName": "Nguyen Le",
      "photoUrl": "",
      "userId": "04864493325434450657"
     },
     "user_tz": 360
    },
    "id": "GiN9RW-AFAgA"
   },
   "outputs": [],
   "source": [
    "# #Simplify Lahee Class\n",
    "# main.LaheeClass.replace(['Confidential','Development Service Well','Non Issued Licence'],'Development',inplace=True)\n",
    "# main.LaheeClass.replace(['Deeper Pool Test','Experimental','Oil Sands Evaluation','Potash Test Hole','Re-entry','Shallower Pool Test','Outpost','Test Hole','Unspecified'],'Other',inplace=True)\n",
    "# main.LaheeClass.replace(['New Pool Wildcat','New Field Wildcat','Deeper Pool Wildcat'],'Wildcat',inplace=True)\n",
    "\n",
    "# mainvali.LaheeClass.replace(['Confidential','Development Service Well','Non Issued Licence'],'Development',inplace=True)\n",
    "# mainvali.LaheeClass.replace(['Deeper Pool Test','Experimental','Oil Sands Evaluation','Potash Test Hole','Re-entry','Shallower Pool Test','Outpost','Test Hole','Unspecified'],'Other',inplace=True)\n",
    "# mainvali.LaheeClass.replace(['New Pool Wildcat','New Field Wildcat','Deeper Pool Wildcat'],'Wildcat',inplace=True)"
   ]
  },
  {
   "cell_type": "code",
   "execution_count": 21,
   "metadata": {
    "ExecuteTime": {
     "end_time": "2020-07-22T02:40:41.232916Z",
     "start_time": "2020-07-22T02:40:41.166912Z"
    },
    "colab": {
     "base_uri": "https://localhost:8080/",
     "height": 54
    },
    "colab_type": "code",
    "executionInfo": {
     "elapsed": 51108,
     "status": "ok",
     "timestamp": 1595966181014,
     "user": {
      "displayName": "Nguyen Le",
      "photoUrl": "",
      "userId": "04864493325434450657"
     },
     "user_tz": 360
    },
    "id": "paxxhAtXFAgZ",
    "outputId": "3812ef83-b904-4b74-c284-be9f2f737f46"
   },
   "outputs": [
    {
     "name": "stdout",
     "output_type": "stream",
     "text": [
      "0\n",
      "0\n"
     ]
    }
   ],
   "source": [
    "print(np.sum(main['Formation'].isna()))\n",
    "print(np.sum(mainvali['Formation'].isna()))"
   ]
  },
  {
   "cell_type": "code",
   "execution_count": 22,
   "metadata": {
    "ExecuteTime": {
     "end_time": "2020-07-22T02:40:43.470044Z",
     "start_time": "2020-07-22T02:40:41.235916Z"
    },
    "colab": {},
    "colab_type": "code",
    "executionInfo": {
     "elapsed": 52210,
     "status": "ok",
     "timestamp": 1595966182119,
     "user": {
      "displayName": "Nguyen Le",
      "photoUrl": "",
      "userId": "04864493325434450657"
     },
     "user_tz": 360
    },
    "id": "phIKnbLOFAg2",
    "scrolled": false
   },
   "outputs": [],
   "source": [
    "for fmt in np.unique(main['Formation']): \n",
    "    if fmt.split()[-1] == 'Formation': \n",
    "        main.Formation.replace([fmt],' '.join(fmt.split()[:-1]),inplace=True)\n",
    "        \n",
    "for fmt in np.unique(mainvali['Formation']): \n",
    "    if fmt.split()[-1] == 'Formation': \n",
    "        mainvali.Formation.replace([fmt],' '.join(fmt.split()[:-1]),inplace=True)"
   ]
  },
  {
   "cell_type": "code",
   "execution_count": 23,
   "metadata": {
    "ExecuteTime": {
     "end_time": "2020-07-22T02:40:43.521047Z",
     "start_time": "2020-07-22T02:40:43.471044Z"
    },
    "colab": {
     "base_uri": "https://localhost:8080/",
     "height": 54
    },
    "colab_type": "code",
    "executionInfo": {
     "elapsed": 52207,
     "status": "ok",
     "timestamp": 1595966182124,
     "user": {
      "displayName": "Nguyen Le",
      "photoUrl": "",
      "userId": "04864493325434450657"
     },
     "user_tz": 360
    },
    "id": "JCjazvrhFAha",
    "outputId": "8bcadb32-d9c7-4ddd-a40a-b04e0899d31d",
    "scrolled": true
   },
   "outputs": [
    {
     "name": "stdout",
     "output_type": "stream",
     "text": [
      "0\n",
      "0\n"
     ]
    }
   ],
   "source": [
    "print(np.sum(main['Field'].isna()))\n",
    "print(np.sum(mainvali['Field'].isna()))"
   ]
  },
  {
   "cell_type": "code",
   "execution_count": 24,
   "metadata": {
    "ExecuteTime": {
     "end_time": "2020-07-22T02:40:43.592051Z",
     "start_time": "2020-07-22T02:40:43.528047Z"
    },
    "colab": {},
    "colab_type": "code",
    "executionInfo": {
     "elapsed": 52206,
     "status": "ok",
     "timestamp": 1595966182126,
     "user": {
      "displayName": "Nguyen Le",
      "photoUrl": "",
      "userId": "04864493325434450657"
     },
     "user_tz": 360
    },
    "id": "SHhbNomBFAh2"
   },
   "outputs": [],
   "source": [
    "main['Pool'] = main['Pool'].fillna('Unspecified')\n",
    "mainvali['Pool'] = mainvali['Pool'].fillna('Unspecified')"
   ]
  },
  {
   "cell_type": "code",
   "execution_count": 25,
   "metadata": {
    "ExecuteTime": {
     "end_time": "2020-07-22T02:40:43.599051Z",
     "start_time": "2020-07-22T02:40:43.596051Z"
    },
    "colab": {},
    "colab_type": "code",
    "executionInfo": {
     "elapsed": 52205,
     "status": "ok",
     "timestamp": 1595966182127,
     "user": {
      "displayName": "Nguyen Le",
      "photoUrl": "",
      "userId": "04864493325434450657"
     },
     "user_tz": 360
    },
    "id": "mZ5NDdO4FAi8"
   },
   "outputs": [],
   "source": [
    "# main['GroundElevation'] = main['GroundElevation'].fillna('nan')\n",
    "# main['KBElevation'] = main['KBElevation'].fillna('nan')\n",
    "\n",
    "# mainvali['GroundElevation'] = mainvali['GroundElevation'].fillna('nan')\n",
    "# mainvali['KBElevation'] = mainvali['KBElevation'].fillna('nan')"
   ]
  },
  {
   "cell_type": "code",
   "execution_count": 26,
   "metadata": {
    "ExecuteTime": {
     "end_time": "2020-07-22T02:40:43.607051Z",
     "start_time": "2020-07-22T02:40:43.604051Z"
    },
    "colab": {},
    "colab_type": "code",
    "executionInfo": {
     "elapsed": 52204,
     "status": "ok",
     "timestamp": 1595966182128,
     "user": {
      "displayName": "Nguyen Le",
      "photoUrl": "",
      "userId": "04864493325434450657"
     },
     "user_tz": 360
    },
    "id": "H8NqMZABFAjJ"
   },
   "outputs": [],
   "source": [
    "# import seaborn as sns\n",
    "# corr = main.corr()\n",
    "# plt.figure(figsize=(16,12))\n",
    "# sns.heatmap(corr)"
   ]
  },
  {
   "cell_type": "code",
   "execution_count": 27,
   "metadata": {
    "ExecuteTime": {
     "end_time": "2020-07-22T02:40:43.702057Z",
     "start_time": "2020-07-22T02:40:43.612052Z"
    },
    "colab": {},
    "colab_type": "code",
    "executionInfo": {
     "elapsed": 52202,
     "status": "ok",
     "timestamp": 1595966182129,
     "user": {
      "displayName": "Nguyen Le",
      "photoUrl": "",
      "userId": "04864493325434450657"
     },
     "user_tz": 360
    },
    "id": "X7RDWo9qFAjj"
   },
   "outputs": [],
   "source": [
    "#Fillna TD and TVD\n",
    "main['TotalDepth'] = main['TotalDepth'].fillna(1)\n",
    "mainvali['TotalDepth'] = mainvali['TotalDepth'].fillna(1)\n",
    "\n",
    "main['TVD'] = main['TVD'].fillna(1)\n",
    "main['TVD'] = main['TVD'].replace(0,1)\n",
    "mainvali['TVD'] = mainvali['TVD'].fillna(1)\n",
    "mainvali['TVD'] = mainvali['TVD'].replace(0,1)"
   ]
  },
  {
   "cell_type": "code",
   "execution_count": 28,
   "metadata": {
    "ExecuteTime": {
     "end_time": "2020-07-22T02:40:43.788062Z",
     "start_time": "2020-07-22T02:40:43.705057Z"
    },
    "colab": {},
    "colab_type": "code",
    "executionInfo": {
     "elapsed": 52201,
     "status": "ok",
     "timestamp": 1595966182130,
     "user": {
      "displayName": "Nguyen Le",
      "photoUrl": "",
      "userId": "04864493325434450657"
     },
     "user_tz": 360
    },
    "id": "xn6g2n65FAj0"
   },
   "outputs": [],
   "source": [
    "#Create new variable MD/TVD\n",
    "main['MD/TVD'] = main['TotalDepth']/main['TVD']\n",
    "mainvali['MD/TVD'] = mainvali['TotalDepth']/mainvali['TVD']"
   ]
  },
  {
   "cell_type": "code",
   "execution_count": 29,
   "metadata": {
    "ExecuteTime": {
     "end_time": "2020-07-22T02:40:43.839065Z",
     "start_time": "2020-07-22T02:40:43.791062Z"
    },
    "colab": {},
    "colab_type": "code",
    "executionInfo": {
     "elapsed": 52558,
     "status": "ok",
     "timestamp": 1595966182489,
     "user": {
      "displayName": "Nguyen Le",
      "photoUrl": "",
      "userId": "04864493325434450657"
     },
     "user_tz": 360
    },
    "id": "tF6UZgbxFAkp",
    "scrolled": true
   },
   "outputs": [],
   "source": [
    "#merge horizontal leg and horizontal well\n",
    "main.WellProfile.replace(['Horizontal Leg'],'Horizontal',inplace=True)\n",
    "mainvali.WellProfile.replace(['Horizontal Leg'],'Horizontal',inplace=True)"
   ]
  },
  {
   "cell_type": "code",
   "execution_count": 30,
   "metadata": {
    "ExecuteTime": {
     "end_time": "2020-07-22T02:40:44.359094Z",
     "start_time": "2020-07-22T02:40:43.842065Z"
    },
    "colab": {
     "base_uri": "https://localhost:8080/",
     "height": 111
    },
    "colab_type": "code",
    "executionInfo": {
     "elapsed": 52550,
     "status": "ok",
     "timestamp": 1595966182490,
     "user": {
      "displayName": "Nguyen Le",
      "photoUrl": "",
      "userId": "04864493325434450657"
     },
     "user_tz": 360
    },
    "id": "OSzXxQdXFAk-",
    "outputId": "755cf4d9-1b38-4119-ecf6-4bea9c0a9a73",
    "scrolled": false
   },
   "outputs": [
    {
     "name": "stderr",
     "output_type": "stream",
     "text": [
      "/usr/local/lib/python3.6/dist-packages/pandas/core/indexing.py:671: SettingWithCopyWarning: \n",
      "A value is trying to be set on a copy of a slice from a DataFrame\n",
      "\n",
      "See the caveats in the documentation: https://pandas.pydata.org/pandas-docs/stable/user_guide/indexing.html#returning-a-view-versus-a-copy\n",
      "  self._setitem_with_indexer(indexer, value)\n"
     ]
    }
   ],
   "source": [
    "#force md/tvd of vertical wells to be 1\n",
    "main['MD/TVD'].loc[(main['WellProfile']=='Vertical') & (main['MD/TVD']!=1)] = 1\n",
    "mainvali['MD/TVD'].loc[(mainvali['WellProfile']=='Vertical') & (mainvali['MD/TVD']!=1)] = 1"
   ]
  },
  {
   "cell_type": "code",
   "execution_count": 31,
   "metadata": {
    "ExecuteTime": {
     "end_time": "2020-07-22T02:40:44.427098Z",
     "start_time": "2020-07-22T02:40:44.361095Z"
    },
    "colab": {
     "base_uri": "https://localhost:8080/",
     "height": 36
    },
    "colab_type": "code",
    "executionInfo": {
     "elapsed": 52709,
     "status": "ok",
     "timestamp": 1595966182657,
     "user": {
      "displayName": "Nguyen Le",
      "photoUrl": "",
      "userId": "04864493325434450657"
     },
     "user_tz": 360
    },
    "id": "98d7O4BzFAmB",
    "outputId": "5c098640-2405-41f2-b477-ec370c7bf843"
   },
   "outputs": [
    {
     "data": {
      "text/plain": [
       "False"
      ]
     },
     "execution_count": 31,
     "metadata": {
      "tags": []
     },
     "output_type": "execute_result"
    }
   ],
   "source": [
    "len(main['MD/TVD'].loc[(main['WellProfile']=='Directional') & (main['MD/TVD']<=1)])==0"
   ]
  },
  {
   "cell_type": "code",
   "execution_count": 32,
   "metadata": {
    "ExecuteTime": {
     "end_time": "2020-07-22T02:40:44.989130Z",
     "start_time": "2020-07-22T02:40:44.429098Z"
    },
    "colab": {
     "base_uri": "https://localhost:8080/",
     "height": 111
    },
    "colab_type": "code",
    "executionInfo": {
     "elapsed": 52929,
     "status": "ok",
     "timestamp": 1595966182885,
     "user": {
      "displayName": "Nguyen Le",
      "photoUrl": "",
      "userId": "04864493325434450657"
     },
     "user_tz": 360
    },
    "id": "CIoxtStsFAmS",
    "outputId": "9735527c-9901-45e8-9d58-d362c8bcbbb6"
   },
   "outputs": [
    {
     "name": "stderr",
     "output_type": "stream",
     "text": [
      "/usr/local/lib/python3.6/dist-packages/pandas/core/indexing.py:671: SettingWithCopyWarning: \n",
      "A value is trying to be set on a copy of a slice from a DataFrame\n",
      "\n",
      "See the caveats in the documentation: https://pandas.pydata.org/pandas-docs/stable/user_guide/indexing.html#returning-a-view-versus-a-copy\n",
      "  self._setitem_with_indexer(indexer, value)\n"
     ]
    }
   ],
   "source": [
    "#force md/tvd of non-vertical wells to be the median \n",
    "for var in ['Directional','Horizontal','Slant']: \n",
    "    if len(main['MD/TVD'].loc[(main['WellProfile']==var) & (main['MD/TVD']<=1)])!=0: \n",
    "        main['MD/TVD'].loc[(main['WellProfile']==var) & (main['MD/TVD']<=1)] = np.median(main['MD/TVD'].loc[(main['WellProfile']==var) & (main['MD/TVD']>1)])\n",
    "        mainvali['MD/TVD'].loc[(mainvali['WellProfile']==var) & (mainvali['MD/TVD']<=1)] = np.median(mainvali['MD/TVD'].loc[(mainvali['WellProfile']==var) & (mainvali['MD/TVD']>1)])\n"
   ]
  },
  {
   "cell_type": "code",
   "execution_count": 33,
   "metadata": {
    "ExecuteTime": {
     "end_time": "2020-07-22T02:40:44.995131Z",
     "start_time": "2020-07-22T02:40:44.991131Z"
    },
    "colab": {},
    "colab_type": "code",
    "executionInfo": {
     "elapsed": 52927,
     "status": "ok",
     "timestamp": 1595966182886,
     "user": {
      "displayName": "Nguyen Le",
      "photoUrl": "",
      "userId": "04864493325434450657"
     },
     "user_tz": 360
    },
    "id": "3Pf7-B_0FAmh"
   },
   "outputs": [],
   "source": [
    "# print(np.median(main['MD/TVD'].loc[(main['WellProfile']=='Directional') & (main['MD/TVD']>1)]))\n",
    "# print(np.mean(main['MD/TVD'].loc[(main['WellProfile']=='Directional') & (main['MD/TVD']>1)]))\n",
    "# #median is used to fillna because mean is more affected by artificial outliers produced by fillna for TVD"
   ]
  },
  {
   "cell_type": "code",
   "execution_count": 34,
   "metadata": {
    "ExecuteTime": {
     "end_time": "2020-07-22T02:40:45.012132Z",
     "start_time": "2020-07-22T02:40:44.997131Z"
    },
    "colab": {
     "base_uri": "https://localhost:8080/",
     "height": 92
    },
    "colab_type": "code",
    "executionInfo": {
     "elapsed": 52919,
     "status": "ok",
     "timestamp": 1595966182887,
     "user": {
      "displayName": "Nguyen Le",
      "photoUrl": "",
      "userId": "04864493325434450657"
     },
     "user_tz": 360
    },
    "id": "7bx-IdD6FAmz",
    "outputId": "b5f9e47d-658e-4436-c7a2-35de424ea6d3"
   },
   "outputs": [
    {
     "name": "stdout",
     "output_type": "stream",
     "text": [
      "0\n",
      "0\n",
      "0\n",
      "0\n"
     ]
    }
   ],
   "source": [
    "print(np.sum(main['Surf_Longitude'].isna()))\n",
    "print(np.sum(main['Surf_Latitude'].isna()))\n",
    "print(np.sum(mainvali['Surf_Longitude'].isna()))\n",
    "print(np.sum(mainvali['Surf_Latitude'].isna()))"
   ]
  },
  {
   "cell_type": "code",
   "execution_count": 35,
   "metadata": {
    "ExecuteTime": {
     "end_time": "2020-07-22T02:40:45.069135Z",
     "start_time": "2020-07-22T02:40:45.014132Z"
    },
    "colab": {},
    "colab_type": "code",
    "executionInfo": {
     "elapsed": 52917,
     "status": "ok",
     "timestamp": 1595966182888,
     "user": {
      "displayName": "Nguyen Le",
      "photoUrl": "",
      "userId": "04864493325434450657"
     },
     "user_tz": 360
    },
    "id": "gpN76XhuFAnH"
   },
   "outputs": [],
   "source": [
    "#fill bh_long and bh_lat NAs with surf_long and surf_lat\n",
    "main['BH_Longitude'] = main['BH_Longitude'].fillna(main['Surf_Longitude'])\n",
    "main['BH_Latitude'] = main['BH_Latitude'].fillna(main['Surf_Latitude'])\n",
    "\n",
    "mainvali['BH_Longitude'] = mainvali['BH_Longitude'].fillna(mainvali['Surf_Longitude'])\n",
    "mainvali['BH_Latitude'] = mainvali['BH_Latitude'].fillna(mainvali['Surf_Latitude'])"
   ]
  },
  {
   "cell_type": "code",
   "execution_count": 36,
   "metadata": {
    "ExecuteTime": {
     "end_time": "2020-07-22T02:40:45.461157Z",
     "start_time": "2020-07-22T02:40:45.072135Z"
    },
    "colab": {
     "base_uri": "https://localhost:8080/",
     "height": 111
    },
    "colab_type": "code",
    "executionInfo": {
     "elapsed": 53089,
     "status": "ok",
     "timestamp": 1595966183067,
     "user": {
      "displayName": "Nguyen Le",
      "photoUrl": "",
      "userId": "04864493325434450657"
     },
     "user_tz": 360
    },
    "id": "aIQlQPhxFAnc",
    "outputId": "eb984137-31f6-44b2-b251-9711bce8b4a8"
   },
   "outputs": [
    {
     "name": "stderr",
     "output_type": "stream",
     "text": [
      "/usr/local/lib/python3.6/dist-packages/pandas/core/indexing.py:671: SettingWithCopyWarning: \n",
      "A value is trying to be set on a copy of a slice from a DataFrame\n",
      "\n",
      "See the caveats in the documentation: https://pandas.pydata.org/pandas-docs/stable/user_guide/indexing.html#returning-a-view-versus-a-copy\n",
      "  self._setitem_with_indexer(indexer, value)\n"
     ]
    }
   ],
   "source": [
    "#calculate hz well length and azimuth\n",
    "main['well_length_calc'] = np.sqrt((main['Surf_Longitude']-main['BH_Longitude'])**2+(main['Surf_Latitude']-main['BH_Latitude'])**2)\n",
    "main['well_azi_calc'] = 0\n",
    "main['well_azi_calc'].loc[main['well_length_calc']!=0] = np.arctan2(main['BH_Longitude']-main['Surf_Longitude'],main['BH_Latitude']-main['Surf_Latitude'])\n",
    "\n",
    "mainvali['well_length_calc'] = np.sqrt((mainvali['Surf_Longitude']-mainvali['BH_Longitude'])**2+(mainvali['Surf_Latitude']-mainvali['BH_Latitude'])**2)\n",
    "mainvali['well_azi_calc'] = 0\n",
    "mainvali['well_azi_calc'].loc[mainvali['well_length_calc']!=0] = np.arctan2(mainvali['BH_Longitude']-mainvali['Surf_Longitude'],mainvali['BH_Latitude']-mainvali['Surf_Latitude'])"
   ]
  },
  {
   "cell_type": "code",
   "execution_count": 37,
   "metadata": {
    "ExecuteTime": {
     "end_time": "2020-07-22T02:40:45.512160Z",
     "start_time": "2020-07-22T02:40:45.465158Z"
    },
    "colab": {},
    "colab_type": "code",
    "executionInfo": {
     "elapsed": 53086,
     "status": "ok",
     "timestamp": 1595966183068,
     "user": {
      "displayName": "Nguyen Le",
      "photoUrl": "",
      "userId": "04864493325434450657"
     },
     "user_tz": 360
    },
    "id": "S-Jk2Rf-FAn_"
   },
   "outputs": [],
   "source": [
    "main['DaysDrilling'] = main['DaysDrilling'].fillna(1)\n",
    "main['DrillMetresPerDay'] = main['DrillMetresPerDay'].fillna(1)\n",
    "main['well_length_calc2'] = main['DaysDrilling']*main['DrillMetresPerDay']\n",
    "\n",
    "mainvali['DaysDrilling'] = mainvali['DaysDrilling'].fillna(1)\n",
    "mainvali['DrillMetresPerDay'] = mainvali['DrillMetresPerDay'].fillna(1)\n",
    "mainvali['well_length_calc2'] = mainvali['DaysDrilling']*mainvali['DrillMetresPerDay']"
   ]
  },
  {
   "cell_type": "code",
   "execution_count": 38,
   "metadata": {
    "ExecuteTime": {
     "end_time": "2020-07-22T02:42:56.031626Z",
     "start_time": "2020-07-22T02:40:45.515161Z"
    },
    "colab": {
     "base_uri": "https://localhost:8080/",
     "height": 112
    },
    "colab_type": "code",
    "executionInfo": {
     "elapsed": 117654,
     "status": "ok",
     "timestamp": 1595966247644,
     "user": {
      "displayName": "Nguyen Le",
      "photoUrl": "",
      "userId": "04864493325434450657"
     },
     "user_tz": 360
    },
    "id": "86t0tC9DFAoU",
    "outputId": "70669dcf-4de2-4753-dc82-309c54c4826e",
    "scrolled": false
   },
   "outputs": [
    {
     "name": "stderr",
     "output_type": "stream",
     "text": [
      "/usr/local/lib/python3.6/dist-packages/ipykernel_launcher.py:3: FutureWarning: The pandas.datetime class is deprecated and will be removed from pandas in a future version. Import from datetime instead.\n",
      "  This is separate from the ipykernel package so we can avoid doing imports until\n",
      "/usr/local/lib/python3.6/dist-packages/ipykernel_launcher.py:8: FutureWarning: The pandas.datetime class is deprecated and will be removed from pandas in a future version. Import from datetime instead.\n",
      "  \n"
     ]
    }
   ],
   "source": [
    "#calculate spuddate_day\n",
    "main['SpudDate'] = pd.to_datetime(main['SpudDate'])\n",
    "main['SpudDate_day_calc'] = pd.datetime.now() - main['SpudDate']\n",
    "main['SpudDate_day_calc'] = main['SpudDate_day_calc'].dt.days\n",
    "main['SpudDate_day_calc'] = main['SpudDate_day_calc'].fillna(0)\n",
    "\n",
    "mainvali['SpudDate'] = pd.to_datetime(mainvali['SpudDate'])\n",
    "mainvali['SpudDate_day_calc'] = pd.datetime.now() - mainvali['SpudDate']\n",
    "mainvali['SpudDate_day_calc'] = mainvali['SpudDate_day_calc'].dt.days\n",
    "mainvali['SpudDate_day_calc'] = mainvali['SpudDate_day_calc'].fillna(0)"
   ]
  },
  {
   "cell_type": "code",
   "execution_count": 39,
   "metadata": {
    "ExecuteTime": {
     "end_time": "2020-07-22T02:45:12.197414Z",
     "start_time": "2020-07-22T02:42:56.033626Z"
    },
    "colab": {},
    "colab_type": "code",
    "executionInfo": {
     "elapsed": 188156,
     "status": "ok",
     "timestamp": 1595966318149,
     "user": {
      "displayName": "Nguyen Le",
      "photoUrl": "",
      "userId": "04864493325434450657"
     },
     "user_tz": 360
    },
    "id": "RAOP0ElzFAom"
   },
   "outputs": [],
   "source": [
    "#calculate statusdate to surfabandondate\n",
    "main['StatusDate'] = pd.to_datetime(main['StatusDate'])\n",
    "main['SurfAbandonDate'] = pd.to_datetime(main['SurfAbandonDate'])\n",
    "main['status_to_abandon_calc'] = main['StatusDate'] - main['SurfAbandonDate']\n",
    "main['status_to_abandon_calc'] = main['status_to_abandon_calc'].dt.days\n",
    "main['status_to_abandon_calc'] = main['status_to_abandon_calc'].fillna(0)\n",
    "\n",
    "mainvali['StatusDate'] = pd.to_datetime(mainvali['StatusDate'])\n",
    "mainvali['SurfAbandonDate'] = pd.to_datetime(mainvali['SurfAbandonDate'])\n",
    "mainvali['status_to_abandon_calc'] = mainvali['StatusDate'] - mainvali['SurfAbandonDate']\n",
    "mainvali['status_to_abandon_calc'] = mainvali['status_to_abandon_calc'].dt.days\n",
    "mainvali['status_to_abandon_calc'] = mainvali['status_to_abandon_calc'].fillna(0)"
   ]
  },
  {
   "cell_type": "code",
   "execution_count": 40,
   "metadata": {
    "ExecuteTime": {
     "end_time": "2020-07-22T02:45:12.292419Z",
     "start_time": "2020-07-22T02:45:12.200414Z"
    },
    "colab": {
     "base_uri": "https://localhost:8080/",
     "height": 112
    },
    "colab_type": "code",
    "executionInfo": {
     "elapsed": 188158,
     "status": "ok",
     "timestamp": 1595966318160,
     "user": {
      "displayName": "Nguyen Le",
      "photoUrl": "",
      "userId": "04864493325434450657"
     },
     "user_tz": 360
    },
    "id": "UiF981tsFAo6",
    "outputId": "72fff983-2f6b-4c56-d5db-8f1969fe9a81",
    "scrolled": true
   },
   "outputs": [
    {
     "name": "stderr",
     "output_type": "stream",
     "text": [
      "/usr/local/lib/python3.6/dist-packages/ipykernel_launcher.py:2: FutureWarning: The pandas.datetime class is deprecated and will be removed from pandas in a future version. Import from datetime instead.\n",
      "  \n",
      "/usr/local/lib/python3.6/dist-packages/ipykernel_launcher.py:6: FutureWarning: The pandas.datetime class is deprecated and will be removed from pandas in a future version. Import from datetime instead.\n",
      "  \n"
     ]
    }
   ],
   "source": [
    "#calculate statusdate_day\n",
    "main['StatusDate_day_calc'] = pd.datetime.now() - main['StatusDate']\n",
    "main['StatusDate_day_calc'] = main['StatusDate_day_calc'].dt.days\n",
    "main['StatusDate_day_calc'] = main['StatusDate_day_calc'].fillna(0)\n",
    "\n",
    "mainvali['StatusDate_day_calc'] = pd.datetime.now() - mainvali['StatusDate']\n",
    "mainvali['StatusDate_day_calc'] = mainvali['StatusDate_day_calc'].dt.days\n",
    "mainvali['StatusDate_day_calc'] = mainvali['StatusDate_day_calc'].fillna(0)"
   ]
  },
  {
   "cell_type": "code",
   "execution_count": 41,
   "metadata": {
    "ExecuteTime": {
     "end_time": "2020-07-22T02:45:12.377424Z",
     "start_time": "2020-07-22T02:45:12.295420Z"
    },
    "colab": {
     "base_uri": "https://localhost:8080/",
     "height": 54
    },
    "colab_type": "code",
    "executionInfo": {
     "elapsed": 188155,
     "status": "ok",
     "timestamp": 1595966318166,
     "user": {
      "displayName": "Nguyen Le",
      "photoUrl": "",
      "userId": "04864493325434450657"
     },
     "user_tz": 360
    },
    "id": "1YKfY9SqFApG",
    "outputId": "4f3177c5-fa44-4e10-cc82-bb06b8167be3"
   },
   "outputs": [
    {
     "name": "stdout",
     "output_type": "stream",
     "text": [
      "0\n",
      "0\n"
     ]
    }
   ],
   "source": [
    "print(np.sum(main['StatusSource'].isna()))\n",
    "print(np.sum(mainvali['StatusSource'].isna()))"
   ]
  },
  {
   "cell_type": "code",
   "execution_count": 42,
   "metadata": {
    "ExecuteTime": {
     "end_time": "2020-07-22T02:45:12.402426Z",
     "start_time": "2020-07-22T02:45:12.381424Z"
    },
    "colab": {},
    "colab_type": "code",
    "executionInfo": {
     "elapsed": 188155,
     "status": "ok",
     "timestamp": 1595966318169,
     "user": {
      "displayName": "Nguyen Le",
      "photoUrl": "",
      "userId": "04864493325434450657"
     },
     "user_tz": 360
    },
    "id": "0nHjsTc6FApQ"
   },
   "outputs": [],
   "source": [
    "#fill _Max`Prod`(BOE) NAs with 0?\n",
    "main['_Max`Prod`(BOE)'] = main['_Max`Prod`(BOE)'].fillna(0)\n",
    "mainvali['_Max`Prod`(BOE)'] = mainvali['_Max`Prod`(BOE)'].fillna(0)"
   ]
  },
  {
   "cell_type": "code",
   "execution_count": 43,
   "metadata": {
    "ExecuteTime": {
     "end_time": "2020-07-22T02:45:12.426427Z",
     "start_time": "2020-07-22T02:45:12.405426Z"
    },
    "colab": {},
    "colab_type": "code",
    "executionInfo": {
     "elapsed": 188157,
     "status": "ok",
     "timestamp": 1595966318173,
     "user": {
      "displayName": "Nguyen Le",
      "photoUrl": "",
      "userId": "04864493325434450657"
     },
     "user_tz": 360
    },
    "id": "ySLPSTdOFApd"
   },
   "outputs": [],
   "source": [
    "#Fillna in fracture stages\n",
    "main['_Fracture`Stages'] = main['_Fracture`Stages'].fillna(0)\n",
    "mainvali['_Fracture`Stages'] = mainvali['_Fracture`Stages'].fillna(0)"
   ]
  },
  {
   "cell_type": "code",
   "execution_count": 44,
   "metadata": {
    "ExecuteTime": {
     "end_time": "2020-07-22T02:45:12.517432Z",
     "start_time": "2020-07-22T02:45:12.430427Z"
    },
    "colab": {
     "base_uri": "https://localhost:8080/",
     "height": 54
    },
    "colab_type": "code",
    "executionInfo": {
     "elapsed": 188152,
     "status": "ok",
     "timestamp": 1595966318177,
     "user": {
      "displayName": "Nguyen Le",
      "photoUrl": "",
      "userId": "04864493325434450657"
     },
     "user_tz": 360
    },
    "id": "fx9Mtlj-FApn",
    "outputId": "877a29de-e48f-46cc-84bd-f61e2c7ad231"
   },
   "outputs": [
    {
     "name": "stdout",
     "output_type": "stream",
     "text": [
      "0\n",
      "0\n"
     ]
    }
   ],
   "source": [
    "print(np.sum(main['_Open`Hole'].isna()))\n",
    "print(np.sum(mainvali['_Open`Hole'].isna()))"
   ]
  },
  {
   "cell_type": "code",
   "execution_count": 45,
   "metadata": {
    "ExecuteTime": {
     "end_time": "2020-07-22T02:45:12.638439Z",
     "start_time": "2020-07-22T02:45:12.521432Z"
    },
    "colab": {},
    "colab_type": "code",
    "executionInfo": {
     "elapsed": 188380,
     "status": "ok",
     "timestamp": 1595966318409,
     "user": {
      "displayName": "Nguyen Le",
      "photoUrl": "",
      "userId": "04864493325434450657"
     },
     "user_tz": 360
    },
    "id": "NcWyAD5MFAqc"
   },
   "outputs": [],
   "source": [
    "main['DrillingContractor'] = main['DrillingContractor'].fillna('Unspecified')\n",
    "mainvali['DrillingContractor'] = mainvali['DrillingContractor'].fillna('Unspecified')"
   ]
  },
  {
   "cell_type": "code",
   "execution_count": 46,
   "metadata": {
    "ExecuteTime": {
     "end_time": "2020-07-22T02:45:13.056463Z",
     "start_time": "2020-07-22T02:45:12.640439Z"
    },
    "colab": {},
    "colab_type": "code",
    "executionInfo": {
     "elapsed": 188721,
     "status": "ok",
     "timestamp": 1595966318753,
     "user": {
      "displayName": "Nguyen Le",
      "photoUrl": "",
      "userId": "04864493325434450657"
     },
     "user_tz": 360
    },
    "id": "gl2QA1u9FAq1"
   },
   "outputs": [],
   "source": [
    "X_select = ['Province','CurrentOperatorParent',\n",
    "            'SurfAbandon',\n",
    "            'MD/TVD', 'WellProfile',             \n",
    "            'WellTypeStandardised','LaheeClass',\n",
    "            \n",
    "            'Formation','Field','Pool',\n",
    "            'SurveySystem','Surf_Longitude','Surf_Latitude','BH_Longitude','BH_Latitude',\n",
    "            'DaysDrilling','GroundElevation','KBElevation','TotalDepth','TVD',\n",
    "            'StatusSource','_Open`Hole','Agent','DrillingContractor',\n",
    "            \n",
    "            'well_length_calc','well_azi_calc','well_length_calc2',\n",
    "            'SpudDate_day_calc','status_to_abandon_calc','StatusDate_day_calc',\n",
    "            '_Fracture`Stages','_Max`Prod`(BOE)']\n",
    "X_train = main[X_select]\n",
    "X_vali = mainvali[X_select]\n",
    "\n",
    "Y_select = ['well_status_code']\n",
    "Y_train = main[Y_select]\n",
    "Y_vali = mainvali[Y_select]"
   ]
  },
  {
   "cell_type": "code",
   "execution_count": 47,
   "metadata": {
    "ExecuteTime": {
     "end_time": "2020-07-22T02:45:13.680499Z",
     "start_time": "2020-07-22T02:45:13.059463Z"
    },
    "colab": {
     "base_uri": "https://localhost:8080/",
     "height": 748
    },
    "colab_type": "code",
    "executionInfo": {
     "elapsed": 188869,
     "status": "ok",
     "timestamp": 1595966318913,
     "user": {
      "displayName": "Nguyen Le",
      "photoUrl": "",
      "userId": "04864493325434450657"
     },
     "user_tz": 360
    },
    "id": "pF53xqAvFAre",
    "outputId": "0905df59-c748-4782-8763-ac7f46838b91",
    "scrolled": true
   },
   "outputs": [
    {
     "name": "stdout",
     "output_type": "stream",
     "text": [
      "<class 'pandas.core.frame.DataFrame'>\n",
      "Int64Index: 587299 entries, 0 to 588672\n",
      "Data columns (total 32 columns):\n",
      " #   Column                  Non-Null Count   Dtype  \n",
      "---  ------                  --------------   -----  \n",
      " 0   Province                587299 non-null  object \n",
      " 1   CurrentOperatorParent   587299 non-null  int64  \n",
      " 2   SurfAbandon             587299 non-null  int64  \n",
      " 3   MD/TVD                  587299 non-null  float64\n",
      " 4   WellProfile             587299 non-null  object \n",
      " 5   WellTypeStandardised    587299 non-null  object \n",
      " 6   LaheeClass              587299 non-null  object \n",
      " 7   Formation               587299 non-null  object \n",
      " 8   Field                   587299 non-null  object \n",
      " 9   Pool                    587299 non-null  object \n",
      " 10  SurveySystem            587299 non-null  object \n",
      " 11  Surf_Longitude          587299 non-null  float64\n",
      " 12  Surf_Latitude           587299 non-null  float64\n",
      " 13  BH_Longitude            587299 non-null  float64\n",
      " 14  BH_Latitude             587299 non-null  float64\n",
      " 15  DaysDrilling            587299 non-null  float64\n",
      " 16  GroundElevation         586997 non-null  float64\n",
      " 17  KBElevation             577901 non-null  float64\n",
      " 18  TotalDepth              587299 non-null  float64\n",
      " 19  TVD                     587299 non-null  float64\n",
      " 20  StatusSource            587299 non-null  object \n",
      " 21  _Open`Hole              587299 non-null  object \n",
      " 22  Agent                   587299 non-null  object \n",
      " 23  DrillingContractor      587299 non-null  object \n",
      " 24  well_length_calc        587299 non-null  float64\n",
      " 25  well_azi_calc           587299 non-null  float64\n",
      " 26  well_length_calc2       587299 non-null  float64\n",
      " 27  SpudDate_day_calc       587299 non-null  float64\n",
      " 28  status_to_abandon_calc  587299 non-null  float64\n",
      " 29  StatusDate_day_calc     587299 non-null  float64\n",
      " 30  _Fracture`Stages        587299 non-null  float64\n",
      " 31  _Max`Prod`(BOE)         587299 non-null  float64\n",
      "dtypes: float64(18), int64(2), object(12)\n",
      "memory usage: 167.9+ MB\n"
     ]
    }
   ],
   "source": [
    "X_train.info()"
   ]
  },
  {
   "cell_type": "code",
   "execution_count": 48,
   "metadata": {
    "ExecuteTime": {
     "end_time": "2020-07-22T02:45:14.233530Z",
     "start_time": "2020-07-22T02:45:13.684499Z"
    },
    "colab": {
     "base_uri": "https://localhost:8080/",
     "height": 635
    },
    "colab_type": "code",
    "executionInfo": {
     "elapsed": 189060,
     "status": "ok",
     "timestamp": 1595966319117,
     "user": {
      "displayName": "Nguyen Le",
      "photoUrl": "",
      "userId": "04864493325434450657"
     },
     "user_tz": 360
    },
    "id": "bhYo3obKFAsU",
    "outputId": "baaa40cc-f91f-4f20-cc3d-1bde523d2626",
    "scrolled": true
   },
   "outputs": [
    {
     "data": {
      "text/plain": [
       "Province                     0\n",
       "CurrentOperatorParent        0\n",
       "SurfAbandon                  0\n",
       "MD/TVD                       0\n",
       "WellProfile                  0\n",
       "WellTypeStandardised         0\n",
       "LaheeClass                   0\n",
       "Formation                    0\n",
       "Field                        0\n",
       "Pool                         0\n",
       "SurveySystem                 0\n",
       "Surf_Longitude               0\n",
       "Surf_Latitude                0\n",
       "BH_Longitude                 0\n",
       "BH_Latitude                  0\n",
       "DaysDrilling                 0\n",
       "GroundElevation            302\n",
       "KBElevation               9398\n",
       "TotalDepth                   0\n",
       "TVD                          0\n",
       "StatusSource                 0\n",
       "_Open`Hole                   0\n",
       "Agent                        0\n",
       "DrillingContractor           0\n",
       "well_length_calc             0\n",
       "well_azi_calc                0\n",
       "well_length_calc2            0\n",
       "SpudDate_day_calc            0\n",
       "status_to_abandon_calc       0\n",
       "StatusDate_day_calc          0\n",
       "_Fracture`Stages             0\n",
       "_Max`Prod`(BOE)              0\n",
       "dtype: int64"
      ]
     },
     "execution_count": 48,
     "metadata": {
      "tags": []
     },
     "output_type": "execute_result"
    }
   ],
   "source": [
    "np.sum(X_train.isna())"
   ]
  },
  {
   "cell_type": "code",
   "execution_count": 49,
   "metadata": {
    "ExecuteTime": {
     "end_time": "2020-07-22T02:45:14.406540Z",
     "start_time": "2020-07-22T02:45:14.236531Z"
    },
    "colab": {
     "base_uri": "https://localhost:8080/",
     "height": 635
    },
    "colab_type": "code",
    "executionInfo": {
     "elapsed": 189045,
     "status": "ok",
     "timestamp": 1595966319121,
     "user": {
      "displayName": "Nguyen Le",
      "photoUrl": "",
      "userId": "04864493325434450657"
     },
     "user_tz": 360
    },
    "id": "YC8P1UJQFAs3",
    "outputId": "f0ec5a54-de45-4860-bcc3-5fe04853793f",
    "scrolled": true
   },
   "outputs": [
    {
     "data": {
      "text/plain": [
       "Province                     0\n",
       "CurrentOperatorParent        0\n",
       "SurfAbandon                  0\n",
       "MD/TVD                       0\n",
       "WellProfile                  0\n",
       "WellTypeStandardised         0\n",
       "LaheeClass                   0\n",
       "Formation                    0\n",
       "Field                        0\n",
       "Pool                         0\n",
       "SurveySystem                 0\n",
       "Surf_Longitude               0\n",
       "Surf_Latitude                0\n",
       "BH_Longitude                 0\n",
       "BH_Latitude                  0\n",
       "DaysDrilling                 0\n",
       "GroundElevation             68\n",
       "KBElevation               2082\n",
       "TotalDepth                   0\n",
       "TVD                          0\n",
       "StatusSource                 0\n",
       "_Open`Hole                   0\n",
       "Agent                        0\n",
       "DrillingContractor           0\n",
       "well_length_calc             0\n",
       "well_azi_calc                0\n",
       "well_length_calc2            0\n",
       "SpudDate_day_calc            0\n",
       "status_to_abandon_calc       0\n",
       "StatusDate_day_calc          0\n",
       "_Fracture`Stages             0\n",
       "_Max`Prod`(BOE)              0\n",
       "dtype: int64"
      ]
     },
     "execution_count": 49,
     "metadata": {
      "tags": []
     },
     "output_type": "execute_result"
    }
   ],
   "source": [
    "np.sum(X_vali.isna())"
   ]
  },
  {
   "cell_type": "markdown",
   "metadata": {
    "colab_type": "text",
    "id": "JL4z414EFAtk"
   },
   "source": [
    "## Catboost"
   ]
  },
  {
   "cell_type": "code",
   "execution_count": 50,
   "metadata": {
    "colab": {
     "base_uri": "https://localhost:8080/",
     "height": 430
    },
    "colab_type": "code",
    "executionInfo": {
     "elapsed": 138317,
     "status": "ok",
     "timestamp": 1595966333805,
     "user": {
      "displayName": "Nguyen Le",
      "photoUrl": "",
      "userId": "04864493325434450657"
     },
     "user_tz": 360
    },
    "id": "8WnoUVw5hLwW",
    "outputId": "57d9e737-2360-4505-b47e-07a1a9ec012c",
    "scrolled": true
   },
   "outputs": [
    {
     "name": "stdout",
     "output_type": "stream",
     "text": [
      "Collecting catboost\n",
      "\u001b[?25l  Downloading https://files.pythonhosted.org/packages/b2/aa/e61819d04ef2bbee778bf4b3a748db1f3ad23512377e43ecfdc3211437a0/catboost-0.23.2-cp36-none-manylinux1_x86_64.whl (64.8MB)\n",
      "\u001b[K     |████████████████████████████████| 64.8MB 42kB/s \n",
      "\u001b[?25hRequirement already satisfied: six in /usr/local/lib/python3.6/dist-packages (from catboost) (1.15.0)\n",
      "Requirement already satisfied: numpy>=1.16.0 in /usr/local/lib/python3.6/dist-packages (from catboost) (1.18.5)\n",
      "Requirement already satisfied: plotly in /usr/local/lib/python3.6/dist-packages (from catboost) (4.4.1)\n",
      "Requirement already satisfied: matplotlib in /usr/local/lib/python3.6/dist-packages (from catboost) (3.2.2)\n",
      "Requirement already satisfied: graphviz in /usr/local/lib/python3.6/dist-packages (from catboost) (0.10.1)\n",
      "Requirement already satisfied: scipy in /usr/local/lib/python3.6/dist-packages (from catboost) (1.4.1)\n",
      "Requirement already satisfied: pandas>=0.24.0 in /usr/local/lib/python3.6/dist-packages (from catboost) (1.0.5)\n",
      "Requirement already satisfied: retrying>=1.3.3 in /usr/local/lib/python3.6/dist-packages (from plotly->catboost) (1.3.3)\n",
      "Requirement already satisfied: python-dateutil>=2.1 in /usr/local/lib/python3.6/dist-packages (from matplotlib->catboost) (2.8.1)\n",
      "Requirement already satisfied: cycler>=0.10 in /usr/local/lib/python3.6/dist-packages (from matplotlib->catboost) (0.10.0)\n",
      "Requirement already satisfied: pyparsing!=2.0.4,!=2.1.2,!=2.1.6,>=2.0.1 in /usr/local/lib/python3.6/dist-packages (from matplotlib->catboost) (2.4.7)\n",
      "Requirement already satisfied: kiwisolver>=1.0.1 in /usr/local/lib/python3.6/dist-packages (from matplotlib->catboost) (1.2.0)\n",
      "Requirement already satisfied: pytz>=2017.2 in /usr/local/lib/python3.6/dist-packages (from pandas>=0.24.0->catboost) (2018.9)\n",
      "Installing collected packages: catboost\n",
      "Successfully installed catboost-0.23.2\n",
      "Requirement already satisfied: plotly in /usr/local/lib/python3.6/dist-packages (4.4.1)\n",
      "Requirement already satisfied: six in /usr/local/lib/python3.6/dist-packages (from plotly) (1.15.0)\n",
      "Requirement already satisfied: retrying>=1.3.3 in /usr/local/lib/python3.6/dist-packages (from plotly) (1.3.3)\n"
     ]
    }
   ],
   "source": [
    "!pip install catboost\n",
    "!pip install plotly"
   ]
  },
  {
   "cell_type": "code",
   "execution_count": 59,
   "metadata": {
    "ExecuteTime": {
     "end_time": "2020-07-22T05:14:08.510542Z",
     "start_time": "2020-07-22T05:14:08.502541Z"
    },
    "colab": {},
    "colab_type": "code",
    "executionInfo": {
     "elapsed": 462,
     "status": "ok",
     "timestamp": 1595967985742,
     "user": {
      "displayName": "Nguyen Le",
      "photoUrl": "",
      "userId": "04864493325434450657"
     },
     "user_tz": 360
    },
    "id": "PH1ZSJ4wFAtn"
   },
   "outputs": [],
   "source": [
    "import catboost\n",
    "from catboost import CatBoostClassifier, cv, Pool\n",
    "import plotly\n",
    "import plotly.express as px\n",
    "import plotly.graph_objects as go"
   ]
  },
  {
   "cell_type": "code",
   "execution_count": 52,
   "metadata": {
    "ExecuteTime": {
     "end_time": "2020-07-22T05:14:11.962739Z",
     "start_time": "2020-07-22T05:14:11.918737Z"
    },
    "colab": {
     "base_uri": "https://localhost:8080/",
     "height": 36
    },
    "colab_type": "code",
    "executionInfo": {
     "elapsed": 137309,
     "status": "ok",
     "timestamp": 1595966334740,
     "user": {
      "displayName": "Nguyen Le",
      "photoUrl": "",
      "userId": "04864493325434450657"
     },
     "user_tz": 360
    },
    "id": "WtM8r9fdFAuL",
    "outputId": "aaff03a3-1058-45a7-90c6-352df7228951"
   },
   "outputs": [
    {
     "data": {
      "text/plain": [
       "[0, 4, 5, 6, 7, 8, 9, 10, 20, 21, 22, 23]"
      ]
     },
     "execution_count": 52,
     "metadata": {
      "tags": []
     },
     "output_type": "execute_result"
    }
   ],
   "source": [
    "cat_features = list(np.where(X_train.dtypes=='object')[0])\n",
    "cat_features"
   ]
  },
  {
   "cell_type": "markdown",
   "metadata": {
    "colab_type": "text",
    "id": "XeIlDypzFAue"
   },
   "source": [
    "### Random Search"
   ]
  },
  {
   "cell_type": "code",
   "execution_count": 53,
   "metadata": {
    "ExecuteTime": {
     "end_time": "2020-07-22T05:15:49.551321Z",
     "start_time": "2020-07-22T05:15:49.538320Z"
    },
    "colab": {},
    "colab_type": "code",
    "executionInfo": {
     "elapsed": 133611,
     "status": "ok",
     "timestamp": 1595966334743,
     "user": {
      "displayName": "Nguyen Le",
      "photoUrl": "",
      "userId": "04864493325434450657"
     },
     "user_tz": 360
    },
    "id": "eCRlv9HYBUr2"
   },
   "outputs": [],
   "source": [
    "CB = CatBoostClassifier(loss_function='MultiClass', custom_loss='TotalF1', \n",
    "                        auto_class_weights = 'Balanced', random_seed=99, task_type='GPU')\n",
    "\n",
    "# note that default max_ctr_complexity for MultiClass and GPU is 1, otherwise 4"
   ]
  },
  {
   "cell_type": "code",
   "execution_count": null,
   "metadata": {
    "colab": {},
    "colab_type": "code",
    "id": "_5dtX9enBUsE"
   },
   "outputs": [],
   "source": [
    "grid = {'learning_rate': [0.05, 0.1, 0.2], \n",
    "        'iterations': [500, 1000, 2000], \n",
    "        'l2_leaf_reg': [0.5, 1, 2, 4], \n",
    "        'bagging_temperature': [0.5, 1, 2], \n",
    "        'random_strength': [0.5, 1, 2], \n",
    "        'one_hot_max_size': [4, 8, 16], \n",
    "        'leaf_estimation_method': ['Newton', 'Gradient'], \n",
    "        'depth': [8, 10, 12]}"
   ]
  },
  {
   "cell_type": "code",
   "execution_count": null,
   "metadata": {
    "colab": {
     "base_uri": "https://localhost:8080/",
     "height": 1000
    },
    "colab_type": "code",
    "executionInfo": {
     "elapsed": 61662068,
     "status": "ok",
     "timestamp": 1595584740480,
     "user": {
      "displayName": "Nguyen Le",
      "photoUrl": "",
      "userId": "04864493325434450657"
     },
     "user_tz": 360
    },
    "id": "3QDJT9xOBUsm",
    "outputId": "d12a07b3-4909-4504-9a7d-6ae44865eaf8"
   },
   "outputs": [
    {
     "name": "stdout",
     "output_type": "stream",
     "text": [
      "bestTest = 0.1564476031\n",
      "bestIteration = 497\n",
      "0:\tloss: 0.1564476\tbest: 0.1564476 (0)\ttotal: 16.4s\tremaining: 2h 16m 4s\n",
      "bestTest = 0.1792251476\n",
      "bestIteration = 499\n",
      "1:\tloss: 0.1792251\tbest: 0.1564476 (0)\ttotal: 32.2s\tremaining: 2h 13m 38s\n",
      "bestTest = 0.1562409814\n",
      "bestIteration = 499\n",
      "2:\tloss: 0.1562410\tbest: 0.1562410 (2)\ttotal: 1m 2s\tremaining: 2h 51m 49s\n",
      "bestTest = 0.1667251424\n",
      "bestIteration = 499\n",
      "3:\tloss: 0.1667251\tbest: 0.1562410 (2)\ttotal: 1m 32s\tremaining: 3h 10m 9s\n",
      "bestTest = 0.152759672\n",
      "bestIteration = 347\n",
      "4:\tloss: 0.1527597\tbest: 0.1527597 (4)\ttotal: 2m 51s\tremaining: 4h 43m 9s\n",
      "bestTest = 0.1610120008\n",
      "bestIteration = 499\n",
      "5:\tloss: 0.1610120\tbest: 0.1527597 (4)\ttotal: 4m 10s\tremaining: 5h 43m 8s\n",
      "bestTest = 0.1523664204\n",
      "bestIteration = 440\n",
      "6:\tloss: 0.1523664\tbest: 0.1523664 (6)\ttotal: 5m 29s\tremaining: 6h 26m 36s\n",
      "bestTest = 0.1669598366\n",
      "bestIteration = 499\n",
      "7:\tloss: 0.1669598\tbest: 0.1523664 (6)\ttotal: 5m 44s\tremaining: 5h 53m 35s\n",
      "bestTest = 0.1586151571\n",
      "bestIteration = 499\n",
      "8:\tloss: 0.1586152\tbest: 0.1523664 (6)\ttotal: 6m 15s\tremaining: 5h 41m 4s\n",
      "bestTest = 0.1530529907\n",
      "bestIteration = 499\n",
      "9:\tloss: 0.1530530\tbest: 0.1523664 (6)\ttotal: 6m 45s\tremaining: 5h 30m 53s\n",
      "bestTest = 0.1569929843\n",
      "bestIteration = 499\n",
      "10:\tloss: 0.1569930\tbest: 0.1523664 (6)\ttotal: 7m\tremaining: 5h 11m 45s\n",
      "bestTest = 0.1516206223\n",
      "bestIteration = 499\n",
      "11:\tloss: 0.1516206\tbest: 0.1516206 (11)\ttotal: 7m 30s\tremaining: 5h 5m 31s\n",
      "bestTest = 0.1586715645\n",
      "bestIteration = 499\n",
      "12:\tloss: 0.1586716\tbest: 0.1516206 (11)\ttotal: 7m 46s\tremaining: 4h 51m 27s\n",
      "bestTest = 0.160400636\n",
      "bestIteration = 499\n",
      "13:\tloss: 0.1604006\tbest: 0.1516206 (11)\ttotal: 8m 3s\tremaining: 4h 39m 30s\n",
      "bestTest = 0.154633868\n",
      "bestIteration = 493\n",
      "14:\tloss: 0.1546339\tbest: 0.1516206 (11)\ttotal: 8m 33s\tremaining: 4h 36m 58s\n",
      "bestTest = 0.1571111119\n",
      "bestIteration = 287\n",
      "15:\tloss: 0.1571111\tbest: 0.1516206 (11)\ttotal: 9m 55s\tremaining: 5h 1s\n",
      "bestTest = 0.154614414\n",
      "bestIteration = 497\n",
      "16:\tloss: 0.1546144\tbest: 0.1516206 (11)\ttotal: 10m 25s\tremaining: 4h 56m 22s\n",
      "bestTest = 0.1551520687\n",
      "bestIteration = 489\n",
      "17:\tloss: 0.1551521\tbest: 0.1516206 (11)\ttotal: 10m 56s\tremaining: 4h 52m 51s\n",
      "bestTest = 0.1606595461\n",
      "bestIteration = 499\n",
      "18:\tloss: 0.1606595\tbest: 0.1516206 (11)\ttotal: 11m 26s\tremaining: 4h 49m 34s\n",
      "bestTest = 0.1644366535\n",
      "bestIteration = 499\n",
      "19:\tloss: 0.1644367\tbest: 0.1516206 (11)\ttotal: 12m 45s\tremaining: 5h 6m 11s\n",
      "bestTest = 0.1551652391\n",
      "bestIteration = 498\n",
      "20:\tloss: 0.1551652\tbest: 0.1516206 (11)\ttotal: 14m 6s\tremaining: 5h 21m 47s\n",
      "bestTest = 0.1745852689\n",
      "bestIteration = 499\n",
      "21:\tloss: 0.1745853\tbest: 0.1516206 (11)\ttotal: 14m 37s\tremaining: 5h 17m 36s\n",
      "bestTest = 0.1635863573\n",
      "bestIteration = 498\n",
      "22:\tloss: 0.1635864\tbest: 0.1516206 (11)\ttotal: 15m 7s\tremaining: 5h 13m 49s\n",
      "bestTest = 0.162008379\n",
      "bestIteration = 310\n",
      "23:\tloss: 0.1620084\tbest: 0.1516206 (11)\ttotal: 16m 30s\tremaining: 5h 27m 15s\n",
      "bestTest = 0.1748978579\n",
      "bestIteration = 499\n",
      "24:\tloss: 0.1748979\tbest: 0.1516206 (11)\ttotal: 17m\tremaining: 5h 23m 4s\n",
      "bestTest = 0.1620284627\n",
      "bestIteration = 363\n",
      "25:\tloss: 0.1620285\tbest: 0.1516206 (11)\ttotal: 18m 22s\tremaining: 5h 34m 54s\n",
      "bestTest = 0.1601086292\n",
      "bestIteration = 498\n",
      "26:\tloss: 0.1601086\tbest: 0.1516206 (11)\ttotal: 18m 52s\tremaining: 5h 30m 46s\n",
      "bestTest = 0.1597165188\n",
      "bestIteration = 499\n",
      "27:\tloss: 0.1597165\tbest: 0.1516206 (11)\ttotal: 19m 23s\tremaining: 5h 26m 59s\n",
      "bestTest = 0.1771081635\n",
      "bestIteration = 499\n",
      "28:\tloss: 0.1771082\tbest: 0.1516206 (11)\ttotal: 19m 54s\tremaining: 5h 23m 26s\n",
      "bestTest = 0.1541677065\n",
      "bestIteration = 334\n",
      "29:\tloss: 0.1541677\tbest: 0.1516206 (11)\ttotal: 22m 34s\tremaining: 5h 53m 35s\n",
      "bestTest = 0.1591737481\n",
      "bestIteration = 999\n",
      "30:\tloss: 0.1591737\tbest: 0.1516206 (11)\ttotal: 23m 31s\tremaining: 5h 55m 50s\n",
      "bestTest = 0.1505198378\n",
      "bestIteration = 999\n",
      "31:\tloss: 0.1505198\tbest: 0.1505198 (31)\ttotal: 26m 7s\tremaining: 6h 22m 10s\n",
      "bestTest = 0.1503326438\n",
      "bestIteration = 660\n",
      "32:\tloss: 0.1503326\tbest: 0.1503326 (32)\ttotal: 28m 45s\tremaining: 6h 47m\n",
      "bestTest = 0.1554627687\n",
      "bestIteration = 999\n",
      "33:\tloss: 0.1554628\tbest: 0.1503326 (32)\ttotal: 29m 14s\tremaining: 6h 40m 49s\n",
      "bestTest = 0.150837451\n",
      "bestIteration = 997\n",
      "34:\tloss: 0.1508375\tbest: 0.1503326 (32)\ttotal: 29m 44s\tremaining: 6h 35m 1s\n",
      "bestTest = 0.1523664335\n",
      "bestIteration = 440\n",
      "35:\tloss: 0.1523664\tbest: 0.1503326 (32)\ttotal: 32m 21s\tremaining: 6h 57m 6s\n",
      "bestTest = 0.151900836\n",
      "bestIteration = 518\n",
      "36:\tloss: 0.1519008\tbest: 0.1503326 (32)\ttotal: 34m 59s\tremaining: 7h 17m 46s\n",
      "bestTest = 0.1559495255\n",
      "bestIteration = 302\n",
      "37:\tloss: 0.1559495\tbest: 0.1503326 (32)\ttotal: 37m 38s\tremaining: 7h 37m 41s\n",
      "bestTest = 0.1525388697\n",
      "bestIteration = 999\n",
      "38:\tloss: 0.1525389\tbest: 0.1503326 (32)\ttotal: 38m 37s\tremaining: 7h 36m 28s\n",
      "bestTest = 0.157788539\n",
      "bestIteration = 999\n",
      "39:\tloss: 0.1577885\tbest: 0.1503326 (32)\ttotal: 39m 6s\tremaining: 7h 29m 40s\n",
      "bestTest = 0.1527017167\n",
      "bestIteration = 999\n",
      "40:\tloss: 0.1527017\tbest: 0.1503326 (32)\ttotal: 41m 45s\tremaining: 7h 47m 33s\n",
      "bestTest = 0.1518150574\n",
      "bestIteration = 996\n",
      "41:\tloss: 0.1518151\tbest: 0.1503326 (32)\ttotal: 42m 44s\tremaining: 7h 46m 3s\n",
      "bestTest = 0.153623847\n",
      "bestIteration = 592\n",
      "42:\tloss: 0.1536238\tbest: 0.1503326 (32)\ttotal: 43m 43s\tremaining: 7h 44m 47s\n",
      "bestTest = 0.1528271642\n",
      "bestIteration = 999\n",
      "43:\tloss: 0.1528272\tbest: 0.1503326 (32)\ttotal: 46m 23s\tremaining: 8h 45s\n",
      "bestTest = 0.1572186927\n",
      "bestIteration = 999\n",
      "44:\tloss: 0.1572187\tbest: 0.1503326 (32)\ttotal: 47m 22s\tremaining: 7h 58m 57s\n",
      "bestTest = 0.1739908789\n",
      "bestIteration = 999\n",
      "45:\tloss: 0.1739909\tbest: 0.1503326 (32)\ttotal: 47m 51s\tremaining: 7h 52m 19s\n",
      "bestTest = 0.1592051264\n",
      "bestIteration = 998\n",
      "46:\tloss: 0.1592051\tbest: 0.1503326 (32)\ttotal: 48m 20s\tremaining: 7h 45m 57s\n",
      "bestTest = 0.1736035304\n",
      "bestIteration = 999\n",
      "47:\tloss: 0.1736035\tbest: 0.1503326 (32)\ttotal: 48m 49s\tremaining: 7h 39m 50s\n",
      "bestTest = 0.1761160355\n",
      "bestIteration = 999\n",
      "48:\tloss: 0.1761160\tbest: 0.1503326 (32)\ttotal: 49m 18s\tremaining: 7h 33m 54s\n",
      "bestTest = 0.1660087811\n",
      "bestIteration = 999\n",
      "49:\tloss: 0.1660088\tbest: 0.1503326 (32)\ttotal: 49m 47s\tremaining: 7h 28m 11s\n",
      "bestTest = 0.1627160693\n",
      "bestIteration = 999\n",
      "50:\tloss: 0.1627161\tbest: 0.1503326 (32)\ttotal: 50m 46s\tremaining: 7h 27m\n",
      "bestTest = 0.157621468\n",
      "bestIteration = 996\n",
      "51:\tloss: 0.1576215\tbest: 0.1503326 (32)\ttotal: 51m 45s\tremaining: 7h 25m 56s\n",
      "bestTest = 0.1592373573\n",
      "bestIteration = 998\n",
      "52:\tloss: 0.1592374\tbest: 0.1503326 (32)\ttotal: 52m 15s\tremaining: 7h 20m 42s\n",
      "bestTest = 0.1585559949\n",
      "bestIteration = 999\n",
      "53:\tloss: 0.1585560\tbest: 0.1503326 (32)\ttotal: 53m 13s\tremaining: 7h 19m 33s\n",
      "bestTest = 0.1484919512\n",
      "bestIteration = 1998\n",
      "54:\tloss: 0.1484920\tbest: 0.1484920 (54)\ttotal: 55m 6s\tremaining: 7h 25m 50s\n",
      "bestTest = 0.1499503195\n",
      "bestIteration = 866\n",
      "55:\tloss: 0.1499503\tbest: 0.1484920 (54)\ttotal: 1h 19s\tremaining: 7h 58m 14s\n",
      "bestTest = 0.1506438292\n",
      "bestIteration = 1999\n",
      "56:\tloss: 0.1506438\tbest: 0.1484920 (54)\ttotal: 1h 2m 11s\tremaining: 8h 3m 19s\n",
      "bestTest = 0.1557715797\n",
      "bestIteration = 1999\n",
      "57:\tloss: 0.1557716\tbest: 0.1484920 (54)\ttotal: 1h 3m 7s\tremaining: 8h 1m\n",
      "bestTest = 0.1523664466\n",
      "bestIteration = 440\n",
      "58:\tloss: 0.1523664\tbest: 0.1484920 (54)\ttotal: 1h 8m 18s\tremaining: 8h 30m 36s\n",
      "bestTest = 0.1481614824\n",
      "bestIteration = 1304\n",
      "59:\tloss: 0.1481615\tbest: 0.1481615 (59)\ttotal: 1h 10m 13s\tremaining: 8h 34m 58s\n",
      "bestTest = 0.1481785882\n",
      "bestIteration = 1580\n",
      "60:\tloss: 0.1481786\tbest: 0.1481615 (59)\ttotal: 1h 12m 7s\tremaining: 8h 39m 1s\n",
      "bestTest = 0.1532845497\n",
      "bestIteration = 659\n",
      "61:\tloss: 0.1532845\tbest: 0.1481615 (59)\ttotal: 1h 17m 25s\tremaining: 9h 7m\n",
      "bestTest = 0.1514769801\n",
      "bestIteration = 1998\n",
      "62:\tloss: 0.1514770\tbest: 0.1481615 (59)\ttotal: 1h 18m 22s\tremaining: 9h 3m 35s\n",
      "bestTest = 0.158023089\n",
      "bestIteration = 1999\n",
      "63:\tloss: 0.1580231\tbest: 0.1481615 (59)\ttotal: 1h 19m 18s\tremaining: 9h 18s\n",
      "bestTest = 0.1530315034\n",
      "bestIteration = 807\n",
      "64:\tloss: 0.1530315\tbest: 0.1481615 (59)\ttotal: 1h 24m 36s\tremaining: 9h 26m 10s\n",
      "bestTest = 0.152786013\n",
      "bestIteration = 1999\n",
      "65:\tloss: 0.1527860\tbest: 0.1481615 (59)\ttotal: 1h 25m 32s\tremaining: 9h 22m 31s\n",
      "bestTest = 0.1520326196\n",
      "bestIteration = 1912\n",
      "66:\tloss: 0.1520326\tbest: 0.1481615 (59)\ttotal: 1h 26m 29s\tremaining: 9h 18m 55s\n",
      "bestTest = 0.152671965\n",
      "bestIteration = 1044\n",
      "67:\tloss: 0.1526720\tbest: 0.1481615 (59)\ttotal: 1h 31m 44s\tremaining: 9h 42m 51s\n",
      "bestTest = 0.1502493838\n",
      "bestIteration = 1975\n",
      "68:\tloss: 0.1502494\tbest: 0.1481615 (59)\ttotal: 1h 33m 39s\tremaining: 9h 45m 1s\n",
      "bestTest = 0.1511561005\n",
      "bestIteration = 1814\n",
      "69:\tloss: 0.1511561\tbest: 0.1481615 (59)\ttotal: 1h 34m 35s\tremaining: 9h 41m 4s\n",
      "bestTest = 0.1529679729\n",
      "bestIteration = 1031\n",
      "70:\tloss: 0.1529680\tbest: 0.1481615 (59)\ttotal: 1h 39m 52s\tremaining: 10h 3m 29s\n",
      "bestTest = 0.1551651867\n",
      "bestIteration = 498\n",
      "71:\tloss: 0.1551652\tbest: 0.1481615 (59)\ttotal: 1h 45m 6s\tremaining: 10h 24m 51s\n",
      "bestTest = 0.1520130081\n",
      "bestIteration = 1708\n",
      "72:\tloss: 0.1520130\tbest: 0.1481615 (59)\ttotal: 1h 46m 2s\tremaining: 10h 20m 18s\n",
      "bestTest = 0.1508097326\n",
      "bestIteration = 1524\n",
      "73:\tloss: 0.1508097\tbest: 0.1481615 (59)\ttotal: 1h 47m 56s\tremaining: 10h 21m 25s\n",
      "bestTest = 0.1573288315\n",
      "bestIteration = 1375\n",
      "74:\tloss: 0.1573288\tbest: 0.1481615 (59)\ttotal: 1h 53m 10s\tremaining: 10h 41m 17s\n",
      "bestTest = 0.1620200541\n",
      "bestIteration = 431\n",
      "75:\tloss: 0.1620201\tbest: 0.1481615 (59)\ttotal: 1h 58m 21s\tremaining: 11h 18s\n",
      "bestTest = 0.1581560137\n",
      "bestIteration = 1999\n",
      "76:\tloss: 0.1581560\tbest: 0.1481615 (59)\ttotal: 1h 59m 16s\tremaining: 10h 55m 12s\n",
      "bestTest = 0.1603806442\n",
      "bestIteration = 442\n",
      "77:\tloss: 0.1603806\tbest: 0.1481615 (59)\ttotal: 2h 4m 26s\tremaining: 11h 13m 14s\n",
      "bestTest = 0.1559096467\n",
      "bestIteration = 1988\n",
      "78:\tloss: 0.1559096\tbest: 0.1481615 (59)\ttotal: 2h 6m 19s\tremaining: 11h 13m 14s\n",
      "bestTest = 0.1555559065\n",
      "bestIteration = 1591\n",
      "79:\tloss: 0.1555559\tbest: 0.1481615 (59)\ttotal: 2h 8m 13s\tremaining: 11h 13m 9s\n",
      "bestTest = 0.1553934007\n",
      "bestIteration = 1978\n",
      "80:\tloss: 0.1553934\tbest: 0.1481615 (59)\ttotal: 2h 9m 7s\tremaining: 11h 7m 56s\n",
      "bestTest = 0.1552894667\n",
      "bestIteration = 1984\n",
      "81:\tloss: 0.1552895\tbest: 0.1481615 (59)\ttotal: 2h 11m\tremaining: 11h 7m 50s\n",
      "bestTest = 0.1560441194\n",
      "bestIteration = 1999\n",
      "82:\tloss: 0.1560441\tbest: 0.1481615 (59)\ttotal: 2h 11m 55s\tremaining: 11h 2m 50s\n",
      "bestTest = 0.1573293825\n",
      "bestIteration = 1291\n",
      "83:\tloss: 0.1573294\tbest: 0.1481615 (59)\ttotal: 2h 17m 8s\tremaining: 11h 19m 9s\n",
      "bestTest = 0.1575238569\n",
      "bestIteration = 1571\n",
      "84:\tloss: 0.1575239\tbest: 0.1481615 (59)\ttotal: 2h 22m 20s\tremaining: 11h 34m 59s\n",
      "bestTest = 0.158435729\n",
      "bestIteration = 861\n",
      "85:\tloss: 0.1584357\tbest: 0.1481615 (59)\ttotal: 2h 27m 32s\tremaining: 11h 50m 14s\n",
      "bestTest = 0.1604176238\n",
      "bestIteration = 499\n",
      "86:\tloss: 0.1604176\tbest: 0.1481615 (59)\ttotal: 2h 27m 56s\tremaining: 11h 42m 20s\n",
      "bestTest = 0.1735402753\n",
      "bestIteration = 499\n",
      "87:\tloss: 0.1735403\tbest: 0.1481615 (59)\ttotal: 2h 28m 44s\tremaining: 11h 36m 20s\n",
      "bestTest = 0.1606414958\n",
      "bestIteration = 499\n",
      "88:\tloss: 0.1606415\tbest: 0.1481615 (59)\ttotal: 2h 29m 31s\tremaining: 11h 30m 30s\n",
      "bestTest = 0.1647336452\n",
      "bestIteration = 499\n",
      "89:\tloss: 0.1647336\tbest: 0.1481615 (59)\ttotal: 2h 31m 41s\tremaining: 11h 31m\n",
      "bestTest = 0.1869190034\n",
      "bestIteration = 499\n",
      "90:\tloss: 0.1869190\tbest: 0.1481615 (59)\ttotal: 2h 32m 5s\tremaining: 11h 23m 33s\n",
      "bestTest = 0.1545200693\n",
      "bestIteration = 499\n",
      "91:\tloss: 0.1545201\tbest: 0.1481615 (59)\ttotal: 2h 34m 15s\tremaining: 11h 24m 4s\n",
      "bestTest = 0.1708998303\n",
      "bestIteration = 499\n",
      "92:\tloss: 0.1708998\tbest: 0.1481615 (59)\ttotal: 2h 34m 39s\tremaining: 11h 16m 50s\n",
      "bestTest = 0.1876955895\n",
      "bestIteration = 499\n",
      "93:\tloss: 0.1876956\tbest: 0.1481615 (59)\ttotal: 2h 35m 4s\tremaining: 11h 9m 46s\n",
      "bestTest = 0.1877983822\n",
      "bestIteration = 499\n",
      "94:\tloss: 0.1877984\tbest: 0.1481615 (59)\ttotal: 2h 35m 29s\tremaining: 11h 2m 52s\n",
      "bestTest = 0.1556858535\n",
      "bestIteration = 499\n",
      "95:\tloss: 0.1556859\tbest: 0.1481615 (59)\ttotal: 2h 36m 17s\tremaining: 10h 57m 42s\n",
      "bestTest = 0.1656418311\n",
      "bestIteration = 499\n",
      "96:\tloss: 0.1656418\tbest: 0.1481615 (59)\ttotal: 2h 38m 27s\tremaining: 10h 58m 19s\n",
      "bestTest = 0.1728310502\n",
      "bestIteration = 499\n",
      "97:\tloss: 0.1728311\tbest: 0.1481615 (59)\ttotal: 2h 38m 51s\tremaining: 10h 51m 39s\n",
      "bestTest = 0.1748753868\n",
      "bestIteration = 499\n",
      "98:\tloss: 0.1748754\tbest: 0.1481615 (59)\ttotal: 2h 39m 38s\tremaining: 10h 46m 39s\n",
      "bestTest = 0.1875844537\n",
      "bestIteration = 499\n",
      "99:\tloss: 0.1875845\tbest: 0.1481615 (59)\ttotal: 2h 40m 3s\tremaining: 10h 40m 13s\n",
      "bestTest = 0.1746800334\n",
      "bestIteration = 499\n",
      "100:\tloss: 0.1746800\tbest: 0.1481615 (59)\ttotal: 2h 40m 50s\tremaining: 10h 35m 24s\n",
      "bestTest = 0.156901132\n",
      "bestIteration = 499\n",
      "101:\tloss: 0.1569011\tbest: 0.1481615 (59)\ttotal: 2h 43m 1s\tremaining: 10h 36m 6s\n",
      "bestTest = 0.1633986124\n",
      "bestIteration = 499\n",
      "102:\tloss: 0.1633986\tbest: 0.1481615 (59)\ttotal: 2h 43m 25s\tremaining: 10h 29m 54s\n",
      "bestTest = 0.1555844513\n",
      "bestIteration = 498\n",
      "103:\tloss: 0.1555845\tbest: 0.1481615 (59)\ttotal: 2h 44m 13s\tremaining: 10h 25m 17s\n",
      "bestTest = 0.1926322369\n",
      "bestIteration = 499\n",
      "104:\tloss: 0.1926322\tbest: 0.1481615 (59)\ttotal: 2h 44m 37s\tremaining: 10h 19m 19s\n",
      "bestTest = 0.1804603261\n",
      "bestIteration = 499\n",
      "105:\tloss: 0.1804603\tbest: 0.1481615 (59)\ttotal: 2h 45m 25s\tremaining: 10h 14m 52s\n",
      "bestTest = 0.1630026453\n",
      "bestIteration = 499\n",
      "106:\tloss: 0.1630026\tbest: 0.1481615 (59)\ttotal: 2h 47m 38s\tremaining: 10h 15m 42s\n",
      "bestTest = 0.1806601527\n",
      "bestIteration = 499\n",
      "107:\tloss: 0.1806602\tbest: 0.1481615 (59)\ttotal: 2h 48m 3s\tremaining: 10h 9m 57s\n",
      "bestTest = 0.1635692383\n",
      "bestIteration = 498\n",
      "108:\tloss: 0.1635692\tbest: 0.1481615 (59)\ttotal: 2h 48m 51s\tremaining: 10h 5m 41s\n",
      "bestTest = 0.1800062463\n",
      "bestIteration = 499\n",
      "109:\tloss: 0.1800062\tbest: 0.1481615 (59)\ttotal: 2h 49m 15s\tremaining: 10h 4s\n",
      "bestTest = 0.1931653527\n",
      "bestIteration = 499\n",
      "110:\tloss: 0.1931654\tbest: 0.1481615 (59)\ttotal: 2h 49m 39s\tremaining: 9h 54m 33s\n",
      "bestTest = 0.1803400471\n",
      "bestIteration = 499\n",
      "111:\tloss: 0.1803400\tbest: 0.1481615 (59)\ttotal: 2h 50m 4s\tremaining: 9h 49m 9s\n",
      "bestTest = 0.1930020597\n",
      "bestIteration = 499\n",
      "112:\tloss: 0.1930021\tbest: 0.1481615 (59)\ttotal: 2h 50m 28s\tremaining: 9h 43m 49s\n",
      "bestTest = 0.1694661501\n",
      "bestIteration = 499\n",
      "113:\tloss: 0.1694662\tbest: 0.1481615 (59)\ttotal: 2h 51m 16s\tremaining: 9h 39m 54s\n",
      "bestTest = 0.1633554541\n",
      "bestIteration = 499\n",
      "114:\tloss: 0.1633555\tbest: 0.1481615 (59)\ttotal: 2h 52m 3s\tremaining: 9h 36m 2s\n",
      "bestTest = 0.1635937821\n",
      "bestIteration = 499\n",
      "115:\tloss: 0.1635938\tbest: 0.1481615 (59)\ttotal: 2h 54m 15s\tremaining: 9h 36m 51s\n",
      "bestTest = 0.1703977516\n",
      "bestIteration = 999\n",
      "116:\tloss: 0.1703978\tbest: 0.1481615 (59)\ttotal: 2h 55m 1s\tremaining: 9h 32m 57s\n",
      "bestTest = 0.151512648\n",
      "bestIteration = 999\n",
      "117:\tloss: 0.1515126\tbest: 0.1481615 (59)\ttotal: 2h 56m 34s\tremaining: 9h 31m 36s\n",
      "bestTest = 0.1509531518\n",
      "bestIteration = 997\n",
      "118:\tloss: 0.1509532\tbest: 0.1481615 (59)\ttotal: 2h 58m 6s\tremaining: 9h 30m 15s\n",
      "bestTest = 0.1705974339\n",
      "bestIteration = 999\n",
      "119:\tloss: 0.1705974\tbest: 0.1481615 (59)\ttotal: 2h 58m 52s\tremaining: 9h 26m 27s\n",
      "bestTest = 0.1530800138\n",
      "bestIteration = 986\n",
      "120:\tloss: 0.1530800\tbest: 0.1481615 (59)\ttotal: 3h 3m 14s\tremaining: 9h 33m 55s\n",
      "bestTest = 0.155517943\n",
      "bestIteration = 999\n",
      "121:\tloss: 0.1555179\tbest: 0.1481615 (59)\ttotal: 3h 4m\tremaining: 9h 30m 8s\n",
      "bestTest = 0.1568354632\n",
      "bestIteration = 508\n",
      "122:\tloss: 0.1568355\tbest: 0.1481615 (59)\ttotal: 3h 8m 21s\tremaining: 9h 37m 20s\n",
      "bestTest = 0.172460965\n",
      "bestIteration = 999\n",
      "123:\tloss: 0.1724610\tbest: 0.1481615 (59)\ttotal: 3h 9m 8s\tremaining: 9h 33m 31s\n",
      "bestTest = 0.1531248249\n",
      "bestIteration = 999\n",
      "124:\tloss: 0.1531248\tbest: 0.1481615 (59)\ttotal: 3h 10m 42s\tremaining: 9h 32m 6s\n",
      "bestTest = 0.1622634718\n",
      "bestIteration = 999\n",
      "125:\tloss: 0.1622635\tbest: 0.1481615 (59)\ttotal: 3h 11m 28s\tremaining: 9h 28m 20s\n",
      "bestTest = 0.1530277254\n",
      "bestIteration = 903\n",
      "126:\tloss: 0.1530277\tbest: 0.1481615 (59)\ttotal: 3h 13m 2s\tremaining: 9h 26m 56s\n",
      "bestTest = 0.1563721614\n",
      "bestIteration = 446\n",
      "127:\tloss: 0.1563722\tbest: 0.1481615 (59)\ttotal: 3h 17m 22s\tremaining: 9h 33m 37s\n",
      "bestTest = 0.161956012\n",
      "bestIteration = 999\n",
      "128:\tloss: 0.1619560\tbest: 0.1481615 (59)\ttotal: 3h 18m 9s\tremaining: 9h 29m 53s\n",
      "bestTest = 0.1618354706\n",
      "bestIteration = 999\n",
      "129:\tloss: 0.1618355\tbest: 0.1481615 (59)\ttotal: 3h 19m 41s\tremaining: 9h 28m 21s\n",
      "bestTest = 0.1555201862\n",
      "bestIteration = 999\n",
      "130:\tloss: 0.1555202\tbest: 0.1481615 (59)\ttotal: 3h 24m\tremaining: 9h 34m 39s\n",
      "bestTest = 0.1537754387\n",
      "bestIteration = 960\n",
      "131:\tloss: 0.1537754\tbest: 0.1481615 (59)\ttotal: 3h 28m 20s\tremaining: 9h 40m 51s\n",
      "bestTest = 0.1621074594\n",
      "bestIteration = 999\n",
      "132:\tloss: 0.1621075\tbest: 0.1481615 (59)\ttotal: 3h 29m 6s\tremaining: 9h 37m 1s\n",
      "bestTest = 0.1544279678\n",
      "bestIteration = 999\n",
      "133:\tloss: 0.1544280\tbest: 0.1481615 (59)\ttotal: 3h 30m 40s\tremaining: 9h 35m 24s\n",
      "bestTest = 0.1562043297\n",
      "bestIteration = 999\n",
      "134:\tloss: 0.1562043\tbest: 0.1481615 (59)\ttotal: 3h 34m 59s\tremaining: 9h 41m 17s\n",
      "bestTest = 0.1688241548\n",
      "bestIteration = 999\n",
      "135:\tloss: 0.1688242\tbest: 0.1481615 (59)\ttotal: 3h 36m 32s\tremaining: 9h 39m 34s\n",
      "bestTest = 0.1638738778\n",
      "bestIteration = 999\n",
      "136:\tloss: 0.1638739\tbest: 0.1481615 (59)\ttotal: 3h 37m 18s\tremaining: 9h 35m 48s\n",
      "bestTest = 0.1679319073\n",
      "bestIteration = 999\n",
      "137:\tloss: 0.1679319\tbest: 0.1481615 (59)\ttotal: 3h 38m 51s\tremaining: 9h 34m 6s\n",
      "bestTest = 0.1600567343\n",
      "bestIteration = 971\n",
      "138:\tloss: 0.1600567\tbest: 0.1481615 (59)\ttotal: 3h 40m 24s\tremaining: 9h 32m 26s\n",
      "bestTest = 0.1616694491\n",
      "bestIteration = 999\n",
      "139:\tloss: 0.1616694\tbest: 0.1481615 (59)\ttotal: 3h 41m 58s\tremaining: 9h 30m 46s\n",
      "bestTest = 0.1628127753\n",
      "bestIteration = 999\n",
      "140:\tloss: 0.1628128\tbest: 0.1481615 (59)\ttotal: 3h 42m 44s\tremaining: 9h 27m 7s\n",
      "bestTest = 0.1698844046\n",
      "bestIteration = 999\n",
      "141:\tloss: 0.1698844\tbest: 0.1481615 (59)\ttotal: 3h 43m 31s\tremaining: 9h 23m 31s\n",
      "bestTest = 0.1588098677\n",
      "bestIteration = 997\n",
      "142:\tloss: 0.1588099\tbest: 0.1481615 (59)\ttotal: 3h 45m 4s\tremaining: 9h 21m 54s\n",
      "bestTest = 0.1489742348\n",
      "bestIteration = 1956\n",
      "143:\tloss: 0.1489742\tbest: 0.1481615 (59)\ttotal: 3h 46m 34s\tremaining: 9h 20m 9s\n",
      "bestTest = 0.1492226636\n",
      "bestIteration = 1239\n",
      "144:\tloss: 0.1492227\tbest: 0.1481615 (59)\ttotal: 3h 55m 12s\tremaining: 9h 35m 50s\n",
      "bestTest = 0.1476960423\n",
      "bestIteration = 1956\n",
      "145:\tloss: 0.1476960\tbest: 0.1476960 (145)\ttotal: 3h 58m 15s\tremaining: 9h 37m 42s\n",
      "bestTest = 0.1499551731\n",
      "bestIteration = 1172\n",
      "146:\tloss: 0.1499552\tbest: 0.1476960 (145)\ttotal: 4h 1m 19s\tremaining: 9h 39m 31s\n",
      "bestTest = 0.1474236207\n",
      "bestIteration = 1995\n",
      "147:\tloss: 0.1474236\tbest: 0.1474236 (147)\ttotal: 4h 4m 23s\tremaining: 9h 41m 16s\n",
      "bestTest = 0.1483054131\n",
      "bestIteration = 1999\n",
      "148:\tloss: 0.1483054\tbest: 0.1474236 (147)\ttotal: 4h 13m 2s\tremaining: 9h 56m 5s\n",
      "bestTest = 0.1508533238\n",
      "bestIteration = 1999\n",
      "149:\tloss: 0.1508533\tbest: 0.1474236 (147)\ttotal: 4h 16m 5s\tremaining: 9h 57m 33s\n",
      "bestTest = 0.1500539386\n",
      "bestIteration = 1074\n",
      "150:\tloss: 0.1500539\tbest: 0.1474236 (147)\ttotal: 4h 24m 45s\tremaining: 10h 11m 55s\n",
      "bestTest = 0.15896508\n",
      "bestIteration = 1998\n",
      "151:\tloss: 0.1589651\tbest: 0.1474236 (147)\ttotal: 4h 26m 15s\tremaining: 10h 9m 36s\n",
      "bestTest = 0.1502058845\n",
      "bestIteration = 1312\n",
      "152:\tloss: 0.1502059\tbest: 0.1474236 (147)\ttotal: 4h 29m 20s\tremaining: 10h 10m 51s\n",
      "bestTest = 0.151457854\n",
      "bestIteration = 1990\n",
      "153:\tloss: 0.1514579\tbest: 0.1474236 (147)\ttotal: 4h 30m 51s\tremaining: 10h 8m 33s\n",
      "bestTest = 0.1616499426\n",
      "bestIteration = 1999\n",
      "154:\tloss: 0.1616499\tbest: 0.1474236 (147)\ttotal: 4h 32m 22s\tremaining: 10h 6m 14s\n",
      "bestTest = 0.1546688931\n",
      "bestIteration = 1999\n",
      "155:\tloss: 0.1546689\tbest: 0.1474236 (147)\ttotal: 4h 33m 53s\tremaining: 10h 3m 58s\n",
      "bestTest = 0.1530520593\n",
      "bestIteration = 1154\n",
      "156:\tloss: 0.1530521\tbest: 0.1474236 (147)\ttotal: 4h 42m 40s\tremaining: 10h 17m 33s\n",
      "bestTest = 0.1530277123\n",
      "bestIteration = 903\n",
      "157:\tloss: 0.1530277\tbest: 0.1474236 (147)\ttotal: 4h 45m 46s\tremaining: 10h 18m 34s\n",
      "bestTest = 0.1533514647\n",
      "bestIteration = 986\n",
      "158:\tloss: 0.1533515\tbest: 0.1474236 (147)\ttotal: 4h 54m 32s\tremaining: 10h 31m 40s\n",
      "bestTest = 0.1515321544\n",
      "bestIteration = 1999\n",
      "159:\tloss: 0.1515322\tbest: 0.1474236 (147)\ttotal: 4h 56m 3s\tremaining: 10h 29m 7s\n",
      "bestTest = 0.1538036424\n",
      "bestIteration = 1999\n",
      "160:\tloss: 0.1538036\tbest: 0.1474236 (147)\ttotal: 4h 57m 34s\tremaining: 10h 26m 33s\n",
      "bestTest = 0.1522086107\n",
      "bestIteration = 1985\n",
      "161:\tloss: 0.1522086\tbest: 0.1474236 (147)\ttotal: 4h 59m 5s\tremaining: 10h 24m 1s\n",
      "bestTest = 0.1563310627\n",
      "bestIteration = 510\n",
      "162:\tloss: 0.1563311\tbest: 0.1474236 (147)\ttotal: 5h 7m 52s\tremaining: 10h 36m 32s\n",
      "bestTest = 0.1687949672\n",
      "bestIteration = 1999\n",
      "163:\tloss: 0.1687950\tbest: 0.1474236 (147)\ttotal: 5h 9m 23s\tremaining: 10h 33m 52s\n",
      "bestTest = 0.1573625054\n",
      "bestIteration = 1985\n",
      "164:\tloss: 0.1573625\tbest: 0.1474236 (147)\ttotal: 5h 12m 31s\tremaining: 10h 34m 30s\n",
      "bestTest = 0.1601471961\n",
      "bestIteration = 1094\n",
      "165:\tloss: 0.1601472\tbest: 0.1474236 (147)\ttotal: 5h 21m 19s\tremaining: 10h 46m 30s\n",
      "bestTest = 0.1692337121\n",
      "bestIteration = 1999\n",
      "166:\tloss: 0.1692337\tbest: 0.1474236 (147)\ttotal: 5h 22m 50s\tremaining: 10h 43m 45s\n",
      "bestTest = 0.1570647529\n",
      "bestIteration = 1985\n",
      "167:\tloss: 0.1570648\tbest: 0.1474236 (147)\ttotal: 5h 25m 57s\tremaining: 10h 44m 9s\n",
      "bestTest = 0.1614823076\n",
      "bestIteration = 1999\n",
      "168:\tloss: 0.1614823\tbest: 0.1474236 (147)\ttotal: 5h 27m 29s\tremaining: 10h 41m 24s\n",
      "bestTest = 0.1623433867\n",
      "bestIteration = 505\n",
      "169:\tloss: 0.1623434\tbest: 0.1474236 (147)\ttotal: 5h 36m 16s\tremaining: 10h 52m 47s\n",
      "bestTest = 0.1601327007\n",
      "bestIteration = 1997\n",
      "170:\tloss: 0.1601327\tbest: 0.1474236 (147)\ttotal: 5h 39m 23s\tremaining: 10h 52m 59s\n",
      "bestTest = 0.1600227587\n",
      "bestIteration = 1999\n",
      "171:\tloss: 0.1600228\tbest: 0.1474236 (147)\ttotal: 5h 42m 30s\tremaining: 10h 53m 8s\n",
      "bestTest = 0.1601327138\n",
      "bestIteration = 1997\n",
      "172:\tloss: 0.1601327\tbest: 0.1474236 (147)\ttotal: 5h 45m 36s\tremaining: 10h 53m 15s\n",
      "bestTest = 0.1615965261\n",
      "bestIteration = 1998\n",
      "173:\tloss: 0.1615965\tbest: 0.1474236 (147)\ttotal: 5h 47m 8s\tremaining: 10h 50m 23s\n",
      "bestTest = 0.1572084082\n",
      "bestIteration = 1990\n",
      "174:\tloss: 0.1572084\tbest: 0.1474236 (147)\ttotal: 5h 48m 39s\tremaining: 10h 47m 30s\n",
      "bestTest = 0.1795170626\n",
      "bestIteration = 499\n",
      "175:\tloss: 0.1795171\tbest: 0.1474236 (147)\ttotal: 5h 48m 55s\tremaining: 10h 42m 19s\n",
      "bestTest = 0.1567935381\n",
      "bestIteration = 499\n",
      "176:\tloss: 0.1567935\tbest: 0.1474236 (147)\ttotal: 5h 49m 25s\tremaining: 10h 37m 38s\n",
      "bestTest = 0.1527923227\n",
      "bestIteration = 499\n",
      "177:\tloss: 0.1527923\tbest: 0.1474236 (147)\ttotal: 5h 50m 45s\tremaining: 10h 34m 31s\n",
      "bestTest = 0.1803944868\n",
      "bestIteration = 499\n",
      "178:\tloss: 0.1803945\tbest: 0.1474236 (147)\ttotal: 5h 51m 1s\tremaining: 10h 29m 29s\n",
      "bestTest = 0.1570481717\n",
      "bestIteration = 499\n",
      "179:\tloss: 0.1570482\tbest: 0.1474236 (147)\ttotal: 5h 51m 17s\tremaining: 10h 24m 30s\n",
      "bestTest = 0.1525926142\n",
      "bestIteration = 499\n",
      "180:\tloss: 0.1525926\tbest: 0.1474236 (147)\ttotal: 5h 52m 36s\tremaining: 10h 21m 27s\n",
      "bestTest = 0.1701368607\n",
      "bestIteration = 499\n",
      "181:\tloss: 0.1701369\tbest: 0.1474236 (147)\ttotal: 5h 53m 6s\tremaining: 10h 16m 58s\n",
      "bestTest = 0.1625527108\n",
      "bestIteration = 499\n",
      "182:\tloss: 0.1625527\tbest: 0.1474236 (147)\ttotal: 5h 54m 25s\tremaining: 10h 13m 56s\n",
      "bestTest = 0.1650379173\n",
      "bestIteration = 499\n",
      "183:\tloss: 0.1650379\tbest: 0.1474236 (147)\ttotal: 5h 54m 41s\tremaining: 10h 9m 8s\n",
      "bestTest = 0.1522301505\n",
      "bestIteration = 498\n",
      "184:\tloss: 0.1522302\tbest: 0.1474236 (147)\ttotal: 5h 56m 1s\tremaining: 10h 6m 11s\n",
      "bestTest = 0.1541862554\n",
      "bestIteration = 499\n",
      "185:\tloss: 0.1541863\tbest: 0.1474236 (147)\ttotal: 5h 57m 20s\tremaining: 10h 3m 14s\n",
      "bestTest = 0.1582479841\n",
      "bestIteration = 499\n",
      "186:\tloss: 0.1582480\tbest: 0.1474236 (147)\ttotal: 5h 57m 51s\tremaining: 9h 58m 58s\n",
      "bestTest = 0.1810906726\n",
      "bestIteration = 499\n",
      "187:\tloss: 0.1810907\tbest: 0.1474236 (147)\ttotal: 5h 58m 6s\tremaining: 9h 54m 19s\n",
      "bestTest = 0.1585773248\n",
      "bestIteration = 499\n",
      "188:\tloss: 0.1585773\tbest: 0.1474236 (147)\ttotal: 5h 58m 37s\tremaining: 9h 50m 6s\n",
      "bestTest = 0.159371043\n",
      "bestIteration = 499\n",
      "189:\tloss: 0.1593710\tbest: 0.1474236 (147)\ttotal: 5h 59m 7s\tremaining: 9h 45m 56s\n",
      "bestTest = 0.1554250151\n",
      "bestIteration = 499\n",
      "190:\tloss: 0.1554250\tbest: 0.1474236 (147)\ttotal: 6h 27s\tremaining: 9h 43m 9s\n",
      "bestTest = 0.1696450797\n",
      "bestIteration = 499\n",
      "191:\tloss: 0.1696451\tbest: 0.1474236 (147)\ttotal: 6h 43s\tremaining: 9h 38m 39s\n",
      "bestTest = 0.1812917979\n",
      "bestIteration = 499\n",
      "192:\tloss: 0.1812918\tbest: 0.1474236 (147)\ttotal: 6h 59s\tremaining: 9h 34m 12s\n",
      "bestTest = 0.1587892593\n",
      "bestIteration = 499\n",
      "193:\tloss: 0.1587893\tbest: 0.1474236 (147)\ttotal: 6h 1m 14s\tremaining: 9h 29m 48s\n",
      "bestTest = 0.1678688359\n",
      "bestIteration = 499\n",
      "194:\tloss: 0.1678688\tbest: 0.1474236 (147)\ttotal: 6h 1m 30s\tremaining: 9h 25m 26s\n",
      "bestTest = 0.1716412994\n",
      "bestIteration = 499\n",
      "195:\tloss: 0.1716413\tbest: 0.1474236 (147)\ttotal: 6h 2m\tremaining: 9h 21m 28s\n",
      "bestTest = 0.1558512191\n",
      "bestIteration = 494\n",
      "196:\tloss: 0.1558512\tbest: 0.1474236 (147)\ttotal: 6h 2m 30s\tremaining: 9h 17m 33s\n",
      "bestTest = 0.1557251682\n",
      "bestIteration = 385\n",
      "197:\tloss: 0.1557252\tbest: 0.1474236 (147)\ttotal: 6h 3m 51s\tremaining: 9h 14m 58s\n",
      "bestTest = 0.160584157\n",
      "bestIteration = 498\n",
      "198:\tloss: 0.1605842\tbest: 0.1474236 (147)\ttotal: 6h 4m 6s\tremaining: 9h 10m 44s\n",
      "bestTest = 0.1611124585\n",
      "bestIteration = 499\n",
      "199:\tloss: 0.1611125\tbest: 0.1474236 (147)\ttotal: 6h 4m 37s\tremaining: 9h 6m 55s\n",
      "bestTest = 0.1736565402\n",
      "bestIteration = 499\n",
      "200:\tloss: 0.1736565\tbest: 0.1474236 (147)\ttotal: 6h 5m 7s\tremaining: 9h 3m 8s\n",
      "bestTest = 0.1743235516\n",
      "bestIteration = 499\n",
      "201:\tloss: 0.1743236\tbest: 0.1474236 (147)\ttotal: 6h 5m 23s\tremaining: 8h 59m 2s\n",
      "bestTest = 0.1885876534\n",
      "bestIteration = 499\n",
      "202:\tloss: 0.1885877\tbest: 0.1474236 (147)\ttotal: 6h 5m 39s\tremaining: 8h 54m 58s\n",
      "bestTest = 0.1663252924\n",
      "bestIteration = 499\n",
      "203:\tloss: 0.1663253\tbest: 0.1474236 (147)\ttotal: 6h 6m 9s\tremaining: 8h 51m 17s\n",
      "bestTest = 0.1738100865\n",
      "bestIteration = 499\n",
      "204:\tloss: 0.1738101\tbest: 0.1474236 (147)\ttotal: 6h 6m 25s\tremaining: 8h 47m 17s\n",
      "bestTest = 0.1604097662\n",
      "bestIteration = 497\n",
      "205:\tloss: 0.1604098\tbest: 0.1474236 (147)\ttotal: 6h 6m 55s\tremaining: 8h 43m 40s\n",
      "bestTest = 0.1741217441\n",
      "bestIteration = 499\n",
      "206:\tloss: 0.1741217\tbest: 0.1474236 (147)\ttotal: 6h 7m 25s\tremaining: 8h 40m 5s\n",
      "bestTest = 0.1598847966\n",
      "bestIteration = 497\n",
      "207:\tloss: 0.1598848\tbest: 0.1474236 (147)\ttotal: 6h 8m 47s\tremaining: 8h 37m 43s\n",
      "bestTest = 0.1700191528\n",
      "bestIteration = 499\n",
      "208:\tloss: 0.1700192\tbest: 0.1474236 (147)\ttotal: 6h 10m 7s\tremaining: 8h 35m 20s\n",
      "bestTest = 0.1509979498\n",
      "bestIteration = 999\n",
      "209:\tloss: 0.1509979\tbest: 0.1474236 (147)\ttotal: 6h 12m 44s\tremaining: 8h 34m 44s\n",
      "bestTest = 0.1513591804\n",
      "bestIteration = 999\n",
      "210:\tloss: 0.1513592\tbest: 0.1474236 (147)\ttotal: 6h 13m 13s\tremaining: 8h 31m 12s\n",
      "bestTest = 0.1502151589\n",
      "bestIteration = 999\n",
      "211:\tloss: 0.1502152\tbest: 0.1474236 (147)\ttotal: 6h 14m 11s\tremaining: 8h 28m 20s\n",
      "bestTest = 0.1504040189\n",
      "bestIteration = 861\n",
      "212:\tloss: 0.1504040\tbest: 0.1474236 (147)\ttotal: 6h 15m 10s\tremaining: 8h 25m 30s\n",
      "bestTest = 0.1491248033\n",
      "bestIteration = 997\n",
      "213:\tloss: 0.1491248\tbest: 0.1474236 (147)\ttotal: 6h 16m 7s\tremaining: 8h 22m 40s\n",
      "bestTest = 0.1503843156\n",
      "bestIteration = 999\n",
      "214:\tloss: 0.1503843\tbest: 0.1474236 (147)\ttotal: 6h 18m 45s\tremaining: 8h 22m 4s\n",
      "bestTest = 0.1502338521\n",
      "bestIteration = 999\n",
      "215:\tloss: 0.1502339\tbest: 0.1474236 (147)\ttotal: 6h 19m 42s\tremaining: 8h 19m 15s\n",
      "bestTest = 0.1503843419\n",
      "bestIteration = 999\n",
      "216:\tloss: 0.1503843\tbest: 0.1474236 (147)\ttotal: 6h 22m 21s\tremaining: 8h 18m 38s\n",
      "bestTest = 0.1511884102\n",
      "bestIteration = 999\n",
      "217:\tloss: 0.1511884\tbest: 0.1474236 (147)\ttotal: 6h 24m 58s\tremaining: 8h 17m 59s\n",
      "bestTest = 0.1498755468\n",
      "bestIteration = 878\n",
      "218:\tloss: 0.1498755\tbest: 0.1474236 (147)\ttotal: 6h 25m 56s\tremaining: 8h 15m 12s\n",
      "bestTest = 0.1575342595\n",
      "bestIteration = 999\n",
      "219:\tloss: 0.1575343\tbest: 0.1474236 (147)\ttotal: 6h 26m 25s\tremaining: 8h 11m 48s\n",
      "bestTest = 0.1531429277\n",
      "bestIteration = 999\n",
      "220:\tloss: 0.1531429\tbest: 0.1474236 (147)\ttotal: 6h 29m 2s\tremaining: 8h 11m 8s\n",
      "bestTest = 0.1675013874\n",
      "bestIteration = 999\n",
      "221:\tloss: 0.1675014\tbest: 0.1474236 (147)\ttotal: 6h 29m 31s\tremaining: 8h 7m 46s\n",
      "bestTest = 0.1533874605\n",
      "bestIteration = 789\n",
      "222:\tloss: 0.1533875\tbest: 0.1474236 (147)\ttotal: 6h 30m 30s\tremaining: 8h 5m 4s\n",
      "bestTest = 0.1546485077\n",
      "bestIteration = 998\n",
      "223:\tloss: 0.1546485\tbest: 0.1474236 (147)\ttotal: 6h 30m 59s\tremaining: 8h 1m 46s\n",
      "bestTest = 0.1530313853\n",
      "bestIteration = 950\n",
      "224:\tloss: 0.1530314\tbest: 0.1474236 (147)\ttotal: 6h 31m 58s\tremaining: 7h 59m 5s\n",
      "bestTest = 0.1692206203\n",
      "bestIteration = 999\n",
      "225:\tloss: 0.1692206\tbest: 0.1474236 (147)\ttotal: 6h 32m 27s\tremaining: 7h 55m 49s\n",
      "bestTest = 0.1536596592\n",
      "bestIteration = 999\n",
      "226:\tloss: 0.1536597\tbest: 0.1474236 (147)\ttotal: 6h 33m 25s\tremaining: 7h 53m 9s\n",
      "bestTest = 0.1572104284\n",
      "bestIteration = 999\n",
      "227:\tloss: 0.1572104\tbest: 0.1474236 (147)\ttotal: 6h 33m 54s\tremaining: 7h 49m 55s\n",
      "bestTest = 0.1551892713\n",
      "bestIteration = 461\n",
      "228:\tloss: 0.1551893\tbest: 0.1474236 (147)\ttotal: 6h 36m 34s\tremaining: 7h 49m 18s\n",
      "bestTest = 0.1580601998\n",
      "bestIteration = 997\n",
      "229:\tloss: 0.1580602\tbest: 0.1474236 (147)\ttotal: 6h 39m 14s\tremaining: 7h 48m 40s\n",
      "bestTest = 0.1591708359\n",
      "bestIteration = 997\n",
      "230:\tloss: 0.1591708\tbest: 0.1474236 (147)\ttotal: 6h 39m 44s\tremaining: 7h 45m 29s\n",
      "bestTest = 0.157708834\n",
      "bestIteration = 998\n",
      "231:\tloss: 0.1577088\tbest: 0.1474236 (147)\ttotal: 6h 40m 42s\tremaining: 7h 42m 53s\n",
      "bestTest = 0.1608077665\n",
      "bestIteration = 373\n",
      "232:\tloss: 0.1608078\tbest: 0.1474236 (147)\ttotal: 6h 43m 22s\tremaining: 7h 42m 14s\n",
      "bestTest = 0.1766403098\n",
      "bestIteration = 999\n",
      "233:\tloss: 0.1766403\tbest: 0.1474236 (147)\ttotal: 6h 43m 51s\tremaining: 7h 39m 5s\n",
      "bestTest = 0.1736143921\n",
      "bestIteration = 999\n",
      "234:\tloss: 0.1736144\tbest: 0.1474236 (147)\ttotal: 6h 44m 20s\tremaining: 7h 35m 58s\n",
      "bestTest = 0.1617390139\n",
      "bestIteration = 312\n",
      "235:\tloss: 0.1617390\tbest: 0.1474236 (147)\ttotal: 6h 47m 1s\tremaining: 7h 35m 18s\n",
      "bestTest = 0.175912995\n",
      "bestIteration = 999\n",
      "236:\tloss: 0.1759130\tbest: 0.1474236 (147)\ttotal: 6h 47m 30s\tremaining: 7h 32m 12s\n",
      "bestTest = 0.1662011304\n",
      "bestIteration = 999\n",
      "237:\tloss: 0.1662011\tbest: 0.1474236 (147)\ttotal: 6h 47m 59s\tremaining: 7h 29m 8s\n",
      "bestTest = 0.1596814544\n",
      "bestIteration = 998\n",
      "238:\tloss: 0.1596815\tbest: 0.1474236 (147)\ttotal: 6h 48m 28s\tremaining: 7h 26m 4s\n",
      "bestTest = 0.1577054102\n",
      "bestIteration = 971\n",
      "239:\tloss: 0.1577054\tbest: 0.1474236 (147)\ttotal: 6h 49m 26s\tremaining: 7h 23m 33s\n",
      "bestTest = 0.1649762496\n",
      "bestIteration = 999\n",
      "240:\tloss: 0.1649762\tbest: 0.1474236 (147)\ttotal: 6h 50m 24s\tremaining: 7h 21m 3s\n",
      "bestTest = 0.1604908092\n",
      "bestIteration = 422\n",
      "241:\tloss: 0.1604908\tbest: 0.1474236 (147)\ttotal: 6h 53m 3s\tremaining: 7h 20m 22s\n",
      "bestTest = 0.1481502402\n",
      "bestIteration = 1656\n",
      "242:\tloss: 0.1481502\tbest: 0.1474236 (147)\ttotal: 6h 54m 57s\tremaining: 7h 18m 51s\n",
      "bestTest = 0.1480017837\n",
      "bestIteration = 1652\n",
      "243:\tloss: 0.1480018\tbest: 0.1474236 (147)\ttotal: 6h 56m 50s\tremaining: 7h 17m 20s\n",
      "bestTest = 0.1504040058\n",
      "bestIteration = 861\n",
      "244:\tloss: 0.1504040\tbest: 0.1474236 (147)\ttotal: 6h 58m 45s\tremaining: 7h 15m 50s\n",
      "bestTest = 0.1482078414\n",
      "bestIteration = 1326\n",
      "245:\tloss: 0.1482078\tbest: 0.1474236 (147)\ttotal: 7h 39s\tremaining: 7h 14m 19s\n",
      "bestTest = 0.1528946038\n",
      "bestIteration = 507\n",
      "246:\tloss: 0.1528946\tbest: 0.1474236 (147)\ttotal: 7h 5m 46s\tremaining: 7h 16m 6s\n",
      "bestTest = 0.1492161964\n",
      "bestIteration = 1743\n",
      "247:\tloss: 0.1492162\tbest: 0.1474236 (147)\ttotal: 7h 10m 54s\tremaining: 7h 17m 51s\n",
      "bestTest = 0.1481300647\n",
      "bestIteration = 1984\n",
      "248:\tloss: 0.1481301\tbest: 0.1474236 (147)\ttotal: 7h 12m 45s\tremaining: 7h 16m 14s\n",
      "bestTest = 0.1514251246\n",
      "bestIteration = 1833\n",
      "249:\tloss: 0.1514251\tbest: 0.1474236 (147)\ttotal: 7h 13m 41s\tremaining: 7h 13m 41s\n",
      "bestTest = 0.1505660525\n",
      "bestIteration = 1705\n",
      "250:\tloss: 0.1505661\tbest: 0.1474236 (147)\ttotal: 7h 15m 34s\tremaining: 7h 12m 6s\n",
      "bestTest = 0.1533874736\n",
      "bestIteration = 789\n",
      "251:\tloss: 0.1533875\tbest: 0.1474236 (147)\ttotal: 7h 17m 29s\tremaining: 7h 10m 32s\n",
      "bestTest = 0.159680418\n",
      "bestIteration = 1999\n",
      "252:\tloss: 0.1596804\tbest: 0.1474236 (147)\ttotal: 7h 18m 24s\tremaining: 7h 8m\n",
      "bestTest = 0.1526683969\n",
      "bestIteration = 862\n",
      "253:\tloss: 0.1526684\tbest: 0.1474236 (147)\ttotal: 7h 23m 39s\tremaining: 7h 9m 40s\n",
      "bestTest = 0.1501471814\n",
      "bestIteration = 1999\n",
      "254:\tloss: 0.1501472\tbest: 0.1474236 (147)\ttotal: 7h 25m 32s\tremaining: 7h 8m 4s\n",
      "bestTest = 0.1544303815\n",
      "bestIteration = 568\n",
      "255:\tloss: 0.1544304\tbest: 0.1474236 (147)\ttotal: 7h 27m 26s\tremaining: 7h 6m 28s\n",
      "bestTest = 0.1536644866\n",
      "bestIteration = 623\n",
      "256:\tloss: 0.1536645\tbest: 0.1474236 (147)\ttotal: 7h 32m 43s\tremaining: 7h 8m 3s\n",
      "bestTest = 0.1527623874\n",
      "bestIteration = 1999\n",
      "257:\tloss: 0.1527624\tbest: 0.1474236 (147)\ttotal: 7h 34m 37s\tremaining: 7h 6m 26s\n",
      "bestTest = 0.1552226042\n",
      "bestIteration = 1940\n",
      "258:\tloss: 0.1552226\tbest: 0.1474236 (147)\ttotal: 7h 36m 32s\tremaining: 7h 4m 48s\n",
      "bestTest = 0.1565437712\n",
      "bestIteration = 1999\n",
      "259:\tloss: 0.1565438\tbest: 0.1474236 (147)\ttotal: 7h 37m 27s\tremaining: 7h 2m 16s\n",
      "bestTest = 0.1556259436\n",
      "bestIteration = 1999\n",
      "260:\tloss: 0.1556259\tbest: 0.1474236 (147)\ttotal: 7h 38m 23s\tremaining: 6h 59m 44s\n",
      "bestTest = 0.1589167008\n",
      "bestIteration = 692\n",
      "261:\tloss: 0.1589167\tbest: 0.1474236 (147)\ttotal: 7h 40m 17s\tremaining: 6h 58m 7s\n",
      "bestTest = 0.1557111844\n",
      "bestIteration = 1515\n",
      "262:\tloss: 0.1557112\tbest: 0.1474236 (147)\ttotal: 7h 42m 12s\tremaining: 6h 56m 30s\n",
      "bestTest = 0.1865056288\n",
      "bestIteration = 499\n",
      "263:\tloss: 0.1865056\tbest: 0.1474236 (147)\ttotal: 7h 42m 37s\tremaining: 6h 53m 33s\n",
      "bestTest = 0.1539262433\n",
      "bestIteration = 499\n",
      "264:\tloss: 0.1539262\tbest: 0.1474236 (147)\ttotal: 7h 43m 24s\tremaining: 6h 50m 57s\n",
      "bestTest = 0.1609553441\n",
      "bestIteration = 499\n",
      "265:\tloss: 0.1609553\tbest: 0.1474236 (147)\ttotal: 7h 43m 49s\tremaining: 6h 48m 1s\n",
      "bestTest = 0.1706173733\n",
      "bestIteration = 499\n",
      "266:\tloss: 0.1706174\tbest: 0.1474236 (147)\ttotal: 7h 44m 13s\tremaining: 6h 45m 6s\n",
      "bestTest = 0.1563186662\n",
      "bestIteration = 499\n",
      "267:\tloss: 0.1563187\tbest: 0.1474236 (147)\ttotal: 7h 45m 1s\tremaining: 6h 42m 33s\n",
      "bestTest = 0.1879898395\n",
      "bestIteration = 499\n",
      "268:\tloss: 0.1879898\tbest: 0.1474236 (147)\ttotal: 7h 45m 26s\tremaining: 6h 39m 41s\n",
      "bestTest = 0.1727091708\n",
      "bestIteration = 499\n",
      "269:\tloss: 0.1727092\tbest: 0.1474236 (147)\ttotal: 7h 45m 50s\tremaining: 6h 36m 49s\n",
      "bestTest = 0.1659527147\n",
      "bestIteration = 499\n",
      "270:\tloss: 0.1659527\tbest: 0.1474236 (147)\ttotal: 7h 48m\tremaining: 6h 35m 28s\n",
      "bestTest = 0.156927814\n",
      "bestIteration = 499\n",
      "271:\tloss: 0.1569278\tbest: 0.1474236 (147)\ttotal: 7h 50m 11s\tremaining: 6h 34m 7s\n",
      "bestTest = 0.1876919952\n",
      "bestIteration = 499\n",
      "272:\tloss: 0.1876920\tbest: 0.1474236 (147)\ttotal: 7h 50m 35s\tremaining: 6h 31m 18s\n",
      "bestTest = 0.1567398986\n",
      "bestIteration = 499\n",
      "273:\tloss: 0.1567399\tbest: 0.1474236 (147)\ttotal: 7h 52m 48s\tremaining: 6h 29m 58s\n",
      "bestTest = 0.1633581433\n",
      "bestIteration = 499\n",
      "274:\tloss: 0.1633581\tbest: 0.1474236 (147)\ttotal: 7h 53m 12s\tremaining: 6h 27m 10s\n",
      "bestTest = 0.1657241728\n",
      "bestIteration = 499\n",
      "275:\tloss: 0.1657242\tbest: 0.1474236 (147)\ttotal: 7h 55m 24s\tremaining: 6h 25m 50s\n",
      "bestTest = 0.1628077904\n",
      "bestIteration = 499\n",
      "276:\tloss: 0.1628078\tbest: 0.1474236 (147)\ttotal: 7h 55m 48s\tremaining: 6h 23m 3s\n",
      "bestTest = 0.1800558455\n",
      "bestIteration = 499\n",
      "277:\tloss: 0.1800558\tbest: 0.1474236 (147)\ttotal: 7h 56m 36s\tremaining: 6h 20m 36s\n",
      "bestTest = 0.1806176241\n",
      "bestIteration = 499\n",
      "278:\tloss: 0.1806176\tbest: 0.1474236 (147)\ttotal: 7h 57m 24s\tremaining: 6h 18m 9s\n",
      "bestTest = 0.1630721839\n",
      "bestIteration = 499\n",
      "279:\tloss: 0.1630722\tbest: 0.1474236 (147)\ttotal: 7h 59m 36s\tremaining: 6h 16m 50s\n",
      "bestTest = 0.1719485363\n",
      "bestIteration = 499\n",
      "280:\tloss: 0.1719485\tbest: 0.1474236 (147)\ttotal: 8h 1s\tremaining: 6h 14m 6s\n",
      "bestTest = 0.163595212\n",
      "bestIteration = 498\n",
      "281:\tloss: 0.1635952\tbest: 0.1474236 (147)\ttotal: 8h 48s\tremaining: 6h 11m 41s\n",
      "bestTest = 0.1808902163\n",
      "bestIteration = 499\n",
      "282:\tloss: 0.1808902\tbest: 0.1474236 (147)\ttotal: 8h 1m 36s\tremaining: 6h 9m 17s\n",
      "bestTest = 0.1711673851\n",
      "bestIteration = 499\n",
      "283:\tloss: 0.1711674\tbest: 0.1474236 (147)\ttotal: 8h 3m 48s\tremaining: 6h 7m 57s\n",
      "bestTest = 0.1591680549\n",
      "bestIteration = 999\n",
      "284:\tloss: 0.1591681\tbest: 0.1474236 (147)\ttotal: 8h 4m 35s\tremaining: 6h 5m 33s\n",
      "bestTest = 0.1504179765\n",
      "bestIteration = 901\n",
      "285:\tloss: 0.1504180\tbest: 0.1474236 (147)\ttotal: 8h 6m 8s\tremaining: 6h 3m 45s\n",
      "bestTest = 0.1525238102\n",
      "bestIteration = 990\n",
      "286:\tloss: 0.1525238\tbest: 0.1474236 (147)\ttotal: 8h 6m 55s\tremaining: 6h 1m 22s\n",
      "bestTest = 0.1508105853\n",
      "bestIteration = 934\n",
      "287:\tloss: 0.1508106\tbest: 0.1474236 (147)\ttotal: 8h 8m 28s\tremaining: 5h 59m 34s\n",
      "bestTest = 0.1528099533\n",
      "bestIteration = 561\n",
      "288:\tloss: 0.1528100\tbest: 0.1474236 (147)\ttotal: 8h 12m 48s\tremaining: 5h 59m 48s\n",
      "bestTest = 0.1500263646\n",
      "bestIteration = 997\n",
      "289:\tloss: 0.1500264\tbest: 0.1474236 (147)\ttotal: 8h 17m 7s\tremaining: 5h 59m 59s\n",
      "bestTest = 0.1707282992\n",
      "bestIteration = 999\n",
      "290:\tloss: 0.1707283\tbest: 0.1474236 (147)\ttotal: 8h 17m 54s\tremaining: 5h 57m 36s\n",
      "bestTest = 0.1600665728\n",
      "bestIteration = 999\n",
      "291:\tloss: 0.1600666\tbest: 0.1474236 (147)\ttotal: 8h 19m 26s\tremaining: 5h 55m 46s\n",
      "bestTest = 0.1497767289\n",
      "bestIteration = 999\n",
      "292:\tloss: 0.1497767\tbest: 0.1474236 (147)\ttotal: 8h 20m 59s\tremaining: 5h 53m 56s\n",
      "bestTest = 0.1534404048\n",
      "bestIteration = 987\n",
      "293:\tloss: 0.1534404\tbest: 0.1474236 (147)\ttotal: 8h 22m 33s\tremaining: 5h 52m 7s\n",
      "bestTest = 0.15563388\n",
      "bestIteration = 998\n",
      "294:\tloss: 0.1556339\tbest: 0.1474236 (147)\ttotal: 8h 26m 55s\tremaining: 5h 52m 16s\n",
      "bestTest = 0.1527591211\n",
      "bestIteration = 996\n",
      "295:\tloss: 0.1527591\tbest: 0.1474236 (147)\ttotal: 8h 28m 30s\tremaining: 5h 50m 27s\n",
      "bestTest = 0.1556894216\n",
      "bestIteration = 535\n",
      "296:\tloss: 0.1556894\tbest: 0.1474236 (147)\ttotal: 8h 32m 54s\tremaining: 5h 50m 34s\n",
      "bestTest = 0.1698645964\n",
      "bestIteration = 999\n",
      "297:\tloss: 0.1698646\tbest: 0.1474236 (147)\ttotal: 8h 33m 40s\tremaining: 5h 48m 11s\n",
      "bestTest = 0.1600147829\n",
      "bestIteration = 999\n",
      "298:\tloss: 0.1600148\tbest: 0.1474236 (147)\ttotal: 8h 35m 15s\tremaining: 5h 46m 22s\n",
      "bestTest = 0.1599604875\n",
      "bestIteration = 955\n",
      "299:\tloss: 0.1599605\tbest: 0.1474236 (147)\ttotal: 8h 39m 41s\tremaining: 5h 46m 27s\n",
      "bestTest = 0.1618196503\n",
      "bestIteration = 533\n",
      "300:\tloss: 0.1618197\tbest: 0.1474236 (147)\ttotal: 8h 44m 5s\tremaining: 5h 46m 29s\n",
      "bestTest = 0.1700904754\n",
      "bestIteration = 999\n",
      "301:\tloss: 0.1700905\tbest: 0.1474236 (147)\ttotal: 8h 44m 52s\tremaining: 5h 44m 7s\n",
      "bestTest = 0.1613603363\n",
      "bestIteration = 999\n",
      "302:\tloss: 0.1613603\tbest: 0.1474236 (147)\ttotal: 8h 46m 25s\tremaining: 5h 42m 16s\n",
      "bestTest = 0.159498104\n",
      "bestIteration = 976\n",
      "303:\tloss: 0.1594981\tbest: 0.1474236 (147)\ttotal: 8h 50m 48s\tremaining: 5h 42m 14s\n",
      "bestTest = 0.1798277102\n",
      "bestIteration = 999\n",
      "304:\tloss: 0.1798277\tbest: 0.1474236 (147)\ttotal: 8h 51m 35s\tremaining: 5h 39m 52s\n",
      "bestTest = 0.161266805\n",
      "bestIteration = 998\n",
      "305:\tloss: 0.1612668\tbest: 0.1474236 (147)\ttotal: 8h 53m 9s\tremaining: 5h 38m\n",
      "bestTest = 0.1592941452\n",
      "bestIteration = 971\n",
      "306:\tloss: 0.1592941\tbest: 0.1474236 (147)\ttotal: 8h 54m 43s\tremaining: 5h 36m 9s\n",
      "bestTest = 0.160165076\n",
      "bestIteration = 970\n",
      "307:\tloss: 0.1601651\tbest: 0.1474236 (147)\ttotal: 8h 59m 8s\tremaining: 5h 36m 5s\n",
      "bestTest = 0.1636439454\n",
      "bestIteration = 428\n",
      "308:\tloss: 0.1636439\tbest: 0.1474236 (147)\ttotal: 9h 3m 31s\tremaining: 5h 35m 58s\n",
      "bestTest = 0.1594980909\n",
      "bestIteration = 976\n",
      "309:\tloss: 0.1594981\tbest: 0.1474236 (147)\ttotal: 9h 7m 54s\tremaining: 5h 35m 48s\n",
      "bestTest = 0.1587148671\n",
      "bestIteration = 1999\n",
      "310:\tloss: 0.1587149\tbest: 0.1474236 (147)\ttotal: 9h 9m 25s\tremaining: 5h 33m 53s\n",
      "bestTest = 0.1526629661\n",
      "bestIteration = 450\n",
      "311:\tloss: 0.1526630\tbest: 0.1474236 (147)\ttotal: 9h 18m 2s\tremaining: 5h 36m 15s\n",
      "bestTest = 0.1513171372\n",
      "bestIteration = 1999\n",
      "312:\tloss: 0.1513171\tbest: 0.1474236 (147)\ttotal: 9h 19m 33s\tremaining: 5h 34m 18s\n",
      "bestTest = 0.1486927354\n",
      "bestIteration = 1988\n",
      "313:\tloss: 0.1486927\tbest: 0.1474236 (147)\ttotal: 9h 28m 10s\tremaining: 5h 36m 33s\n",
      "bestTest = 0.1501317678\n",
      "bestIteration = 1108\n",
      "314:\tloss: 0.1501318\tbest: 0.1474236 (147)\ttotal: 9h 36m 49s\tremaining: 5h 38m 46s\n",
      "bestTest = 0.1487282328\n",
      "bestIteration = 1975\n",
      "315:\tloss: 0.1487282\tbest: 0.1474236 (147)\ttotal: 9h 38m 19s\tremaining: 5h 36m 45s\n",
      "bestTest = 0.1588358282\n",
      "bestIteration = 1999\n",
      "316:\tloss: 0.1588358\tbest: 0.1474236 (147)\ttotal: 9h 39m 50s\tremaining: 5h 34m 44s\n",
      "bestTest = 0.1482159746\n",
      "bestIteration = 1976\n",
      "317:\tloss: 0.1482160\tbest: 0.1474236 (147)\ttotal: 9h 41m 21s\tremaining: 5h 32m 43s\n",
      "bestTest = 0.1511740722\n",
      "bestIteration = 1995\n",
      "318:\tloss: 0.1511741\tbest: 0.1474236 (147)\ttotal: 9h 42m 51s\tremaining: 5h 30m 42s\n",
      "bestTest = 0.1485250479\n",
      "bestIteration = 1975\n",
      "319:\tloss: 0.1485250\tbest: 0.1474236 (147)\ttotal: 9h 44m 21s\tremaining: 5h 28m 41s\n",
      "bestTest = 0.1493869535\n",
      "bestIteration = 1201\n",
      "320:\tloss: 0.1493870\tbest: 0.1474236 (147)\ttotal: 9h 52m 59s\tremaining: 5h 30m 40s\n",
      "bestTest = 0.1483217582\n",
      "bestIteration = 1998\n",
      "321:\tloss: 0.1483218\tbest: 0.1474236 (147)\ttotal: 9h 54m 31s\tremaining: 5h 28m 38s\n",
      "bestTest = 0.1541539719\n",
      "bestIteration = 1999\n",
      "322:\tloss: 0.1541540\tbest: 0.1474236 (147)\ttotal: 9h 56m 3s\tremaining: 5h 26m 37s\n",
      "bestTest = 0.1556894479\n",
      "bestIteration = 535\n",
      "323:\tloss: 0.1556894\tbest: 0.1474236 (147)\ttotal: 10h 4m 47s\tremaining: 5h 28m 31s\n",
      "bestTest = 0.1542634286\n",
      "bestIteration = 1999\n",
      "324:\tloss: 0.1542634\tbest: 0.1474236 (147)\ttotal: 10h 6m 18s\tremaining: 5h 26m 28s\n",
      "bestTest = 0.1510114876\n",
      "bestIteration = 1965\n",
      "325:\tloss: 0.1510115\tbest: 0.1474236 (147)\ttotal: 10h 9m 23s\tremaining: 5h 25m 15s\n",
      "bestTest = 0.1528517604\n",
      "bestIteration = 1160\n",
      "326:\tloss: 0.1528518\tbest: 0.1474236 (147)\ttotal: 10h 18m 5s\tremaining: 5h 27m\n",
      "bestTest = 0.1597748939\n",
      "bestIteration = 1072\n",
      "327:\tloss: 0.1597749\tbest: 0.1474236 (147)\ttotal: 10h 26m 47s\tremaining: 5h 28m 40s\n",
      "bestTest = 0.1605996493\n",
      "bestIteration = 1999\n",
      "328:\tloss: 0.1605996\tbest: 0.1474236 (147)\ttotal: 10h 29m 50s\tremaining: 5h 27m 22s\n",
      "bestTest = 0.1618196634\n",
      "bestIteration = 533\n",
      "329:\tloss: 0.1618197\tbest: 0.1474236 (147)\ttotal: 10h 38m 34s\tremaining: 5h 28m 57s\n",
      "bestTest = 0.1598192984\n",
      "bestIteration = 1997\n",
      "330:\tloss: 0.1598193\tbest: 0.1474236 (147)\ttotal: 10h 41m 39s\tremaining: 5h 27m 36s\n",
      "bestTest = 0.15830834\n",
      "bestIteration = 1996\n",
      "331:\tloss: 0.1583083\tbest: 0.1474236 (147)\ttotal: 10h 43m 10s\tremaining: 5h 25m 27s\n",
      "bestTest = 0.160359721\n",
      "bestIteration = 1998\n",
      "332:\tloss: 0.1603597\tbest: 0.1474236 (147)\ttotal: 10h 46m 14s\tremaining: 5h 24m 5s\n",
      "bestTest = 0.1584364243\n",
      "bestIteration = 1230\n",
      "333:\tloss: 0.1584364\tbest: 0.1474236 (147)\ttotal: 10h 49m 19s\tremaining: 5h 22m 43s\n",
      "bestTest = 0.1569247313\n",
      "bestIteration = 1992\n",
      "334:\tloss: 0.1569247\tbest: 0.1474236 (147)\ttotal: 10h 52m 24s\tremaining: 5h 21m 20s\n",
      "bestTest = 0.1583084319\n",
      "bestIteration = 1994\n",
      "335:\tloss: 0.1583084\tbest: 0.1474236 (147)\ttotal: 11h 1m 7s\tremaining: 5h 22m 41s\n",
      "bestTest = 0.1690735543\n",
      "bestIteration = 1999\n",
      "336:\tloss: 0.1690736\tbest: 0.1474236 (147)\ttotal: 11h 2m 38s\tremaining: 5h 20m 30s\n",
      "bestTest = 0.1603045204\n",
      "bestIteration = 1999\n",
      "337:\tloss: 0.1603045\tbest: 0.1474236 (147)\ttotal: 11h 5m 44s\tremaining: 5h 19m 5s\n",
      "bestTest = 0.1576421289\n",
      "bestIteration = 1999\n",
      "338:\tloss: 0.1576421\tbest: 0.1474236 (147)\ttotal: 11h 7m 16s\tremaining: 5h 16m 54s\n",
      "bestTest = 0.1579142095\n",
      "bestIteration = 499\n",
      "339:\tloss: 0.1579142\tbest: 0.1474236 (147)\ttotal: 11h 7m 45s\tremaining: 5h 14m 14s\n",
      "bestTest = 0.1529998496\n",
      "bestIteration = 499\n",
      "340:\tloss: 0.1529998\tbest: 0.1474236 (147)\ttotal: 11h 9m 5s\tremaining: 5h 11m 58s\n",
      "bestTest = 0.179737091\n",
      "bestIteration = 499\n",
      "341:\tloss: 0.1797371\tbest: 0.1474236 (147)\ttotal: 11h 9m 21s\tremaining: 5h 9m 14s\n",
      "bestTest = 0.1539089538\n",
      "bestIteration = 360\n",
      "342:\tloss: 0.1539090\tbest: 0.1474236 (147)\ttotal: 11h 10m 40s\tremaining: 5h 6m 59s\n",
      "bestTest = 0.1524598862\n",
      "bestIteration = 468\n",
      "343:\tloss: 0.1524599\tbest: 0.1474236 (147)\ttotal: 11h 11m 59s\tremaining: 5h 4m 44s\n",
      "bestTest = 0.1579980598\n",
      "bestIteration = 499\n",
      "344:\tloss: 0.1579981\tbest: 0.1474236 (147)\ttotal: 11h 12m 29s\tremaining: 5h 2m 8s\n",
      "bestTest = 0.1676246704\n",
      "bestIteration = 499\n",
      "345:\tloss: 0.1676247\tbest: 0.1474236 (147)\ttotal: 11h 12m 45s\tremaining: 4h 59m 26s\n",
      "bestTest = 0.156199699\n",
      "bestIteration = 320\n",
      "346:\tloss: 0.1561997\tbest: 0.1474236 (147)\ttotal: 11h 14m 5s\tremaining: 4h 57m 13s\n",
      "bestTest = 0.1821298681\n",
      "bestIteration = 499\n",
      "347:\tloss: 0.1821299\tbest: 0.1474236 (147)\ttotal: 11h 14m 21s\tremaining: 4h 54m 32s\n",
      "bestTest = 0.1597283119\n",
      "bestIteration = 499\n",
      "348:\tloss: 0.1597283\tbest: 0.1474236 (147)\ttotal: 11h 14m 51s\tremaining: 4h 51m 59s\n",
      "bestTest = 0.1717244676\n",
      "bestIteration = 499\n",
      "349:\tloss: 0.1717245\tbest: 0.1474236 (147)\ttotal: 11h 15m 21s\tremaining: 4h 49m 26s\n",
      "bestTest = 0.1606127149\n",
      "bestIteration = 499\n",
      "350:\tloss: 0.1606127\tbest: 0.1474236 (147)\ttotal: 11h 16m 40s\tremaining: 4h 47m 15s\n",
      "bestTest = 0.1561932974\n",
      "bestIteration = 363\n",
      "351:\tloss: 0.1561933\tbest: 0.1474236 (147)\ttotal: 11h 18m\tremaining: 4h 45m 4s\n",
      "bestTest = 0.181068149\n",
      "bestIteration = 499\n",
      "352:\tloss: 0.1810681\tbest: 0.1474236 (147)\ttotal: 11h 18m 16s\tremaining: 4h 42m 27s\n",
      "bestTest = 0.1585189628\n",
      "bestIteration = 499\n",
      "353:\tloss: 0.1585190\tbest: 0.1474236 (147)\ttotal: 11h 18m 46s\tremaining: 4h 39m 56s\n",
      "bestTest = 0.1704460521\n",
      "bestIteration = 499\n",
      "354:\tloss: 0.1704461\tbest: 0.1474236 (147)\ttotal: 11h 19m 15s\tremaining: 4h 37m 26s\n",
      "bestTest = 0.1833518236\n",
      "bestIteration = 499\n",
      "355:\tloss: 0.1833518\tbest: 0.1474236 (147)\ttotal: 11h 19m 31s\tremaining: 4h 34m 51s\n",
      "bestTest = 0.1868017153\n",
      "bestIteration = 499\n",
      "356:\tloss: 0.1868017\tbest: 0.1474236 (147)\ttotal: 11h 19m 47s\tremaining: 4h 32m 17s\n",
      "bestTest = 0.1736627582\n",
      "bestIteration = 499\n",
      "357:\tloss: 0.1736628\tbest: 0.1474236 (147)\ttotal: 11h 20m 3s\tremaining: 4h 29m 44s\n",
      "bestTest = 0.1654834311\n",
      "bestIteration = 499\n",
      "358:\tloss: 0.1654834\tbest: 0.1474236 (147)\ttotal: 11h 21m 23s\tremaining: 4h 27m 37s\n",
      "bestTest = 0.1741160509\n",
      "bestIteration = 499\n",
      "359:\tloss: 0.1741161\tbest: 0.1474236 (147)\ttotal: 11h 21m 39s\tremaining: 4h 25m 5s\n",
      "bestTest = 0.1601097573\n",
      "bestIteration = 499\n",
      "360:\tloss: 0.1601098\tbest: 0.1474236 (147)\ttotal: 11h 22m 10s\tremaining: 4h 22m 39s\n",
      "bestTest = 0.1606142234\n",
      "bestIteration = 499\n",
      "361:\tloss: 0.1606142\tbest: 0.1474236 (147)\ttotal: 11h 22m 40s\tremaining: 4h 20m 14s\n",
      "bestTest = 0.1643919998\n",
      "bestIteration = 499\n",
      "362:\tloss: 0.1643920\tbest: 0.1474236 (147)\ttotal: 11h 23m 11s\tremaining: 4h 17m 50s\n",
      "bestTest = 0.1622303095\n",
      "bestIteration = 499\n",
      "363:\tloss: 0.1622303\tbest: 0.1474236 (147)\ttotal: 11h 24m 31s\tremaining: 4h 15m 45s\n",
      "bestTest = 0.1866470934\n",
      "bestIteration = 499\n",
      "364:\tloss: 0.1866471\tbest: 0.1474236 (147)\ttotal: 11h 24m 47s\tremaining: 4h 13m 16s\n",
      "bestTest = 0.1655201615\n",
      "bestIteration = 499\n",
      "365:\tloss: 0.1655202\tbest: 0.1474236 (147)\ttotal: 11h 26m 7s\tremaining: 4h 11m 12s\n",
      "bestTest = 0.1664641071\n",
      "bestIteration = 499\n",
      "366:\tloss: 0.1664641\tbest: 0.1474236 (147)\ttotal: 11h 27m 27s\tremaining: 4h 9m 7s\n",
      "bestTest = 0.1605084792\n",
      "bestIteration = 497\n",
      "367:\tloss: 0.1605085\tbest: 0.1474236 (147)\ttotal: 11h 27m 57s\tremaining: 4h 6m 46s\n",
      "bestTest = 0.149281183\n",
      "bestIteration = 986\n",
      "368:\tloss: 0.1492812\tbest: 0.1474236 (147)\ttotal: 11h 28m 55s\tremaining: 4h 4m 34s\n",
      "bestTest = 0.1657204473\n",
      "bestIteration = 999\n",
      "369:\tloss: 0.1657204\tbest: 0.1474236 (147)\ttotal: 11h 29m 24s\tremaining: 4h 2m 13s\n",
      "bestTest = 0.1528010593\n",
      "bestIteration = 374\n",
      "370:\tloss: 0.1528011\tbest: 0.1474236 (147)\ttotal: 11h 32m\tremaining: 4h 36s\n",
      "bestTest = 0.1504902042\n",
      "bestIteration = 999\n",
      "371:\tloss: 0.1504902\tbest: 0.1474236 (147)\ttotal: 11h 32m 57s\tremaining: 3h 58m 26s\n",
      "bestTest = 0.151482634\n",
      "bestIteration = 999\n",
      "372:\tloss: 0.1514826\tbest: 0.1474236 (147)\ttotal: 11h 33m 54s\tremaining: 3h 56m 15s\n",
      "bestTest = 0.1555910628\n",
      "bestIteration = 999\n",
      "373:\tloss: 0.1555911\tbest: 0.1474236 (147)\ttotal: 11h 34m 23s\tremaining: 3h 53m 56s\n",
      "bestTest = 0.1503482542\n",
      "bestIteration = 999\n",
      "374:\tloss: 0.1503483\tbest: 0.1474236 (147)\ttotal: 11h 35m 21s\tremaining: 3h 51m 47s\n",
      "bestTest = 0.1552738169\n",
      "bestIteration = 999\n",
      "375:\tloss: 0.1552738\tbest: 0.1474236 (147)\ttotal: 11h 36m 19s\tremaining: 3h 49m 38s\n",
      "bestTest = 0.1509390106\n",
      "bestIteration = 999\n",
      "376:\tloss: 0.1509390\tbest: 0.1474236 (147)\ttotal: 11h 38m 56s\tremaining: 3h 48m 2s\n",
      "bestTest = 0.1534658012\n",
      "bestIteration = 999\n",
      "377:\tloss: 0.1534658\tbest: 0.1474236 (147)\ttotal: 11h 41m 31s\tremaining: 3h 46m 25s\n",
      "bestTest = 0.1576696636\n",
      "bestIteration = 999\n",
      "378:\tloss: 0.1576697\tbest: 0.1474236 (147)\ttotal: 11h 42m\tremaining: 3h 44m 7s\n",
      "bestTest = 0.1555870618\n",
      "bestIteration = 355\n",
      "379:\tloss: 0.1555871\tbest: 0.1474236 (147)\ttotal: 11h 44m 39s\tremaining: 3h 42m 31s\n",
      "bestTest = 0.1534036612\n",
      "bestIteration = 993\n",
      "380:\tloss: 0.1534037\tbest: 0.1474236 (147)\ttotal: 11h 45m 7s\tremaining: 3h 40m 14s\n",
      "bestTest = 0.1574277151\n",
      "bestIteration = 296\n",
      "381:\tloss: 0.1574277\tbest: 0.1474236 (147)\ttotal: 11h 47m 46s\tremaining: 3h 38m 37s\n",
      "bestTest = 0.1602174824\n",
      "bestIteration = 999\n",
      "382:\tloss: 0.1602175\tbest: 0.1474236 (147)\ttotal: 11h 48m 43s\tremaining: 3h 36m 30s\n",
      "bestTest = 0.153598726\n",
      "bestIteration = 998\n",
      "383:\tloss: 0.1535987\tbest: 0.1474236 (147)\ttotal: 11h 49m 12s\tremaining: 3h 34m 14s\n",
      "bestTest = 0.1557744263\n",
      "bestIteration = 333\n",
      "384:\tloss: 0.1557744\tbest: 0.1474236 (147)\ttotal: 11h 51m 52s\tremaining: 3h 32m 38s\n",
      "bestTest = 0.1680921962\n",
      "bestIteration = 999\n",
      "385:\tloss: 0.1680922\tbest: 0.1474236 (147)\ttotal: 11h 52m 20s\tremaining: 3h 30m 22s\n",
      "bestTest = 0.1627227595\n",
      "bestIteration = 999\n",
      "386:\tloss: 0.1627228\tbest: 0.1474236 (147)\ttotal: 11h 53m 19s\tremaining: 3h 28m 16s\n",
      "bestTest = 0.1579360641\n",
      "bestIteration = 999\n",
      "387:\tloss: 0.1579361\tbest: 0.1474236 (147)\ttotal: 11h 55m 58s\tremaining: 3h 26m 40s\n",
      "bestTest = 0.1629644588\n",
      "bestIteration = 292\n",
      "388:\tloss: 0.1629645\tbest: 0.1474236 (147)\ttotal: 11h 58m 37s\tremaining: 3h 25m 3s\n",
      "bestTest = 0.1587590879\n",
      "bestIteration = 762\n",
      "389:\tloss: 0.1587591\tbest: 0.1474236 (147)\ttotal: 12h 1m 15s\tremaining: 3h 23m 25s\n",
      "bestTest = 0.1653843115\n",
      "bestIteration = 999\n",
      "390:\tloss: 0.1653843\tbest: 0.1474236 (147)\ttotal: 12h 1m 44s\tremaining: 3h 21m 12s\n",
      "bestTest = 0.1577897721\n",
      "bestIteration = 999\n",
      "391:\tloss: 0.1577898\tbest: 0.1474236 (147)\ttotal: 12h 2m 41s\tremaining: 3h 19m 6s\n",
      "bestTest = 0.1595679574\n",
      "bestIteration = 998\n",
      "392:\tloss: 0.1595680\tbest: 0.1474236 (147)\ttotal: 12h 3m 10s\tremaining: 3h 16m 53s\n",
      "bestTest = 0.1604292858\n",
      "bestIteration = 430\n",
      "393:\tloss: 0.1604293\tbest: 0.1474236 (147)\ttotal: 12h 5m 47s\tremaining: 3h 15m 15s\n",
      "bestTest = 0.1550142378\n",
      "bestIteration = 1999\n",
      "394:\tloss: 0.1550142\tbest: 0.1474236 (147)\ttotal: 12h 6m 41s\tremaining: 3h 13m 10s\n",
      "bestTest = 0.1497889942\n",
      "bestIteration = 1469\n",
      "395:\tloss: 0.1497890\tbest: 0.1474236 (147)\ttotal: 12h 7m 36s\tremaining: 3h 11m 5s\n",
      "bestTest = 0.148988153\n",
      "bestIteration = 1612\n",
      "396:\tloss: 0.1489882\tbest: 0.1474236 (147)\ttotal: 12h 8m 31s\tremaining: 3h 9m\n",
      "bestTest = 0.1572284525\n",
      "bestIteration = 1999\n",
      "397:\tloss: 0.1572285\tbest: 0.1474236 (147)\ttotal: 12h 9m 26s\tremaining: 3h 6m 56s\n",
      "bestTest = 0.1509036445\n",
      "bestIteration = 1999\n",
      "398:\tloss: 0.1509036\tbest: 0.1474236 (147)\ttotal: 12h 11m 16s\tremaining: 3h 5m 6s\n",
      "bestTest = 0.1488704713\n",
      "bestIteration = 1999\n",
      "399:\tloss: 0.1488705\tbest: 0.1474236 (147)\ttotal: 12h 12m 11s\tremaining: 3h 3m 2s\n",
      "bestTest = 0.1484859038\n",
      "bestIteration = 1999\n",
      "400:\tloss: 0.1484859\tbest: 0.1474236 (147)\ttotal: 12h 14m 3s\tremaining: 3h 1m 13s\n",
      "bestTest = 0.1503167579\n",
      "bestIteration = 805\n",
      "401:\tloss: 0.1503168\tbest: 0.1474236 (147)\ttotal: 12h 19m 12s\tremaining: 3h 12s\n",
      "bestTest = 0.1491139415\n",
      "bestIteration = 1998\n",
      "402:\tloss: 0.1491139\tbest: 0.1474236 (147)\ttotal: 12h 21m 4s\tremaining: 2h 58m 22s\n",
      "bestTest = 0.1524598862\n",
      "bestIteration = 468\n",
      "403:\tloss: 0.1524599\tbest: 0.1474236 (147)\ttotal: 12h 26m 10s\tremaining: 2h 57m 18s\n",
      "bestTest = 0.1530131906\n",
      "bestIteration = 384\n",
      "404:\tloss: 0.1530132\tbest: 0.1474236 (147)\ttotal: 12h 31m 18s\tremaining: 2h 56m 14s\n",
      "bestTest = 0.156729496\n",
      "bestIteration = 1999\n",
      "405:\tloss: 0.1567295\tbest: 0.1474236 (147)\ttotal: 12h 32m 13s\tremaining: 2h 54m 9s\n",
      "bestTest = 0.1490955632\n",
      "bestIteration = 1990\n",
      "406:\tloss: 0.1490956\tbest: 0.1474236 (147)\ttotal: 12h 37m 23s\tremaining: 2h 53m 3s\n",
      "bestTest = 0.1570095654\n",
      "bestIteration = 288\n",
      "407:\tloss: 0.1570096\tbest: 0.1474236 (147)\ttotal: 12h 42m 37s\tremaining: 2h 51m 57s\n",
      "bestTest = 0.1533381368\n",
      "bestIteration = 702\n",
      "408:\tloss: 0.1533381\tbest: 0.1474236 (147)\ttotal: 12h 47m 54s\tremaining: 2h 50m 51s\n",
      "bestTest = 0.1594795289\n",
      "bestIteration = 1999\n",
      "409:\tloss: 0.1594795\tbest: 0.1474236 (147)\ttotal: 12h 48m 49s\tremaining: 2h 48m 46s\n",
      "bestTest = 0.1507353667\n",
      "bestIteration = 1895\n",
      "410:\tloss: 0.1507354\tbest: 0.1474236 (147)\ttotal: 12h 50m 43s\tremaining: 2h 46m 53s\n",
      "bestTest = 0.1563600011\n",
      "bestIteration = 1999\n",
      "411:\tloss: 0.1563600\tbest: 0.1474236 (147)\ttotal: 12h 51m 38s\tremaining: 2h 44m 49s\n",
      "bestTest = 0.1510666882\n",
      "bestIteration = 1999\n",
      "412:\tloss: 0.1510667\tbest: 0.1474236 (147)\ttotal: 12h 52m 33s\tremaining: 2h 42m 44s\n",
      "bestTest = 0.1528826533\n",
      "bestIteration = 997\n",
      "413:\tloss: 0.1528827\tbest: 0.1474236 (147)\ttotal: 12h 57m 45s\tremaining: 2h 41m 33s\n",
      "bestTest = 0.1518848058\n",
      "bestIteration = 1498\n",
      "414:\tloss: 0.1518848\tbest: 0.1474236 (147)\ttotal: 12h 58m 41s\tremaining: 2h 39m 29s\n",
      "bestTest = 0.1523784365\n",
      "bestIteration = 1997\n",
      "415:\tloss: 0.1523784\tbest: 0.1474236 (147)\ttotal: 12h 59m 37s\tremaining: 2h 37m 25s\n",
      "bestTest = 0.1557872295\n",
      "bestIteration = 1988\n",
      "416:\tloss: 0.1557872\tbest: 0.1474236 (147)\ttotal: 13h 1m 32s\tremaining: 2h 35m 33s\n",
      "bestTest = 0.1613976308\n",
      "bestIteration = 373\n",
      "417:\tloss: 0.1613976\tbest: 0.1474236 (147)\ttotal: 13h 6m 44s\tremaining: 2h 34m 20s\n",
      "bestTest = 0.1580263029\n",
      "bestIteration = 1087\n",
      "418:\tloss: 0.1580263\tbest: 0.1474236 (147)\ttotal: 13h 11m 56s\tremaining: 2h 33m 5s\n",
      "bestTest = 0.1599389477\n",
      "bestIteration = 635\n",
      "419:\tloss: 0.1599389\tbest: 0.1474236 (147)\ttotal: 13h 13m 50s\tremaining: 2h 31m 12s\n",
      "bestTest = 0.1559704356\n",
      "bestIteration = 1879\n",
      "420:\tloss: 0.1559704\tbest: 0.1474236 (147)\ttotal: 13h 14m 45s\tremaining: 2h 29m 8s\n",
      "bestTest = 0.1706469675\n",
      "bestIteration = 499\n",
      "421:\tloss: 0.1706470\tbest: 0.1474236 (147)\ttotal: 13h 15m 9s\tremaining: 2h 26m 58s\n",
      "bestTest = 0.1546511182\n",
      "bestIteration = 499\n",
      "422:\tloss: 0.1546511\tbest: 0.1474236 (147)\ttotal: 13h 17m 20s\tremaining: 2h 25m 8s\n",
      "bestTest = 0.1737640161\n",
      "bestIteration = 499\n",
      "423:\tloss: 0.1737640\tbest: 0.1474236 (147)\ttotal: 13h 18m 7s\tremaining: 2h 23m 3s\n",
      "bestTest = 0.1708131071\n",
      "bestIteration = 499\n",
      "424:\tloss: 0.1708131\tbest: 0.1474236 (147)\ttotal: 13h 18m 32s\tremaining: 2h 20m 55s\n",
      "bestTest = 0.1626919453\n",
      "bestIteration = 499\n",
      "425:\tloss: 0.1626919\tbest: 0.1474236 (147)\ttotal: 13h 18m 56s\tremaining: 2h 18m 47s\n",
      "bestTest = 0.1657699284\n",
      "bestIteration = 499\n",
      "426:\tloss: 0.1657699\tbest: 0.1474236 (147)\ttotal: 13h 21m 7s\tremaining: 2h 16m 57s\n",
      "bestTest = 0.1879759607\n",
      "bestIteration = 499\n",
      "427:\tloss: 0.1879760\tbest: 0.1474236 (147)\ttotal: 13h 21m 31s\tremaining: 2h 14m 50s\n",
      "bestTest = 0.1569498785\n",
      "bestIteration = 499\n",
      "428:\tloss: 0.1569499\tbest: 0.1474236 (147)\ttotal: 13h 23m 42s\tremaining: 2h 13m\n",
      "bestTest = 0.1730964407\n",
      "bestIteration = 499\n",
      "429:\tloss: 0.1730964\tbest: 0.1474236 (147)\ttotal: 13h 24m 7s\tremaining: 2h 10m 54s\n",
      "bestTest = 0.1659469297\n",
      "bestIteration = 499\n",
      "430:\tloss: 0.1659469\tbest: 0.1474236 (147)\ttotal: 13h 26m 17s\tremaining: 2h 9m 4s\n",
      "bestTest = 0.1570272485\n",
      "bestIteration = 499\n",
      "431:\tloss: 0.1570272\tbest: 0.1474236 (147)\ttotal: 13h 28m 30s\tremaining: 2h 7m 15s\n",
      "bestTest = 0.1568091223\n",
      "bestIteration = 435\n",
      "432:\tloss: 0.1568091\tbest: 0.1474236 (147)\ttotal: 13h 30m 41s\tremaining: 2h 5m 26s\n",
      "bestTest = 0.1572814886\n",
      "bestIteration = 499\n",
      "433:\tloss: 0.1572815\tbest: 0.1474236 (147)\ttotal: 13h 32m 53s\tremaining: 2h 3m 37s\n",
      "bestTest = 0.1637383688\n",
      "bestIteration = 498\n",
      "434:\tloss: 0.1637384\tbest: 0.1474236 (147)\ttotal: 13h 33m 42s\tremaining: 2h 1m 35s\n",
      "bestTest = 0.1636598313\n",
      "bestIteration = 499\n",
      "435:\tloss: 0.1636598\tbest: 0.1474236 (147)\ttotal: 13h 35m 55s\tremaining: 1h 59m 46s\n",
      "bestTest = 0.1638947879\n",
      "bestIteration = 499\n",
      "436:\tloss: 0.1638948\tbest: 0.1474236 (147)\ttotal: 13h 38m 8s\tremaining: 1h 57m 56s\n",
      "bestTest = 0.1715439507\n",
      "bestIteration = 499\n",
      "437:\tloss: 0.1715440\tbest: 0.1474236 (147)\ttotal: 13h 38m 33s\tremaining: 1h 55m 52s\n",
      "bestTest = 0.1628477217\n",
      "bestIteration = 498\n",
      "438:\tloss: 0.1628477\tbest: 0.1474236 (147)\ttotal: 13h 40m 47s\tremaining: 1h 54m 3s\n",
      "bestTest = 0.1812311402\n",
      "bestIteration = 499\n",
      "439:\tloss: 0.1812311\tbest: 0.1474236 (147)\ttotal: 13h 41m 35s\tremaining: 1h 52m 2s\n",
      "bestTest = 0.1519109238\n",
      "bestIteration = 999\n",
      "440:\tloss: 0.1519109\tbest: 0.1474236 (147)\ttotal: 13h 43m 9s\tremaining: 1h 50m 7s\n",
      "bestTest = 0.1504995573\n",
      "bestIteration = 929\n",
      "441:\tloss: 0.1504996\tbest: 0.1474236 (147)\ttotal: 13h 44m 44s\tremaining: 1h 48m 13s\n",
      "bestTest = 0.1518168021\n",
      "bestIteration = 999\n",
      "442:\tloss: 0.1518168\tbest: 0.1474236 (147)\ttotal: 13h 46m 17s\tremaining: 1h 46m 19s\n",
      "bestTest = 0.1497387785\n",
      "bestIteration = 963\n",
      "443:\tloss: 0.1497388\tbest: 0.1474236 (147)\ttotal: 13h 47m 51s\tremaining: 1h 44m 24s\n",
      "bestTest = 0.1591875614\n",
      "bestIteration = 999\n",
      "444:\tloss: 0.1591876\tbest: 0.1474236 (147)\ttotal: 13h 48m 39s\tremaining: 1h 42m 25s\n",
      "bestTest = 0.1507806238\n",
      "bestIteration = 943\n",
      "445:\tloss: 0.1507806\tbest: 0.1474236 (147)\ttotal: 13h 50m 11s\tremaining: 1h 40m 31s\n",
      "bestTest = 0.1599886519\n",
      "bestIteration = 999\n",
      "446:\tloss: 0.1599887\tbest: 0.1474236 (147)\ttotal: 13h 51m 44s\tremaining: 1h 38m 37s\n",
      "bestTest = 0.1706598757\n",
      "bestIteration = 999\n",
      "447:\tloss: 0.1706599\tbest: 0.1474236 (147)\ttotal: 13h 52m 30s\tremaining: 1h 36m 37s\n",
      "bestTest = 0.1527346166\n",
      "bestIteration = 997\n",
      "448:\tloss: 0.1527346\tbest: 0.1474236 (147)\ttotal: 13h 53m 16s\tremaining: 1h 34m 38s\n",
      "bestTest = 0.1493026572\n",
      "bestIteration = 999\n",
      "449:\tloss: 0.1493027\tbest: 0.1474236 (147)\ttotal: 13h 54m 50s\tremaining: 1h 32m 45s\n",
      "bestTest = 0.1605681661\n",
      "bestIteration = 999\n",
      "450:\tloss: 0.1605682\tbest: 0.1474236 (147)\ttotal: 13h 56m 22s\tremaining: 1h 30m 52s\n",
      "bestTest = 0.1525732651\n",
      "bestIteration = 552\n",
      "451:\tloss: 0.1525733\tbest: 0.1474236 (147)\ttotal: 14h 42s\tremaining: 1h 29m 16s\n",
      "bestTest = 0.1518177597\n",
      "bestIteration = 999\n",
      "452:\tloss: 0.1518178\tbest: 0.1474236 (147)\ttotal: 14h 1m 29s\tremaining: 1h 27m 18s\n",
      "bestTest = 0.1507805713\n",
      "bestIteration = 943\n",
      "453:\tloss: 0.1507806\tbest: 0.1474236 (147)\ttotal: 14h 3m 2s\tremaining: 1h 25m 25s\n",
      "bestTest = 0.1501938815\n",
      "bestIteration = 999\n",
      "454:\tloss: 0.1501939\tbest: 0.1474236 (147)\ttotal: 14h 7m 20s\tremaining: 1h 23m 48s\n",
      "bestTest = 0.1518723831\n",
      "bestIteration = 999\n",
      "455:\tloss: 0.1518724\tbest: 0.1474236 (147)\ttotal: 14h 8m 52s\tremaining: 1h 21m 54s\n",
      "bestTest = 0.1706403561\n",
      "bestIteration = 999\n",
      "456:\tloss: 0.1706404\tbest: 0.1474236 (147)\ttotal: 14h 9m 38s\tremaining: 1h 19m 56s\n",
      "bestTest = 0.1493026834\n",
      "bestIteration = 999\n",
      "457:\tloss: 0.1493027\tbest: 0.1474236 (147)\ttotal: 14h 11m 11s\tremaining: 1h 18m 3s\n",
      "bestTest = 0.1513446588\n",
      "bestIteration = 999\n",
      "458:\tloss: 0.1513447\tbest: 0.1474236 (147)\ttotal: 14h 12m 43s\tremaining: 1h 16m 10s\n",
      "bestTest = 0.1558531344\n",
      "bestIteration = 999\n",
      "459:\tloss: 0.1558531\tbest: 0.1474236 (147)\ttotal: 14h 17m 3s\tremaining: 1h 14m 31s\n",
      "bestTest = 0.1559119686\n",
      "bestIteration = 997\n",
      "460:\tloss: 0.1559120\tbest: 0.1474236 (147)\ttotal: 14h 17m 50s\tremaining: 1h 12m 34s\n",
      "bestTest = 0.1557931195\n",
      "bestIteration = 999\n",
      "461:\tloss: 0.1557931\tbest: 0.1474236 (147)\ttotal: 14h 22m 10s\tremaining: 1h 10m 54s\n",
      "bestTest = 0.1540073913\n",
      "bestIteration = 999\n",
      "462:\tloss: 0.1540074\tbest: 0.1474236 (147)\ttotal: 14h 23m 43s\tremaining: 1h 9m 1s\n",
      "bestTest = 0.1533040693\n",
      "bestIteration = 997\n",
      "463:\tloss: 0.1533041\tbest: 0.1474236 (147)\ttotal: 14h 28m 4s\tremaining: 1h 7m 21s\n",
      "bestTest = 0.1620318734\n",
      "bestIteration = 999\n",
      "464:\tloss: 0.1620319\tbest: 0.1474236 (147)\ttotal: 14h 28m 50s\tremaining: 1h 5m 23s\n",
      "bestTest = 0.1547354539\n",
      "bestIteration = 997\n",
      "465:\tloss: 0.1547355\tbest: 0.1474236 (147)\ttotal: 14h 30m 24s\tremaining: 1h 3m 30s\n",
      "bestTest = 0.1622586969\n",
      "bestIteration = 999\n",
      "466:\tloss: 0.1622587\tbest: 0.1474236 (147)\ttotal: 14h 31m 56s\tremaining: 1h 1m 36s\n",
      "bestTest = 0.168504141\n",
      "bestIteration = 999\n",
      "467:\tloss: 0.1685041\tbest: 0.1474236 (147)\ttotal: 14h 33m 29s\tremaining: 59m 43s\n",
      "bestTest = 0.1636229828\n",
      "bestIteration = 424\n",
      "468:\tloss: 0.1636230\tbest: 0.1474236 (147)\ttotal: 14h 37m 52s\tremaining: 58m 1s\n",
      "bestTest = 0.1690442225\n",
      "bestIteration = 999\n",
      "469:\tloss: 0.1690442\tbest: 0.1474236 (147)\ttotal: 14h 39m 25s\tremaining: 56m 7s\n",
      "bestTest = 0.1638947879\n",
      "bestIteration = 499\n",
      "470:\tloss: 0.1638948\tbest: 0.1474236 (147)\ttotal: 14h 43m 47s\tremaining: 54m 24s\n",
      "bestTest = 0.1689955022\n",
      "bestIteration = 999\n",
      "471:\tloss: 0.1689955\tbest: 0.1474236 (147)\ttotal: 14h 45m 21s\tremaining: 52m 31s\n",
      "bestTest = 0.1618741556\n",
      "bestIteration = 999\n",
      "472:\tloss: 0.1618742\tbest: 0.1474236 (147)\ttotal: 14h 49m 47s\tremaining: 50m 47s\n",
      "bestTest = 0.1593298131\n",
      "bestIteration = 998\n",
      "473:\tloss: 0.1593298\tbest: 0.1474236 (147)\ttotal: 14h 51m 21s\tremaining: 48m 53s\n",
      "bestTest = 0.1510555116\n",
      "bestIteration = 1999\n",
      "474:\tloss: 0.1510555\tbest: 0.1474236 (147)\ttotal: 14h 52m 54s\tremaining: 46m 59s\n",
      "bestTest = 0.1501480734\n",
      "bestIteration = 1255\n",
      "475:\tloss: 0.1501481\tbest: 0.1474236 (147)\ttotal: 15h 1m 36s\tremaining: 45m 27s\n",
      "bestTest = 0.1488205048\n",
      "bestIteration = 1999\n",
      "476:\tloss: 0.1488205\tbest: 0.1474236 (147)\ttotal: 15h 3m 7s\tremaining: 43m 32s\n",
      "bestTest = 0.1473965057\n",
      "bestIteration = 1976\n",
      "477:\tloss: 0.1473965\tbest: 0.1473965 (477)\ttotal: 15h 6m 11s\tremaining: 41m 42s\n",
      "bestTest = 0.1590586376\n",
      "bestIteration = 1999\n",
      "478:\tloss: 0.1590586\tbest: 0.1473965 (477)\ttotal: 15h 7m 41s\tremaining: 39m 47s\n",
      "bestTest = 0.1512976045\n",
      "bestIteration = 1999\n",
      "479:\tloss: 0.1512976\tbest: 0.1473965 (477)\ttotal: 15h 10m 45s\tremaining: 37m 56s\n",
      "bestTest = 0.1523078091\n",
      "bestIteration = 491\n",
      "480:\tloss: 0.1523078\tbest: 0.1473965 (477)\ttotal: 15h 19m 26s\tremaining: 36m 19s\n",
      "bestTest = 0.1489417152\n",
      "bestIteration = 1208\n",
      "481:\tloss: 0.1489417\tbest: 0.1473965 (477)\ttotal: 15h 28m 7s\tremaining: 34m 39s\n",
      "bestTest = 0.1511408443\n",
      "bestIteration = 1999\n",
      "482:\tloss: 0.1511408\tbest: 0.1473965 (477)\ttotal: 15h 29m 39s\tremaining: 32m 43s\n",
      "bestTest = 0.1487173579\n",
      "bestIteration = 1992\n",
      "483:\tloss: 0.1487174\tbest: 0.1473965 (477)\ttotal: 15h 38m 21s\tremaining: 31m 1s\n",
      "bestTest = 0.1513769553\n",
      "bestIteration = 1999\n",
      "484:\tloss: 0.1513770\tbest: 0.1473965 (477)\ttotal: 15h 39m 53s\tremaining: 29m 4s\n",
      "bestTest = 0.1523078091\n",
      "bestIteration = 491\n",
      "485:\tloss: 0.1523078\tbest: 0.1473965 (477)\ttotal: 15h 48m 37s\tremaining: 27m 19s\n",
      "bestTest = 0.1508247134\n",
      "bestIteration = 1990\n",
      "486:\tloss: 0.1508247\tbest: 0.1473965 (477)\ttotal: 15h 51m 45s\tremaining: 25m 24s\n",
      "bestTest = 0.1614623026\n",
      "bestIteration = 1999\n",
      "487:\tloss: 0.1614623\tbest: 0.1473965 (477)\ttotal: 15h 53m 18s\tremaining: 23m 26s\n",
      "bestTest = 0.153875739\n",
      "bestIteration = 1999\n",
      "488:\tloss: 0.1538757\tbest: 0.1473965 (477)\ttotal: 15h 56m 26s\tremaining: 21m 30s\n",
      "bestTest = 0.1535777634\n",
      "bestIteration = 1999\n",
      "489:\tloss: 0.1535778\tbest: 0.1473965 (477)\ttotal: 15h 59m 33s\tremaining: 19m 34s\n",
      "bestTest = 0.1572484837\n",
      "bestIteration = 543\n",
      "490:\tloss: 0.1572485\tbest: 0.1473965 (477)\ttotal: 16h 8m 23s\tremaining: 17m 45s\n",
      "bestTest = 0.1512820465\n",
      "bestIteration = 1998\n",
      "491:\tloss: 0.1512820\tbest: 0.1473965 (477)\ttotal: 16h 9m 56s\tremaining: 15m 46s\n",
      "bestTest = 0.1532885376\n",
      "bestIteration = 1179\n",
      "492:\tloss: 0.1532885\tbest: 0.1473965 (477)\ttotal: 16h 13m 4s\tremaining: 13m 48s\n",
      "bestTest = 0.154425436\n",
      "bestIteration = 1999\n",
      "493:\tloss: 0.1544254\tbest: 0.1473965 (477)\ttotal: 16h 14m 37s\tremaining: 11m 50s\n",
      "bestTest = 0.1615010532\n",
      "bestIteration = 1999\n",
      "494:\tloss: 0.1615011\tbest: 0.1473965 (477)\ttotal: 16h 16m 10s\tremaining: 9m 51s\n",
      "bestTest = 0.1597349758\n",
      "bestIteration = 1074\n",
      "495:\tloss: 0.1597350\tbest: 0.1473965 (477)\ttotal: 16h 25m 1s\tremaining: 7m 56s\n",
      "bestTest = 0.1580431989\n",
      "bestIteration = 1947\n",
      "496:\tloss: 0.1580432\tbest: 0.1473965 (477)\ttotal: 16h 33m 54s\tremaining: 5m 59s\n",
      "bestTest = 0.1638947748\n",
      "bestIteration = 499\n",
      "497:\tloss: 0.1638948\tbest: 0.1473965 (477)\ttotal: 16h 42m 44s\tremaining: 4m 1s\n",
      "bestTest = 0.161599071\n",
      "bestIteration = 1999\n",
      "498:\tloss: 0.1615991\tbest: 0.1473965 (477)\ttotal: 16h 44m 16s\tremaining: 2m\n",
      "bestTest = 0.1565431547\n",
      "bestIteration = 1996\n",
      "499:\tloss: 0.1565432\tbest: 0.1473965 (477)\ttotal: 16h 47m 25s\tremaining: 0us\n",
      "Estimating final quality...\n"
     ]
    }
   ],
   "source": [
    "rs = CB.randomized_search(grid, Pool(X_train, Y_train, cat_features=cat_features), \n",
    "                          cv=5, n_iter=500, stratified=True)"
   ]
  },
  {
   "cell_type": "code",
   "execution_count": null,
   "metadata": {
    "colab": {
     "base_uri": "https://localhost:8080/",
     "height": 56
    },
    "colab_type": "code",
    "executionInfo": {
     "elapsed": 5189,
     "status": "ok",
     "timestamp": 1595584745687,
     "user": {
      "displayName": "Nguyen Le",
      "photoUrl": "",
      "userId": "04864493325434450657"
     },
     "user_tz": 360
    },
    "id": "93DDMUN12OMx",
    "outputId": "567e86ed-e388-40ef-f500-2221cdf537b7"
   },
   "outputs": [
    {
     "name": "stdout",
     "output_type": "stream",
     "text": [
      "{'depth': 10, 'random_strength': 2, 'l2_leaf_reg': 1, 'one_hot_max_size': 4, 'iterations': 2000, 'bagging_temperature': 0.5, 'learning_rate': 0.1, 'leaf_estimation_method': 'Gradient'}\n"
     ]
    }
   ],
   "source": [
    "# auto_class_weights = 'Balanced'\n",
    "print(rs['params'])"
   ]
  },
  {
   "cell_type": "code",
   "execution_count": null,
   "metadata": {
    "colab": {
     "base_uri": "https://localhost:8080/",
     "height": 55
    },
    "colab_type": "code",
    "executionInfo": {
     "elapsed": 2248,
     "status": "ok",
     "timestamp": 1595413085572,
     "user": {
      "displayName": "Nguyen Le",
      "photoUrl": "",
      "userId": "04864493325434450657"
     },
     "user_tz": 360
    },
    "id": "EV-15X-WFNdh",
    "outputId": "afd8cdf2-a2f1-424f-e612-531849cc9f2c"
   },
   "outputs": [
    {
     "name": "stdout",
     "output_type": "stream",
     "text": [
      "{'depth': 10, 'random_strength': 2, 'l2_leaf_reg': 1, 'one_hot_max_size': 16, 'bagging_temperature': 0.5, 'learning_rate': 0.1, 'iterations': 1000.0, 'leaf_estimation_method': 'Newton'}\n"
     ]
    }
   ],
   "source": [
    "# auto_class_weights = None\n",
    "# class_weights = None\n",
    "print(rs['params'])"
   ]
  },
  {
   "cell_type": "markdown",
   "metadata": {
    "colab_type": "text",
    "id": "f1q25OkjFAvG"
   },
   "source": [
    "### Train & Score"
   ]
  },
  {
   "cell_type": "code",
   "execution_count": 94,
   "metadata": {
    "colab": {
     "base_uri": "https://localhost:8080/",
     "height": 954
    },
    "colab_type": "code",
    "executionInfo": {
     "elapsed": 3791387,
     "status": "ok",
     "timestamp": 1595986103316,
     "user": {
      "displayName": "Nguyen Le",
      "photoUrl": "",
      "userId": "04864493325434450657"
     },
     "user_tz": 360
    },
    "id": "tn4Mk3knFAvR",
    "outputId": "da744e74-be57-47be-a720-8044f399d0aa",
    "scrolled": true
   },
   "outputs": [
    {
     "name": "stdout",
     "output_type": "stream",
     "text": [
      "0:\tlearn: 1.0290113\ttotal: 96.2ms\tremaining: 6m 24s\n",
      "1000:\tlearn: 0.0980012\ttotal: 1m 30s\tremaining: 4m 31s\n",
      "2000:\tlearn: 0.0718651\ttotal: 3m 2s\tremaining: 3m 2s\n",
      "3000:\tlearn: 0.0565744\ttotal: 4m 34s\tremaining: 1m 31s\n",
      "3999:\tlearn: 0.0461306\ttotal: 6m 5s\tremaining: 0us\n",
      "0:\tlearn: 1.0287938\ttotal: 95.6ms\tremaining: 6m 22s\n",
      "1000:\tlearn: 0.0982663\ttotal: 1m 30s\tremaining: 4m 30s\n",
      "2000:\tlearn: 0.0720655\ttotal: 3m 1s\tremaining: 3m 1s\n",
      "3000:\tlearn: 0.0566833\ttotal: 4m 33s\tremaining: 1m 30s\n",
      "3999:\tlearn: 0.0461625\ttotal: 6m 4s\tremaining: 0us\n",
      "0:\tlearn: 1.0287408\ttotal: 95.8ms\tremaining: 6m 23s\n",
      "1000:\tlearn: 0.0978251\ttotal: 1m 30s\tremaining: 4m 31s\n",
      "2000:\tlearn: 0.0713968\ttotal: 3m 1s\tremaining: 3m 1s\n",
      "3000:\tlearn: 0.0558082\ttotal: 4m 33s\tremaining: 1m 30s\n",
      "3999:\tlearn: 0.0454681\ttotal: 6m 4s\tremaining: 0us\n",
      "0:\tlearn: 1.0285961\ttotal: 92.3ms\tremaining: 6m 9s\n",
      "1000:\tlearn: 0.0981102\ttotal: 1m 30s\tremaining: 4m 31s\n",
      "2000:\tlearn: 0.0719080\ttotal: 3m 2s\tremaining: 3m 1s\n",
      "3000:\tlearn: 0.0564344\ttotal: 4m 33s\tremaining: 1m 31s\n",
      "3999:\tlearn: 0.0461558\ttotal: 6m 5s\tremaining: 0us\n",
      "0:\tlearn: 1.0286866\ttotal: 92.5ms\tremaining: 6m 9s\n",
      "1000:\tlearn: 0.0983876\ttotal: 1m 30s\tremaining: 4m 30s\n",
      "2000:\tlearn: 0.0723325\ttotal: 3m 1s\tremaining: 3m 1s\n",
      "3000:\tlearn: 0.0568768\ttotal: 4m 33s\tremaining: 1m 30s\n",
      "3999:\tlearn: 0.0463016\ttotal: 6m 5s\tremaining: 0us\n",
      "0:\tlearn: 1.0284912\ttotal: 96ms\tremaining: 6m 23s\n",
      "1000:\tlearn: 0.0986402\ttotal: 1m 31s\tremaining: 4m 33s\n",
      "2000:\tlearn: 0.0724478\ttotal: 3m 3s\tremaining: 3m 2s\n",
      "3000:\tlearn: 0.0572092\ttotal: 4m 34s\tremaining: 1m 31s\n",
      "3999:\tlearn: 0.0467834\ttotal: 6m 5s\tremaining: 0us\n",
      "0:\tlearn: 1.0289253\ttotal: 102ms\tremaining: 6m 48s\n",
      "1000:\tlearn: 0.0979571\ttotal: 1m 30s\tremaining: 4m 31s\n",
      "2000:\tlearn: 0.0717153\ttotal: 3m 1s\tremaining: 3m 1s\n",
      "3000:\tlearn: 0.0561345\ttotal: 4m 33s\tremaining: 1m 30s\n",
      "3999:\tlearn: 0.0457277\ttotal: 6m 4s\tremaining: 0us\n",
      "0:\tlearn: 1.0289564\ttotal: 92.2ms\tremaining: 6m 8s\n",
      "1000:\tlearn: 0.0981245\ttotal: 1m 30s\tremaining: 4m 30s\n",
      "2000:\tlearn: 0.0720004\ttotal: 3m 1s\tremaining: 3m 1s\n",
      "3000:\tlearn: 0.0565331\ttotal: 4m 33s\tremaining: 1m 30s\n",
      "3999:\tlearn: 0.0462503\ttotal: 6m 4s\tremaining: 0us\n",
      "0:\tlearn: 1.0284854\ttotal: 94.7ms\tremaining: 6m 18s\n",
      "1000:\tlearn: 0.0980189\ttotal: 1m 30s\tremaining: 4m 30s\n",
      "2000:\tlearn: 0.0717040\ttotal: 3m 1s\tremaining: 3m 1s\n",
      "3000:\tlearn: 0.0563142\ttotal: 4m 33s\tremaining: 1m 30s\n",
      "3999:\tlearn: 0.0459656\ttotal: 6m 4s\tremaining: 0us\n",
      "0:\tlearn: 1.0285789\ttotal: 100ms\tremaining: 6m 40s\n",
      "1000:\tlearn: 0.0983665\ttotal: 1m 30s\tremaining: 4m 31s\n",
      "2000:\tlearn: 0.0725133\ttotal: 3m 2s\tremaining: 3m 1s\n",
      "3000:\tlearn: 0.0571904\ttotal: 4m 33s\tremaining: 1m 30s\n",
      "3999:\tlearn: 0.0465655\ttotal: 6m 5s\tremaining: 0us\n"
     ]
    }
   ],
   "source": [
    "# params = {'depth': 10,\n",
    "#           'random_strength': 2,\n",
    "#           'l2_leaf_reg': 1,\n",
    "#           'one_hot_max_size': 4,\n",
    "#           'bagging_temperature': 0.5,\n",
    "#           'learning_rate': 0.1,\n",
    "#           'iterations': 4000,\n",
    "#           'leaf_estimation_method': 'Gradient',\n",
    "#           'random_seed': 99,\n",
    "#           'loss_function': 'MultiClass',\n",
    "#           'custom_loss': 'TotalF1',\n",
    "#           'task_type': 'GPU',\n",
    "#           'max_ctr_complexity': 4}\n",
    "\n",
    "Y_pred = pd.DataFrame()\n",
    "feat_im = pd.DataFrame(X_vali.columns, columns=['Feature Id'])\n",
    "for i, seed in enumerate(np.random.randint(low=0, high=2**32, size=10, dtype=np.int64)):\n",
    "    CB = CatBoostClassifier(depth=10,\n",
    "                            random_strength=2,\n",
    "                            l2_leaf_reg=1, one_hot_max_size=4,\n",
    "                            bagging_temperature=0.5,\n",
    "                            learning_rate=0.1,\n",
    "                            iterations=4000,\n",
    "                            max_ctr_complexity=4,\n",
    "                            leaf_estimation_method='Gradient',\n",
    "                            loss_function='MultiClass',\n",
    "                            custom_loss='TotalF1',\n",
    "                            task_type='GPU',\n",
    "                            random_seed=seed)\n",
    "    CB.fit(X_train, Y_train, cat_features=cat_features, metric_period=1000)\n",
    "    Y_pred['run'+str(i)] = np.squeeze(CB.predict(X_vali))\n",
    "    feat_im['run'+str(i)] = CB.get_feature_importance(prettified=False)"
   ]
  },
  {
   "cell_type": "code",
   "execution_count": 97,
   "metadata": {
    "colab": {},
    "colab_type": "code",
    "executionInfo": {
     "elapsed": 586,
     "status": "ok",
     "timestamp": 1595986126898,
     "user": {
      "displayName": "Nguyen Le",
      "photoUrl": "",
      "userId": "04864493325434450657"
     },
     "user_tz": 360
    },
    "id": "DCAV7GkYUwpZ"
   },
   "outputs": [],
   "source": [
    "Y_pred.to_csv(path+'NLe/Y_pred_cb.csv', index=False)\n",
    "feat_im.to_csv(path+'NLe/feat_im_cb.csv', index=False)"
   ]
  },
  {
   "cell_type": "code",
   "execution_count": 98,
   "metadata": {
    "colab": {},
    "colab_type": "code",
    "executionInfo": {
     "elapsed": 65256,
     "status": "ok",
     "timestamp": 1595986195375,
     "user": {
      "displayName": "Nguyen Le",
      "photoUrl": "",
      "userId": "04864493325434450657"
     },
     "user_tz": 360
    },
    "id": "Hkjr3XmU_PWy"
   },
   "outputs": [],
   "source": [
    "Y_pred = Y_pred.mode(axis=1).iloc[:,0].values.reshape(-1,1)"
   ]
  },
  {
   "cell_type": "code",
   "execution_count": 99,
   "metadata": {
    "colab": {
     "base_uri": "https://localhost:8080/",
     "height": 92
    },
    "colab_type": "code",
    "executionInfo": {
     "elapsed": 726,
     "status": "ok",
     "timestamp": 1595986196126,
     "user": {
      "displayName": "Nguyen Le",
      "photoUrl": "",
      "userId": "04864493325434450657"
     },
     "user_tz": 360
    },
    "id": "toVO0htQXhNk",
    "outputId": "2b401ba4-45a6-45b0-9859-17519cd94a24"
   },
   "outputs": [
    {
     "name": "stdout",
     "output_type": "stream",
     "text": [
      "Accuracy:\t 0.9529482104880762\n",
      "F1 micro:\t 0.9529482104880762\n",
      "F1 macro:\t 0.9381979304442917\n",
      "F1 weighted:\t 0.9528584335057326\n"
     ]
    }
   ],
   "source": [
    "from sklearn.metrics import accuracy_score, f1_score\n",
    "print('Accuracy:\\t', accuracy_score(Y_vali, Y_pred))\n",
    "print('F1 micro:\\t', f1_score(Y_vali, Y_pred, average='micro'))\n",
    "print('F1 macro:\\t', f1_score(Y_vali, Y_pred, average='macro'))\n",
    "print('F1 weighted:\\t', f1_score(Y_vali, Y_pred, average='weighted'))"
   ]
  },
  {
   "cell_type": "code",
   "execution_count": 106,
   "metadata": {
    "colab": {
     "base_uri": "https://localhost:8080/",
     "height": 834
    },
    "colab_type": "code",
    "executionInfo": {
     "elapsed": 909,
     "status": "ok",
     "timestamp": 1595986429012,
     "user": {
      "displayName": "Nguyen Le",
      "photoUrl": "",
      "userId": "04864493325434450657"
     },
     "user_tz": 360
    },
    "id": "svcGHFsl_PW3",
    "outputId": "ba92dbf4-6da9-48ff-b7f3-fd19847550f8",
    "scrolled": true
   },
   "outputs": [
    {
     "data": {
      "text/plain": [
       "<matplotlib.axes._subplots.AxesSubplot at 0x7f0868f48358>"
      ]
     },
     "execution_count": 106,
     "metadata": {
      "tags": []
     },
     "output_type": "execute_result"
    },
    {
     "data": {
      "image/png": "[encoded data removed]",
      "text/plain": [
       "<Figure size 1000x1000 with 1 Axes>"
      ]
     },
     "metadata": {
      "tags": []
     },
     "output_type": "display_data"
    }
   ],
   "source": [
    "plt.figure(figsize=(10,10))\n",
    "feat_im.set_index('Feature Id').mean(axis=1).sort_values(ascending=True).plot(kind='barh')"
   ]
  },
  {
   "cell_type": "code",
   "execution_count": null,
   "metadata": {
    "colab": {},
    "colab_type": "code",
    "id": "aXzvEWdXMxJI"
   },
   "outputs": [],
   "source": []
  }
 ],
 "metadata": {
  "accelerator": "GPU",
  "colab": {
   "collapsed_sections": [
    "lGSwQNrNlrmB"
   ],
   "name": "classification_catboost_tuning.ipynb",
   "provenance": [],
   "toc_visible": true
  },
  "kernelspec": {
   "display_name": "Python 3",
   "language": "python",
   "name": "python3"
  },
  "language_info": {
   "codemirror_mode": {
    "name": "ipython",
    "version": 3
   },
   "file_extension": ".py",
   "mimetype": "text/x-python",
   "name": "python",
   "nbconvert_exporter": "python",
   "pygments_lexer": "ipython3",
   "version": "3.7.3"
  },
  "toc": {
   "base_numbering": 1,
   "nav_menu": {},
   "number_sections": true,
   "sideBar": true,
   "skip_h1_title": false,
   "title_cell": "Table of Contents",
   "title_sidebar": "Contents",
   "toc_cell": false,
   "toc_position": {
    "height": "calc(100% - 180px)",
    "left": "10px",
    "top": "150px",
    "width": "252.333px"
   },
   "toc_section_display": true,
   "toc_window_display": true
  },
  "varInspector": {
   "cols": {
    "lenName": 16,
    "lenType": 16,
    "lenVar": 40
   },
   "kernels_config": {
    "python": {
     "delete_cmd_postfix": "",
     "delete_cmd_prefix": "del ",
     "library": "var_list.py",
     "varRefreshCmd": "print(var_dic_list())"
    },
    "r": {
     "delete_cmd_postfix": ") ",
     "delete_cmd_prefix": "rm(",
     "library": "var_list.r",
     "varRefreshCmd": "cat(var_dic_list()) "
    }
   },
   "types_to_exclude": [
    "module",
    "function",
    "builtin_function_or_method",
    "instance",
    "_Feature"
   ],
   "window_display": false
  }
 },
 "nbformat": 4,
 "nbformat_minor": 1
}
